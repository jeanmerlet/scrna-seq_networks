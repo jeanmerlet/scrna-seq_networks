{
 "cells": [
  {
   "cell_type": "code",
   "execution_count": 1,
   "id": "2525fd27",
   "metadata": {},
   "outputs": [],
   "source": [
    "import numpy as np\n",
    "import pandas as pd\n",
    "from scipy.sparse import csr_matrix\n",
    "from scipy.io import mmwrite\n",
    "import h5py\n",
    "import loompy\n",
    "import os, re"
   ]
  },
  {
   "cell_type": "code",
   "execution_count": 2,
   "id": "03823ba9",
   "metadata": {},
   "outputs": [],
   "source": [
    "path = '/lustre/orion/syb111/proj-shared/Projects/scrna-seq/data/human/heart/healthy/sanger/raw/hca_heart_global_ctl200723_freeze.h5ad'\n",
    "path = '/lustre/orion/syb111/proj-shared/Projects/scrna-seq/data/human/GTEx_8_tissues_snRNAseq_atlas_071421.public_obs.h5ad'\n",
    "path = '/gpfs/alpine2/syb112/proj-shared/Projects/scrna-seq/data/human/pbmc/healthy/washington/raw/all_pbmcs/all_pbmcs_rna.h5ad'\n",
    "path = '/gpfs/alpine2/syb112/proj-shared/Projects/scrna-seq/data/human/pbmc/healthy/washington/raw/all_pbmcs/all_pbmcs_rna_harmony.h5ad'"
   ]
  },
  {
   "cell_type": "markdown",
   "id": "124ef544-8370-497d-b828-822ddcff9043",
   "metadata": {},
   "source": [
    "# Loompy"
   ]
  },
  {
   "cell_type": "code",
   "execution_count": 1,
   "id": "cdc767dc-187c-46c0-b586-6d335482bf66",
   "metadata": {},
   "outputs": [
    {
     "name": "stderr",
     "output_type": "stream",
     "text": [
      "/lustre/orion/syb111/proj-shared/Personal/jmerlet/envs/conda/frontier/cytograph/lib/python3.9/site-packages/numba/np/ufunc/parallel.py:365: NumbaWarning: The TBB threading layer requires TBB version 2019.5 or later i.e., TBB_INTERFACE_VERSION >= 11005. Found TBB_INTERFACE_VERSION = 10002. The TBB threading layer is disabled.\n",
      "  warnings.warn(problem)\n"
     ]
    }
   ],
   "source": [
    "import loompy"
   ]
  },
  {
   "cell_type": "code",
   "execution_count": 13,
   "id": "d858bf50-3aa0-475d-81dc-de89dee19da7",
   "metadata": {},
   "outputs": [],
   "source": [
    "import numpy as np\n",
    "import scipy.sparse as sparse\n",
    "import os"
   ]
  },
  {
   "cell_type": "code",
   "execution_count": 3,
   "id": "82ec59e6-e130-435e-b866-3ffc78818b1d",
   "metadata": {},
   "outputs": [],
   "source": [
    "path = '/lustre/orion/syb111/proj-shared/Projects/scrna-seq/data/human/brain/healthy/nemo/raw/linnarson/adult_human_20221007.loom'"
   ]
  },
  {
   "cell_type": "code",
   "execution_count": 4,
   "id": "016f9fc3-f2de-4ed5-8647-60d208295535",
   "metadata": {},
   "outputs": [
    {
     "data": {
      "text/html": [
       "<p>59480 rows, 3369219 columns, 1 layer<br/>(showing up to 10x10)<br/>/lustre/orion/syb111/proj-shared/Projects/scrna-seq/data/human/brain/healthy/nemo/raw/linnarson/adult_human_20221007.loom<br/>name: <em>20221007T105614.490009Z</em><br/>name: <em>3.0.0</em><br/><table><tr><td>&nbsp;</td><td>&nbsp;</td><td>&nbsp;</td><td><strong>Age</strong></td><td>42.0</td><td>42.0</td><td>29.0</td><td>29.0</td><td>50.0</td><td>29.0</td><td>29.0</td><td>29.0</td><td>29.0</td><td>29.0</td><td>...</td></tr><tr><td>&nbsp;</td><td>&nbsp;</td><td>&nbsp;</td><td><strong>CellCycle</strong></td><td>0.0010152284263959391</td><td>0.0005431830526887561</td><td>0.0028076743097800658</td><td>0.0005899705014749262</td><td>0.0007797270955165692</td><td>0.0013729977116704807</td><td>0.0007272727272727272</td><td>0.001171303074670571</td><td>0.0019782393669634025</td><td>0.0027303754266211604</td><td>...</td></tr><tr><td>&nbsp;</td><td>&nbsp;</td><td>&nbsp;</td><td><strong>CellID</strong></td><td>10X376_7:GAACGTTGTATCGCTA</td><td>10X376_8:GAATCGTTCGATACGT</td><td>10X393_5:GCGTTTCCATAGATGA</td><td>10X377_4:CTCAACCTCATTTCCA</td><td>10X220_8:CGGGACTTCGGTGAAG</td><td>10X230_5:GTGTAACGTACCTTCC</td><td>10X264_3:CAGTGCGAGCCTTCTC</td><td>10X418_1:TGGATGTGTATCGATC</td><td>10X393_4:TGAGGGAGTGTCATTG</td><td>10X319_5:CTCCCAATCCAACACA</td><td>...</td></tr><tr><td>&nbsp;</td><td>&nbsp;</td><td>&nbsp;</td><td><strong>Chemistry</strong></td><td>v3</td><td>v3</td><td>v3</td><td>v3</td><td>v3</td><td>v3</td><td>v3</td><td>v3.1</td><td>v3</td><td>v3</td><td>...</td></tr><tr><td>&nbsp;</td><td>&nbsp;</td><td>&nbsp;</td><td><strong>Clusters</strong></td><td>0</td><td>0</td><td>0</td><td>0</td><td>0</td><td>0</td><td>0</td><td>0</td><td>0</td><td>0</td><td>...</td></tr><tr><td>&nbsp;</td><td>&nbsp;</td><td>&nbsp;</td><td><strong>Donor</strong></td><td>H19.30.001</td><td>H19.30.001</td><td>H19.30.002</td><td>H19.30.002</td><td>H18.30.002</td><td>H19.30.002</td><td>H19.30.002</td><td>H19.30.002</td><td>H19.30.002</td><td>H19.30.002</td><td>...</td></tr><tr><td>&nbsp;</td><td>&nbsp;</td><td>&nbsp;</td><td><strong>NGenes</strong></td><td>1254.0</td><td>1038.0</td><td>1227.0</td><td>1043.0</td><td>1394.0</td><td>1250.0</td><td>953.0</td><td>1527.0</td><td>718.0</td><td>1582.0</td><td>...</td></tr><tr><td>&nbsp;</td><td>&nbsp;</td><td>&nbsp;</td><td><strong>ROIGroupCoarse</strong></td><td>Cerebral cortex</td><td>Cerebral cortex</td><td>Cerebellum</td><td>Thalamus</td><td>Cerebral nuclei</td><td>Hippocampus</td><td>Cerebral cortex</td><td>Pons</td><td>Hippocampus</td><td>Cerebral nuclei</td><td>...</td></tr><tr><td>&nbsp;</td><td>&nbsp;</td><td>&nbsp;</td><td><strong>ROIGroupFine</strong></td><td>CerebralCortex</td><td>CerebralCortex</td><td>Cerebellum</td><td>Thalamus</td><td>BasalForebrain</td><td>Hippocampus</td><td>CerebralCortex</td><td>Pons</td><td>Hippocampus</td><td>BasalForebrain</td><td>...</td></tr><tr><td>&nbsp;</td><td>&nbsp;</td><td>&nbsp;</td><td><strong>Roi</strong></td><td>ITG</td><td>ITG</td><td>CbDN</td><td>LP</td><td>Cla</td><td>DGR-CA4Rpy</td><td>LEC</td><td>PB</td><td>CA4C-DGC</td><td>GPe</td><td>...</td></tr><tr><td>&nbsp;</td><td>&nbsp;</td><td>&nbsp;</td><td><strong>SampleID</strong></td><td>10X376_7</td><td>10X376_8</td><td>10X393_5</td><td>10X377_4</td><td>10X220_8</td><td>10X230_5</td><td>10X264_3</td><td>10X418_1</td><td>10X393_4</td><td>10X319_5</td><td>...</td></tr><tr><td>&nbsp;</td><td>&nbsp;</td><td>&nbsp;</td><td><strong>Sex</strong></td><td>M</td><td>M</td><td>M</td><td>M</td><td>M</td><td>M</td><td>M</td><td>M</td><td>M</td><td>M</td><td>...</td></tr><tr><td>&nbsp;</td><td>&nbsp;</td><td>&nbsp;</td><td><strong>Subclusters</strong></td><td>3293</td><td>3293</td><td>3293</td><td>3293</td><td>3293</td><td>3293</td><td>3293</td><td>3293</td><td>3293</td><td>3293</td><td>...</td></tr><tr><td>&nbsp;</td><td>&nbsp;</td><td>&nbsp;</td><td><strong>Tissue</strong></td><td>Cerebral cortex (Cx) - Inferior temporal gyrus - ITG</td><td>Cerebral cortex (Cx) - Inferior temporal gyrus - ITG</td><td>Cerebellum (CB) - Cerebellar deep nuclei - CbDN</td><td>Thalamus (THM) - lateral nuclear complex of thalamus (LNC) - lateral posterior nucleus of thalamus - LP</td><td>Claustrum - Cla</td><td>Body of hippocampus (HiB) - Rostral DG-CA4</td><td>Cerebral cortex (Cx) - Anterior parahippocampal gyrus (AG) - Lateral entorhinal cortex - LEC</td><td>Pons (Pn) - Pontine reticular formation (PnRF) - parabrachial nuclei - PB</td><td>Tail of Hippocampus (HiT) - Caudal Hippocampus - CA4-DGC</td><td>Basal nuclei (BN) - Globus pallidus (GP) - External segment of globus pallidus - GPe</td><td>...</td></tr><tr><td>&nbsp;</td><td>&nbsp;</td><td>&nbsp;</td><td><strong>TotalUMI</strong></td><td>1970.0</td><td>1841.0</td><td>2137.0</td><td>1695.0</td><td>2565.0</td><td>2185.0</td><td>1375.0</td><td>3415.0</td><td>1011.0</td><td>2930.0</td><td>...</td></tr><tr><td><strong>Accession</strong></td><td><strong>Gene</strong></td><td><strong>Valid</strong></td><td>&nbsp;</td><td>&nbsp;</td><td>&nbsp;</td><td>&nbsp;</td><td>&nbsp;</td><td>&nbsp;</td><td>&nbsp;</td><td>&nbsp;</td><td>&nbsp;</td><td>&nbsp;</td><td>&nbsp;</td><td>...</td></tr><tr><td>ENSG00000129910.8</td><td>CDH15</td><td>1</td><td>&nbsp;</td><td>0.0</td><td>0.0</td><td>0.0</td><td>0.0</td><td>0.0</td><td>0.0</td><td>0.0</td><td>0.0</td><td>0.0</td><td>0.0</td><td>...</td></tr><tr><td>ENSG00000259803.7</td><td>SLC22A31</td><td>1</td><td>&nbsp;</td><td>0.0</td><td>0.0</td><td>0.0</td><td>0.0</td><td>0.0</td><td>0.0</td><td>0.0</td><td>0.0</td><td>0.0</td><td>0.0</td><td>...</td></tr><tr><td>ENSG00000139899.11</td><td>CBLN3</td><td>1</td><td>&nbsp;</td><td>0.0</td><td>0.0</td><td>0.0</td><td>0.0</td><td>0.0</td><td>0.0</td><td>0.0</td><td>0.0</td><td>0.0</td><td>0.0</td><td>...</td></tr><tr><td>ENSG00000286891.1</td><td>AC080132.1</td><td>1</td><td>&nbsp;</td><td>0.0</td><td>0.0</td><td>0.0</td><td>0.0</td><td>0.0</td><td>0.0</td><td>0.0</td><td>0.0</td><td>0.0</td><td>0.0</td><td>...</td></tr><tr><td>ENSG00000132677.13</td><td>RHBG</td><td>1</td><td>&nbsp;</td><td>0.0</td><td>0.0</td><td>0.0</td><td>0.0</td><td>0.0</td><td>0.0</td><td>0.0</td><td>0.0</td><td>0.0</td><td>0.0</td><td>...</td></tr><tr><td>ENSG00000174171.6</td><td>AC020659.1</td><td>1</td><td>&nbsp;</td><td>0.0</td><td>0.0</td><td>0.0</td><td>0.0</td><td>0.0</td><td>0.0</td><td>0.0</td><td>0.0</td><td>0.0</td><td>0.0</td><td>...</td></tr><tr><td>ENSG00000287227.1</td><td>AC021698.1</td><td>1</td><td>&nbsp;</td><td>0.0</td><td>0.0</td><td>0.0</td><td>0.0</td><td>0.0</td><td>0.0</td><td>0.0</td><td>0.0</td><td>0.0</td><td>0.0</td><td>...</td></tr><tr><td>ENSG00000286097.1</td><td>AC108517.2</td><td>1</td><td>&nbsp;</td><td>0.0</td><td>0.0</td><td>0.0</td><td>0.0</td><td>0.0</td><td>0.0</td><td>0.0</td><td>0.0</td><td>0.0</td><td>0.0</td><td>...</td></tr><tr><td>ENSG00000287226.1</td><td>AC084740.1</td><td>1</td><td>&nbsp;</td><td>0.0</td><td>0.0</td><td>0.0</td><td>0.0</td><td>0.0</td><td>0.0</td><td>0.0</td><td>0.0</td><td>0.0</td><td>0.0</td><td>...</td></tr><tr><td>ENSG00000257242.8</td><td>LINC01619</td><td>1</td><td>&nbsp;</td><td>0.0</td><td>1.0</td><td>1.0</td><td>0.0</td><td>0.0</td><td>0.0</td><td>0.0</td><td>2.0</td><td>0.0</td><td>0.0</td><td>...</td></tr><tr><td>...</td><td>...</td><td>...</td><td>...</td><td>...</td><td>...</td><td>...</td><td>...</td><td>...</td><td>...</td><td>...</td><td>...</td><td>...</td><td>...</td><td>...</td></tr></table>"
      ],
      "text/plain": [
       "<loompy.loompy.LoomConnection at 0x7f9644e7acd0>"
      ]
     },
     "execution_count": 4,
     "metadata": {},
     "output_type": "execute_result"
    }
   ],
   "source": [
    "ds = loompy.connect(path)\n",
    "ds"
   ]
  },
  {
   "cell_type": "code",
   "execution_count": 5,
   "id": "8c0ca149-bc99-496f-af2f-b85a984f7bba",
   "metadata": {},
   "outputs": [],
   "source": [
    "ds.close()"
   ]
  },
  {
   "cell_type": "code",
   "execution_count": 6,
   "id": "cfd56c33-8a11-41b7-a4df-ef59f885f7a9",
   "metadata": {},
   "outputs": [],
   "source": [
    "with loompy.connect(path) as ds:\n",
    "    coarse = ds.ca['ROIGroupCoarse']\n",
    "    hypo_idx = coarse == 'Hypothalamus'\n",
    "    all_bcs = ds.ca['CellID']\n",
    "    hypo_bcs = all_bcs[hypo_idx]"
   ]
  },
  {
   "cell_type": "code",
   "execution_count": 7,
   "id": "f16f6d23-4b27-42e6-bdbf-7fa82c909548",
   "metadata": {},
   "outputs": [
    {
     "name": "stdout",
     "output_type": "stream",
     "text": [
      "# bcs: 3369219\n",
      "# hypo bcs: 134471\n"
     ]
    }
   ],
   "source": [
    "print(f'# bcs: {len(all_bcs)}')\n",
    "print(f'# hypo bcs: {len(hypo_bcs)}')"
   ]
  },
  {
   "cell_type": "code",
   "execution_count": 8,
   "id": "5028c98c-9b7d-4392-a892-d278c40260cb",
   "metadata": {},
   "outputs": [],
   "source": [
    "hypo_sample_ids = [bc[:8] for bc in hypo_bcs]\n",
    "uniq_hypo_sample_ids, hypo_sample_counts = np.unique(hypo_sample_ids, return_counts=True)"
   ]
  },
  {
   "cell_type": "markdown",
   "id": "74fe088e-798c-4f37-bdd8-445f7ade2656",
   "metadata": {},
   "source": [
    "### For the Root.yaml file"
   ]
  },
  {
   "cell_type": "code",
   "execution_count": 9,
   "id": "9fe7bff6-964d-4472-b85d-dd320246589e",
   "metadata": {},
   "outputs": [
    {
     "data": {
      "text/plain": [
       "array(['10X190_5', '10X190_6', '10X192_7', '10X192_8', '10X193_3',\n",
       "       '10X193_4', '10X203_7', '10X203_8', '10X360_7', '10X360_8',\n",
       "       '10X362_3', '10X362_4', '10X362_5', '10X362_6', '10X376_5',\n",
       "       '10X376_6', '10X380_5', '10X380_6', '10X380_7', '10X380_8',\n",
       "       '10X389_1', '10X389_2', '10X392_3', '10X392_4'], dtype='<U8')"
      ]
     },
     "execution_count": 9,
     "metadata": {},
     "output_type": "execute_result"
    }
   ],
   "source": [
    "uniq_hypo_sample_ids"
   ]
  },
  {
   "cell_type": "code",
   "execution_count": 10,
   "id": "deb68a38-6d32-468d-8d68-6a17adfab4db",
   "metadata": {},
   "outputs": [
    {
     "data": {
      "text/plain": [
       "array([6326, 6847, 6380, 6177, 4983, 5381, 7519, 7460, 9757, 8971, 5847,\n",
       "       5367, 3319, 3258, 4148, 4397, 5436, 6046, 3475, 3790, 5119, 4980,\n",
       "       4389, 5099])"
      ]
     },
     "execution_count": 10,
     "metadata": {},
     "output_type": "execute_result"
    }
   ],
   "source": [
    "hypo_sample_counts"
   ]
  },
  {
   "cell_type": "markdown",
   "id": "6feb42fa-82e9-45ec-949f-51d5af46441f",
   "metadata": {},
   "source": [
    "### Writing each Hypo sample to a .loom file"
   ]
  },
  {
   "cell_type": "code",
   "execution_count": 11,
   "id": "f4658334-5fea-48e0-83d9-56275d5540d6",
   "metadata": {},
   "outputs": [],
   "source": [
    "hypo_bcs_by_sample = {}\n",
    "for hypo_sample_id in uniq_hypo_sample_ids:\n",
    "    hypo_sample_bcs = np.array([True if bc[:8] == hypo_sample_id else False for bc in all_bcs])\n",
    "    hypo_bcs_by_sample[hypo_sample_id] = hypo_sample_bcs"
   ]
  },
  {
   "cell_type": "code",
   "execution_count": 25,
   "id": "880e86ca-6734-4567-80b2-154845265ef7",
   "metadata": {},
   "outputs": [],
   "source": [
    "with loompy.connect(path) as ds:\n",
    "    ra = {}\n",
    "    for key, value in ds.ra.items():\n",
    "        ra[key] = value"
   ]
  },
  {
   "cell_type": "code",
   "execution_count": null,
   "id": "323bb0a0-35a1-480b-a96d-83e226f0c77b",
   "metadata": {},
   "outputs": [
    {
     "name": "stdout",
     "output_type": "stream",
     "text": [
      "10X190_5\n",
      "10X190_6\n",
      "10X192_7\n",
      "10X192_8\n",
      "10X193_3\n",
      "10X193_4\n",
      "10X203_7\n"
     ]
    }
   ],
   "source": [
    "hypo_loom_dir = '/lustre/orion/syb111/proj-shared/Projects/scrna-seq/data/human/brain/healthy/nemo/raw/linnarson/hypo_looms'\n",
    "with loompy.connect(path) as ds:\n",
    "    for sample, idx in hypo_bcs_by_sample.items():\n",
    "        print(sample)\n",
    "        out_path = os.path.join(hypo_loom_dir, str(sample) + '.loom')\n",
    "        ca = {}\n",
    "        for key, value in ds.ca.items():\n",
    "            ca[key] = value[idx]\n",
    "        mtx = ds[:, idx]\n",
    "        loompy.create(out_path, mtx, ra, ca)\n",
    "    # kernel dies on below\n",
    "    #hypo_ds = ds[:, hypo_idx].sparse()\n",
    "    "
   ]
  },
  {
   "cell_type": "code",
   "execution_count": 23,
   "id": "15b92e85-875d-4e14-8687-9abf992621a3",
   "metadata": {},
   "outputs": [],
   "source": []
  },
  {
   "cell_type": "markdown",
   "id": "402b65de-33e9-4305-81c6-76e854a24005",
   "metadata": {},
   "source": [
    "# H5"
   ]
  },
  {
   "cell_type": "code",
   "execution_count": 3,
   "id": "e3a4a3ce",
   "metadata": {},
   "outputs": [
    {
     "name": "stdout",
     "output_type": "stream",
     "text": [
      "attrs: ['CreationDate', 'LOOM_SPEC_VERSION']\n",
      "col_attrs: ['Age', 'CellCycle', 'CellID', 'Chemistry', 'Clusters', 'Donor', 'NGenes', 'ROIGroupCoarse', 'ROIGroupFine', 'Roi', 'SampleID', 'Sex', 'Subclusters', 'Tissue', 'TotalUMI']\n",
      "col_graphs: []\n",
      "layers: []\n"
     ]
    },
    {
     "ename": "KeyboardInterrupt",
     "evalue": "",
     "output_type": "error",
     "traceback": [
      "\u001b[0;31m---------------------------------------------------------------------------\u001b[0m",
      "\u001b[0;31mKeyboardInterrupt\u001b[0m                         Traceback (most recent call last)",
      "\u001b[0;32m<ipython-input-3-4d273c07bc5c>\u001b[0m in \u001b[0;36m<module>\u001b[0;34m\u001b[0m\n\u001b[1;32m      4\u001b[0m         \u001b[0;31m#if key == 'obs':\u001b[0m\u001b[0;34m\u001b[0m\u001b[0;34m\u001b[0m\u001b[0;34m\u001b[0m\u001b[0m\n\u001b[1;32m      5\u001b[0m             \u001b[0;31m#bc_meta = list(f[key])\u001b[0m\u001b[0;34m\u001b[0m\u001b[0;34m\u001b[0m\u001b[0;34m\u001b[0m\u001b[0m\n\u001b[0;32m----> 6\u001b[0;31m         \u001b[0mprint\u001b[0m\u001b[0;34m(\u001b[0m\u001b[0;34mf\"{key}: {list(f[key])}\"\u001b[0m\u001b[0;34m)\u001b[0m\u001b[0;34m\u001b[0m\u001b[0;34m\u001b[0m\u001b[0m\n\u001b[0m",
      "\u001b[0;32m/sw/andes/python/3.7/anaconda-base/lib/python3.7/site-packages/h5py/_hl/dataset.py\u001b[0m in \u001b[0;36m__iter__\u001b[0;34m(self)\u001b[0m\n\u001b[1;32m    472\u001b[0m             \u001b[0;32mraise\u001b[0m \u001b[0mTypeError\u001b[0m\u001b[0;34m(\u001b[0m\u001b[0;34m\"Can't iterate over a scalar dataset\"\u001b[0m\u001b[0;34m)\u001b[0m\u001b[0;34m\u001b[0m\u001b[0;34m\u001b[0m\u001b[0m\n\u001b[1;32m    473\u001b[0m         \u001b[0;32mfor\u001b[0m \u001b[0mi\u001b[0m \u001b[0;32min\u001b[0m \u001b[0mxrange\u001b[0m\u001b[0;34m(\u001b[0m\u001b[0mshape\u001b[0m\u001b[0;34m[\u001b[0m\u001b[0;36m0\u001b[0m\u001b[0;34m]\u001b[0m\u001b[0;34m)\u001b[0m\u001b[0;34m:\u001b[0m\u001b[0;34m\u001b[0m\u001b[0;34m\u001b[0m\u001b[0m\n\u001b[0;32m--> 474\u001b[0;31m             \u001b[0;32myield\u001b[0m \u001b[0mself\u001b[0m\u001b[0;34m[\u001b[0m\u001b[0mi\u001b[0m\u001b[0;34m]\u001b[0m\u001b[0;34m\u001b[0m\u001b[0;34m\u001b[0m\u001b[0m\n\u001b[0m\u001b[1;32m    475\u001b[0m \u001b[0;34m\u001b[0m\u001b[0m\n\u001b[1;32m    476\u001b[0m     \u001b[0;34m@\u001b[0m\u001b[0mwith_phil\u001b[0m\u001b[0;34m\u001b[0m\u001b[0;34m\u001b[0m\u001b[0m\n",
      "\u001b[0;32mh5py/_objects.pyx\u001b[0m in \u001b[0;36mh5py._objects.with_phil.wrapper\u001b[0;34m()\u001b[0m\n",
      "\u001b[0;32mh5py/_objects.pyx\u001b[0m in \u001b[0;36mh5py._objects.with_phil.wrapper\u001b[0;34m()\u001b[0m\n",
      "\u001b[0;32m/sw/andes/python/3.7/anaconda-base/lib/python3.7/site-packages/h5py/_hl/dataset.py\u001b[0m in \u001b[0;36m__getitem__\u001b[0;34m(self, args)\u001b[0m\n\u001b[1;32m    571\u001b[0m         \u001b[0mmspace\u001b[0m \u001b[0;34m=\u001b[0m \u001b[0mh5s\u001b[0m\u001b[0;34m.\u001b[0m\u001b[0mcreate_simple\u001b[0m\u001b[0;34m(\u001b[0m\u001b[0mmshape\u001b[0m\u001b[0;34m)\u001b[0m\u001b[0;34m\u001b[0m\u001b[0;34m\u001b[0m\u001b[0m\n\u001b[1;32m    572\u001b[0m         \u001b[0mfspace\u001b[0m \u001b[0;34m=\u001b[0m \u001b[0mselection\u001b[0m\u001b[0;34m.\u001b[0m\u001b[0mid\u001b[0m\u001b[0;34m\u001b[0m\u001b[0;34m\u001b[0m\u001b[0m\n\u001b[0;32m--> 573\u001b[0;31m         \u001b[0mself\u001b[0m\u001b[0;34m.\u001b[0m\u001b[0mid\u001b[0m\u001b[0;34m.\u001b[0m\u001b[0mread\u001b[0m\u001b[0;34m(\u001b[0m\u001b[0mmspace\u001b[0m\u001b[0;34m,\u001b[0m \u001b[0mfspace\u001b[0m\u001b[0;34m,\u001b[0m \u001b[0marr\u001b[0m\u001b[0;34m,\u001b[0m \u001b[0mmtype\u001b[0m\u001b[0;34m,\u001b[0m \u001b[0mdxpl\u001b[0m\u001b[0;34m=\u001b[0m\u001b[0mself\u001b[0m\u001b[0;34m.\u001b[0m\u001b[0m_dxpl\u001b[0m\u001b[0;34m)\u001b[0m\u001b[0;34m\u001b[0m\u001b[0;34m\u001b[0m\u001b[0m\n\u001b[0m\u001b[1;32m    574\u001b[0m \u001b[0;34m\u001b[0m\u001b[0m\n\u001b[1;32m    575\u001b[0m         \u001b[0;31m# Patch up the output for NumPy\u001b[0m\u001b[0;34m\u001b[0m\u001b[0;34m\u001b[0m\u001b[0;34m\u001b[0m\u001b[0m\n",
      "\u001b[0;31mKeyboardInterrupt\u001b[0m: "
     ]
    }
   ],
   "source": [
    "# to see all the hd5 group names\n",
    "with h5py.File(path, 'r') as f:\n",
    "    for key in f.keys():\n",
    "        #if key == 'obs':\n",
    "            #bc_meta = list(f[key])\n",
    "        print(f\"{key}: {list(f[key])}\")"
   ]
  },
  {
   "cell_type": "code",
   "execution_count": 6,
   "id": "00093993",
   "metadata": {},
   "outputs": [],
   "source": [
    "with h5py.File(path, 'r') as f:\n",
    "    bcs = f['obs']['_index'][()]\n",
    "    genes = f['var']['_index'][()]"
   ]
  },
  {
   "cell_type": "code",
   "execution_count": 7,
   "id": "5ea41de3",
   "metadata": {},
   "outputs": [
    {
     "data": {
      "text/plain": [
       "array(['MIR1302-2HG', 'FAM138A', 'OR4F5', 'AL627309.1', 'AL627309.3',\n",
       "       'AL627309.2', 'AL627309.5', 'AL627309.4', 'AP006222.2',\n",
       "       'AL732372.1'], dtype=object)"
      ]
     },
     "execution_count": 7,
     "metadata": {},
     "output_type": "execute_result"
    }
   ],
   "source": [
    "genes[:10]"
   ]
  },
  {
   "cell_type": "code",
   "execution_count": 8,
   "id": "3eb3af9f",
   "metadata": {},
   "outputs": [
    {
     "data": {
      "text/plain": [
       "array(['ALAW-AS044-1_AAAGCAAGTAGCTTGT-1',\n",
       "       'ALAW-AS044-1_AAAGCAATCTCAAGTG-1',\n",
       "       'ALAW-AS044-1_AAAGTAGGTGTTGAGG-1',\n",
       "       'ALAW-AS044-1_AACCATGCACCGATAT-1',\n",
       "       'ALAW-AS044-1_AACCATGCATGCCACG-1',\n",
       "       'ALAW-AS044-1_AACTCAGTCGCCTGTT-1',\n",
       "       'ALAW-AS044-1_AACTCCCGTCTCCATC-1',\n",
       "       'ALAW-AS044-1_AACTCCCTCATAACCG-1',\n",
       "       'ALAW-AS044-1_AACTGGTAGAGCCCAA-1',\n",
       "       'ALAW-AS044-1_AAGCCGCAGTGCCAGA-1'], dtype=object)"
      ]
     },
     "execution_count": 8,
     "metadata": {},
     "output_type": "execute_result"
    }
   ],
   "source": [
    "bcs[:10]"
   ]
  },
  {
   "cell_type": "code",
   "execution_count": 14,
   "id": "1bba3078",
   "metadata": {},
   "outputs": [
    {
     "name": "stdout",
     "output_type": "stream",
     "text": [
      "Alias symbols: ['1-8D, DSPA2c' '1-8U, DSPA2b' '1C7, NKp30, CD337' ...\n",
      " 'y+LAT-2, KIAA0245, LAT3, LAT-2' 'yt14r, CHR14SYT, Strep14' 'α4']\n",
      "Approved name: ['1,4-alpha-glucan branching enzyme 1'\n",
      " '1-acylglycerol-3-phosphate O-acyltransferase 1'\n",
      " '1-acylglycerol-3-phosphate O-acyltransferase 2' ...\n",
      " 'zymogen granule protein 16' 'zymogen granule protein 16B' 'zyxin']\n",
      "Approved symbol: ['A1BG' 'A1CF' 'A2M' ... 'ZZEF1' 'ZZZ3' 'nan']\n",
      "Chromosome: ['1' '10' '11' '12' '13' '14' '15' '16' '17' '18' '19' '2' '20' '21' '22'\n",
      " '3' '4' '5' '6' '7' '8' '9' 'X' 'Y']\n",
      "Previous symbols: ['A1S9T, GXP1, UBE1' 'A2LD1' 'A2MRAP, RAP' ... 'ZYG11' 'ZZANK1' 'nan']\n",
      "Source: ['ensembl' 'ensembl_havana' 'havana']\n",
      "Status: ['Approved' 'nan']\n",
      "Strand: ['+' '-']\n",
      "gene_biotype: ['protein_coding']\n",
      "gene_name: ['A1BG' 'A1CF' 'A2M' ... 'ZYX' 'ZZEF1' 'ZZZ3']\n",
      "gene_source: ['ensembl' 'ensembl_havana' 'havana']\n"
     ]
    }
   ],
   "source": [
    "with h5py.File(path, 'r') as f:\n",
    "    for key in f['var']['__categories'].keys():\n",
    "        print(f\"{key}: {f['var']['__categories'][key][()]}\")"
   ]
  },
  {
   "cell_type": "code",
   "execution_count": 15,
   "id": "ea54f38c",
   "metadata": {},
   "outputs": [
    {
     "name": "stdout",
     "output_type": "stream",
     "text": [
      "Alias symbols: <HDF5 dataset \"Alias symbols\": shape (17695,), type \"<i2\">\n",
      "Approved name: <HDF5 dataset \"Approved name\": shape (17695,), type \"<i2\">\n",
      "Approved symbol: <HDF5 dataset \"Approved symbol\": shape (17695,), type \"<i2\">\n",
      "Chromosome: <HDF5 dataset \"Chromosome\": shape (17695,), type \"|i1\">\n",
      "End: <HDF5 dataset \"End\": shape (17695,), type \"<i4\">\n",
      "Previous symbols: <HDF5 dataset \"Previous symbols\": shape (17695,), type \"<i2\">\n",
      "Source: <HDF5 dataset \"Source\": shape (17695,), type \"|i1\">\n",
      "Start: <HDF5 dataset \"Start\": shape (17695,), type \"<i4\">\n",
      "Status: <HDF5 dataset \"Status\": shape (17695,), type \"|i1\">\n",
      "Strand: <HDF5 dataset \"Strand\": shape (17695,), type \"|i1\">\n",
      "__categories: <HDF5 group \"/var/__categories\" (11 members)>\n",
      "_index: <HDF5 dataset \"_index\": shape (17695,), type \"|O\">\n",
      "gene_biotype: <HDF5 dataset \"gene_biotype\": shape (17695,), type \"|i1\">\n",
      "gene_coding_length: <HDF5 dataset \"gene_coding_length\": shape (17695,), type \"<i4\">\n",
      "gene_ids: <HDF5 dataset \"gene_ids\": shape (17695,), type \"|O\">\n",
      "gene_include: <HDF5 dataset \"gene_include\": shape (17695,), type \"|b1\">\n",
      "gene_length: <HDF5 dataset \"gene_length\": shape (17695,), type \"<i4\">\n",
      "gene_name: <HDF5 dataset \"gene_name\": shape (17695,), type \"<i2\">\n",
      "gene_source: <HDF5 dataset \"gene_source\": shape (17695,), type \"|i1\">\n",
      "n_cells: <HDF5 dataset \"n_cells\": shape (17695,), type \"<i8\">\n"
     ]
    }
   ],
   "source": [
    "# printing head of each var\n",
    "with h5py.File(path, 'r') as f:\n",
    "    for key in f.keys():\n",
    "        if key == 'var':\n",
    "            for var_key in f[key].keys():\n",
    "                print(f'{var_key}: {f[key][var_key]}')"
   ]
  },
  {
   "cell_type": "code",
   "execution_count": 18,
   "id": "41c293f1",
   "metadata": {},
   "outputs": [
    {
     "name": "stdout",
     "output_type": "stream",
     "text": [
      "varm: [0 1 1 ... 1 1 1]\n"
     ]
    }
   ],
   "source": [
    "with h5py.File(path, 'r') as f:\n",
    "    print(f\"{key}: {f['var']['gene_source'][()]}\")"
   ]
  },
  {
   "cell_type": "code",
   "execution_count": 59,
   "id": "c482fffd",
   "metadata": {},
   "outputs": [
    {
     "name": "stdout",
     "output_type": "stream",
     "text": [
      "(7) age_group: [2 2 2 ... 4 4 4]\n",
      "(13) cell_type: [10 11 11 ...  2  2  2]\n",
      "(67) cell_states: [52 62 62 ... 12 16 15]\n",
      "(6) region: [0 0 0 ... 0 0 0]\n",
      "(3) source: [2 2 2 ... 0 0 0]\n"
     ]
    }
   ],
   "source": [
    "with h5py.File(path, 'r') as hf:\n",
    "    for name in ['age_group', 'cell_type', 'cell_states', 'region', 'source']:\n",
    "        data = hf['obs'][name]\n",
    "        \n",
    "        print(f'({len(np.unique(data))}) {name}: {hf[\"obs\"][name][()]}')"
   ]
  },
  {
   "cell_type": "code",
   "execution_count": null,
   "id": "dec1b67d",
   "metadata": {},
   "outputs": [],
   "source": [
    "{'age_group': {0: '40-45', 1: '45-50'}, 'cell_type': {}}"
   ]
  },
  {
   "cell_type": "code",
   "execution_count": 77,
   "id": "9b74af1f",
   "metadata": {},
   "outputs": [
    {
     "name": "stdout",
     "output_type": "stream",
     "text": [
      "0: ['No' 'Yes']\n",
      "1: ['No' 'Yes']\n",
      "2: ['40-45' '45-50' '50-55' '55-60' '60-65' '65-70' '70-75']\n",
      "3: ['Harvard-Nuclei' 'Sanger-CD45' 'Sanger-Cells' 'Sanger-Nuclei']\n",
      "4: ['Adip1' 'Adip2' 'Adip3' 'Adip4' 'B_cells' 'CD4+T_cytox' 'CD4+T_tem'\n",
      " 'CD8+T_cytox' 'CD8+T_tem' 'CD16+Mo' 'DOCK4+MØ1' 'DOCK4+MØ2' 'EC1_cap'\n",
      " 'EC2_cap' 'EC3_cap' 'EC4_immune' 'EC5_art' 'EC6_ven' 'EC7_atria' 'EC8_ln'\n",
      " 'EC9_FB-like' 'EC10_CMC-like' 'FB1' 'FB2' 'FB3' 'FB4' 'FB5' 'FB6' 'FB7'\n",
      " 'IL17RA+Mo' 'LYVE1+MØ1' 'LYVE1+MØ2' 'LYVE1+MØ3' 'Mast' 'Meso' 'CD14+Mo'\n",
      " 'Mo_pi' 'MØ_AgP' 'MØ_mod' 'NC1' 'NC2' 'NC3' 'NC4' 'NC5' 'NC6' 'NK' 'NKT'\n",
      " 'NØ' 'PC1_vent' 'PC2_atria' 'PC3_str' 'PC4_CMC-like' 'SMC1_basic'\n",
      " 'SMC2_art' 'aCM1' 'aCM2' 'aCM3' 'aCM4' 'aCM5' 'doublets' 'DC' 'nan'\n",
      " 'vCM1' 'vCM2' 'vCM3' 'vCM4' 'vCM5']\n",
      "5: ['Adipocytes' 'Atrial_Cardiomyocyte' 'Endothelial' 'Fibroblast' 'Lymphoid'\n",
      " 'Mesothelial' 'Myeloid' 'Neuronal' 'NotAssigned' 'Pericytes'\n",
      " 'Smooth_muscle_cells' 'Ventricular_Cardiomyocyte' 'doublets']\n",
      "6: ['D1' 'D2' 'D3' 'D4' 'D5' 'D6' 'D7' 'D11' 'H2' 'H3' 'H4' 'H5' 'H6' 'H7']\n",
      "7: ['Female' 'Male']\n",
      "8: ['AX' 'LA' 'LV' 'RA' 'RV' 'SP']\n",
      "9: ['H0015_LA_new' 'H0015_LV' 'H0015_RA' 'H0015_RV' 'H0015_apex'\n",
      " 'H0015_septum' 'H0020_LA_new' 'H0020_LV' 'H0020_RA' 'H0020_RV'\n",
      " 'H0020_apex' 'H0020_septum' 'H0025_LA' 'H0025_LV' 'H0025_RA' 'H0025_RV'\n",
      " 'H0025_apex' 'H0025_septum' 'H0026_LA' 'H0026_LV_V3' 'H0026_RA'\n",
      " 'H0026_RV' 'H0026_apex' 'H0026_septum2' 'H0035_LA' 'H0035_LV' 'H0035_RA'\n",
      " 'H0035_RV' 'H0035_apex' 'H0035_septum' 'H0037_Apex' 'H0037_LA_corr'\n",
      " 'H0037_LV' 'H0037_RA_corr' 'H0037_RV' 'H0037_septum' 'HCAHeart7606896'\n",
      " 'HCAHeart7656534' 'HCAHeart7656535' 'HCAHeart7656536' 'HCAHeart7656537'\n",
      " 'HCAHeart7656538' 'HCAHeart7656539' 'HCAHeart7664652' 'HCAHeart7664653'\n",
      " 'HCAHeart7664654' 'HCAHeart7698015' 'HCAHeart7698016' 'HCAHeart7698017'\n",
      " 'HCAHeart7702873' 'HCAHeart7702874' 'HCAHeart7702875' 'HCAHeart7702876'\n",
      " 'HCAHeart7702877' 'HCAHeart7702878' 'HCAHeart7702879' 'HCAHeart7702880'\n",
      " 'HCAHeart7702881' 'HCAHeart7702882' 'HCAHeart7728604' 'HCAHeart7728605'\n",
      " 'HCAHeart7728606' 'HCAHeart7728607' 'HCAHeart7728608' 'HCAHeart7728609'\n",
      " 'HCAHeart7745966' 'HCAHeart7745967' 'HCAHeart7745968' 'HCAHeart7745969'\n",
      " 'HCAHeart7745970' 'HCAHeart7751845' 'HCAHeart7757636' 'HCAHeart7757637'\n",
      " 'HCAHeart7757638' 'HCAHeart7757639' 'HCAHeart7829976' 'HCAHeart7829977'\n",
      " 'HCAHeart7829978' 'HCAHeart7829979' 'HCAHeart7833852' 'HCAHeart7833853'\n",
      " 'HCAHeart7833854' 'HCAHeart7833855' 'HCAHeart7835148' 'HCAHeart7835149'\n",
      " 'HCAHeart7836681' 'HCAHeart7836682' 'HCAHeart7836683' 'HCAHeart7836684'\n",
      " 'HCAHeart7843999' 'HCAHeart7844000' 'HCAHeart7844001' 'HCAHeart7844002'\n",
      " 'HCAHeart7844003' 'HCAHeart7844004' 'HCAHeart7850539' 'HCAHeart7850540'\n",
      " 'HCAHeart7850541' 'HCAHeart7850542' 'HCAHeart7850543' 'HCAHeart7850544'\n",
      " 'HCAHeart7850545' 'HCAHeart7850546' 'HCAHeart7850547' 'HCAHeart7850548'\n",
      " 'HCAHeart7850549' 'HCAHeart7850551' 'HCAHeart7880860' 'HCAHeart7880861'\n",
      " 'HCAHeart7880862' 'HCAHeart7880863' 'HCAHeart7888922' 'HCAHeart7888923'\n",
      " 'HCAHeart7888924' 'HCAHeart7888925' 'HCAHeart7888926' 'HCAHeart7888927'\n",
      " 'HCAHeart7888928' 'HCAHeart7888929' 'HCAHeart7905327' 'HCAHeart7905328'\n",
      " 'HCAHeart7905329' 'HCAHeart7905330' 'HCAHeart7905331' 'HCAHeart7905332'\n",
      " 'HCAHeart7964513' 'HCAHeart7985086' 'HCAHeart7985087' 'HCAHeart7985088'\n",
      " 'HCAHeart7985089' 'HCAHeart8102858' 'HCAHeart8102859' 'HCAHeart8102860'\n",
      " 'HCAHeart8102861' 'HCAHeart8102862' 'HCAHeart8102863' 'HCAHeart8102864'\n",
      " 'HCAHeart8102865' 'HCAHeart8102866' 'HCAHeart8102867' 'HCAHeart8102868'\n",
      " 'HCAHeart8287123' 'HCAHeart8287124' 'HCAHeart8287125' 'HCAHeart8287126'\n",
      " 'HCAHeart8287127' 'HCAHeart8287128']\n",
      "10: ['CD45+' 'Cells' 'Nuclei']\n",
      "11: ['DBD' 'DCD']\n",
      "12: ['V2' 'V3']\n"
     ]
    }
   ],
   "source": [
    "#names = {'age_group': 2, 'cell_type': 5, 'cell_states': 4, 'region': 6, 'source': 10}\n",
    "\n",
    "with h5py.File(path, 'r') as hf:\n",
    "    x = hf['obs']['__categories']\n",
    "    converter = {}\n",
    "    for i, category in enumerate(x):\n",
    "        if i in [2, 4, 5, 8, 10]:\n",
    "            converter[category] = {}\n",
    "            for j, txt in enumerate(x[category][()]):\n",
    "                converter[category][j] = txt\n",
    "            #converter[i] = str(x[category][()])\n",
    "    for i, thing in enumerate(x):\n",
    "        print(f'{i}: {x[thing][()]}')"
   ]
  },
  {
   "cell_type": "code",
   "execution_count": 78,
   "id": "600450cb",
   "metadata": {},
   "outputs": [
    {
     "data": {
      "text/plain": [
       "{'age_group': {0: '40-45',\n",
       "  1: '45-50',\n",
       "  2: '50-55',\n",
       "  3: '55-60',\n",
       "  4: '60-65',\n",
       "  5: '65-70',\n",
       "  6: '70-75'},\n",
       " 'cell_states': {0: 'Adip1',\n",
       "  1: 'Adip2',\n",
       "  2: 'Adip3',\n",
       "  3: 'Adip4',\n",
       "  4: 'B_cells',\n",
       "  5: 'CD4+T_cytox',\n",
       "  6: 'CD4+T_tem',\n",
       "  7: 'CD8+T_cytox',\n",
       "  8: 'CD8+T_tem',\n",
       "  9: 'CD16+Mo',\n",
       "  10: 'DOCK4+MØ1',\n",
       "  11: 'DOCK4+MØ2',\n",
       "  12: 'EC1_cap',\n",
       "  13: 'EC2_cap',\n",
       "  14: 'EC3_cap',\n",
       "  15: 'EC4_immune',\n",
       "  16: 'EC5_art',\n",
       "  17: 'EC6_ven',\n",
       "  18: 'EC7_atria',\n",
       "  19: 'EC8_ln',\n",
       "  20: 'EC9_FB-like',\n",
       "  21: 'EC10_CMC-like',\n",
       "  22: 'FB1',\n",
       "  23: 'FB2',\n",
       "  24: 'FB3',\n",
       "  25: 'FB4',\n",
       "  26: 'FB5',\n",
       "  27: 'FB6',\n",
       "  28: 'FB7',\n",
       "  29: 'IL17RA+Mo',\n",
       "  30: 'LYVE1+MØ1',\n",
       "  31: 'LYVE1+MØ2',\n",
       "  32: 'LYVE1+MØ3',\n",
       "  33: 'Mast',\n",
       "  34: 'Meso',\n",
       "  35: 'CD14+Mo',\n",
       "  36: 'Mo_pi',\n",
       "  37: 'MØ_AgP',\n",
       "  38: 'MØ_mod',\n",
       "  39: 'NC1',\n",
       "  40: 'NC2',\n",
       "  41: 'NC3',\n",
       "  42: 'NC4',\n",
       "  43: 'NC5',\n",
       "  44: 'NC6',\n",
       "  45: 'NK',\n",
       "  46: 'NKT',\n",
       "  47: 'NØ',\n",
       "  48: 'PC1_vent',\n",
       "  49: 'PC2_atria',\n",
       "  50: 'PC3_str',\n",
       "  51: 'PC4_CMC-like',\n",
       "  52: 'SMC1_basic',\n",
       "  53: 'SMC2_art',\n",
       "  54: 'aCM1',\n",
       "  55: 'aCM2',\n",
       "  56: 'aCM3',\n",
       "  57: 'aCM4',\n",
       "  58: 'aCM5',\n",
       "  59: 'doublets',\n",
       "  60: 'DC',\n",
       "  61: 'nan',\n",
       "  62: 'vCM1',\n",
       "  63: 'vCM2',\n",
       "  64: 'vCM3',\n",
       "  65: 'vCM4',\n",
       "  66: 'vCM5'},\n",
       " 'cell_type': {0: 'Adipocytes',\n",
       "  1: 'Atrial_Cardiomyocyte',\n",
       "  2: 'Endothelial',\n",
       "  3: 'Fibroblast',\n",
       "  4: 'Lymphoid',\n",
       "  5: 'Mesothelial',\n",
       "  6: 'Myeloid',\n",
       "  7: 'Neuronal',\n",
       "  8: 'NotAssigned',\n",
       "  9: 'Pericytes',\n",
       "  10: 'Smooth_muscle_cells',\n",
       "  11: 'Ventricular_Cardiomyocyte',\n",
       "  12: 'doublets'},\n",
       " 'region': {0: 'AX', 1: 'LA', 2: 'LV', 3: 'RA', 4: 'RV', 5: 'SP'},\n",
       " 'source': {0: 'CD45+', 1: 'Cells', 2: 'Nuclei'}}"
      ]
     },
     "execution_count": 78,
     "metadata": {},
     "output_type": "execute_result"
    }
   ],
   "source": [
    "converter"
   ]
  },
  {
   "cell_type": "code",
   "execution_count": null,
   "id": "acbeee85",
   "metadata": {},
   "outputs": [],
   "source": []
  },
  {
   "cell_type": "code",
   "execution_count": null,
   "id": "1818ee6a",
   "metadata": {},
   "outputs": [],
   "source": [
    "# age_group: 2\n",
    "# cell_type: 5\n",
    "# cell_state: 4\n",
    "# percent_mito:"
   ]
  },
  {
   "cell_type": "code",
   "execution_count": 79,
   "id": "0186f6c1",
   "metadata": {},
   "outputs": [],
   "source": [
    "#mapper = {'age_group': 2, 'cell_type': 5, 'cell_states': 4, 'region': 6, 'source': 10}\n",
    "\n",
    "with h5py.File(path, 'r') as f:\n",
    "    # gene x cell matrix\n",
    "    data = f['X']['data'][()]\n",
    "    indices = f['X']['indices'][()]\n",
    "    indptr = f['X']['indptr'][()]\n",
    "    sparse_mtx = csr_matrix((data, indices, indptr)).transpose()\n",
    "    # bc and gene ids\n",
    "    bc_ids = f['obs']['_index'][()]\n",
    "    hgnc_gene_ids = f['var']['_index'][()]\n",
    "    #ens_gene_ids = f['var']['gene_ids'][()]\n",
    "    # cell types\n",
    "    bc_meta_to_keep = ['age_group', 'cell_type', 'cell_states', 'region', 'source']\n",
    "\n",
    "    bc_metadata_to_keep = []\n",
    "    for meta in bc_meta_to_keep:\n",
    "        metadata = f['obs'][meta][()]\n",
    "        my_dict = converter[meta]\n",
    "        my_dict = pd.Series(my_dict)\n",
    "        metadata = my_dict[metadata].to_numpy().T\n",
    "        bc_metadata_to_keep.append(metadata)"
   ]
  },
  {
   "cell_type": "code",
   "execution_count": null,
   "id": "395349b2",
   "metadata": {},
   "outputs": [],
   "source": []
  },
  {
   "cell_type": "code",
   "execution_count": 84,
   "id": "6c2f2407",
   "metadata": {},
   "outputs": [
    {
     "name": "stdout",
     "output_type": "stream",
     "text": [
      "486134\n"
     ]
    }
   ],
   "source": [
    "# how many bcs?\n",
    "print(len(bc_ids))"
   ]
  },
  {
   "cell_type": "code",
   "execution_count": 82,
   "id": "587b94b9",
   "metadata": {},
   "outputs": [],
   "source": [
    "# write the matrix to file in Market Exchange Format (10X's .mtx format) and use 10X filename\n",
    "#out_mtx_path = '/gpfs/alpine/syb105/proj-shared/Personal/jmerlet/projects/cell_atlasses/data/human/lister_lab/matrix.mtx'\n",
    "out_mtx_path = '/lustre/orion/syb111/proj-shared/Projects/scrna-seq/data/human/heart/healthy/sanger/raw/matrix.mtx'\n",
    "mmwrite(out_mtx_path, sparse_mtx, field='integer')"
   ]
  },
  {
   "cell_type": "code",
   "execution_count": 85,
   "id": "d5bb1657",
   "metadata": {},
   "outputs": [],
   "source": [
    "# write the bcs and bc cell type metadata to file\n",
    "# match 10x filename and formatting for Seurat read-in\n",
    "out_bc_path = '/lustre/orion/syb111/proj-shared/Projects/scrna-seq/data/human/heart/healthy/sanger/raw/barcodes.tsv'\n",
    "out_bc_data = pd.DataFrame(bc_ids.astype(str))\n",
    "out_bc_data.to_csv(out_bc_path, sep='\\t', index=False, header=False)\n",
    "# filename doesn't matter for metadata\n",
    "out_bc_meta_path = '/lustre/orion/syb111/proj-shared/Projects/scrna-seq/data/human/heart/healthy/sanger/meta/bc_meta.tsv'\n",
    "out_bc_metadata = pd.DataFrame(data=bc_metadata_to_keep).T\n",
    "out_bc_metadata.index = bc_ids.astype(str)\n",
    "out_bc_metadata.columns = bc_meta_to_keep\n",
    "out_bc_metadata.to_csv(out_bc_meta_path, sep='\\t')"
   ]
  },
  {
   "cell_type": "code",
   "execution_count": 87,
   "id": "90da0ef5",
   "metadata": {},
   "outputs": [],
   "source": [
    "# write the HGNC symbols to file using 10X filename and formatting\n",
    "out_gene_path = '/gpfs/alpine/syb105/proj-shared/Personal/jmerlet/projects/cell_atlasses/data/human/lister_lab/features.tsv'\n",
    "out_gene_path = '/lustre/orion/syb111/proj-shared/Projects/scrna-seq/data/human/heart/healthy/sanger/raw/features.tsv'\n",
    "str_fill_col = np.repeat('Gene', len(hgnc_gene_ids))\n",
    "out_gene_data = pd.DataFrame(data=[hgnc_gene_ids.astype(str), hgnc_gene_ids.astype(str), str_fill_col]).T\n",
    "out_gene_data.to_csv(out_gene_path, sep='\\t', index=False, header=False)"
   ]
  },
  {
   "cell_type": "code",
   "execution_count": null,
   "id": "89c57e7a",
   "metadata": {},
   "outputs": [],
   "source": []
  }
 ],
 "metadata": {
  "kernelspec": {
   "display_name": "Python 3 (ipykernel)",
   "language": "python",
   "name": "python3"
  },
  "language_info": {
   "codemirror_mode": {
    "name": "ipython",
    "version": 3
   },
   "file_extension": ".py",
   "mimetype": "text/x-python",
   "name": "python",
   "nbconvert_exporter": "python",
   "pygments_lexer": "ipython3",
   "version": "3.9.12"
  }
 },
 "nbformat": 4,
 "nbformat_minor": 5
}
