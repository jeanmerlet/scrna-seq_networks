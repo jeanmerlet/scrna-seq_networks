{
 "cells": [
  {
   "cell_type": "code",
   "execution_count": 1,
   "id": "d39d229a-c01f-4c65-830d-ae85f77a8532",
   "metadata": {},
   "outputs": [],
   "source": [
    "import numpy as np\n",
    "import pandas as pd\n",
    "from scipy.sparse import csr_matrix\n",
    "from scipy.io import mmwrite\n",
    "import h5py\n",
    "import os, re"
   ]
  },
  {
   "cell_type": "code",
   "execution_count": 2,
   "id": "f9770f95-c709-45b0-a24e-c89e156c9bd0",
   "metadata": {},
   "outputs": [],
   "source": [
    "path = '/gpfs/alpine/syb105/proj-shared/Personal/jmerlet/projects/cell_atlasses/data/human/lister_lab/RNA-all_full-counts-and-downsampled-CPM.h5ad'"
   ]
  },
  {
   "cell_type": "code",
   "execution_count": 4,
   "id": "bf4d66b5-ebe2-45b1-84f8-b43a78fee0d1",
   "metadata": {},
   "outputs": [
    {
     "name": "stdout",
     "output_type": "stream",
     "text": [
      "X: ['data', 'indices', 'indptr']\n",
      "layers: ['ds_norm_cts']\n",
      "obs: ['Astro_GFAP_dev-traj', 'Astro_SLC1A2_dev-traj', 'Brain Regions*', 'CCK_RELN_dev-traj', 'CCK_SORCS1_dev-traj', 'CCK_SYT6_dev-traj', 'Cause of Death', 'Collection_year', 'Date-of-Collection', 'ICD-10 Code', 'ICD-10 category', 'ID2_CSMD1_dev-traj', 'L2_CUX2_LAMP5_dev-traj', 'L3_CUX2_PRSS12_dev-traj', 'L4_RORB_LRRK1_dev-traj', 'L4_RORB_MET_dev-traj', 'L4_RORB_MME_dev-traj', 'L5-6_THEMIS_CNR1_dev-traj', 'L5-6_THEMIS_NTNG2_dev-traj', 'L5-6_TLE4_HTR2C_dev-traj', 'L5-6_TLE4_SCUBE1_dev-traj', 'L5-6_TLE4_SORCS1_dev-traj', 'LAMP5_CCK_dev-traj', 'LAMP5_NDNF_dev-traj', 'LAMP5_NOS1_dev-traj', 'Library Prep Date', 'Library Prep Lot', 'Micro_dev-traj', 'OPC_MBP_dev-traj', 'OPC_dev-traj', 'Oligo_dev-traj', 'Oxygen', 'PMI', 'PV_SCUBE3_dev-traj', 'PV_SST_dev-traj', 'PV_SULF1_dev-traj', 'PV_WFDC2_dev-traj', 'RL#', 'Race', 'SST_ADGRG6_dev-traj', 'SST_B3GAT2_dev-traj', 'SST_BRINP3_dev-traj', 'SST_CALB1_dev-traj', 'SST_NPY_dev-traj', 'SST_STK32A_dev-traj', 'SST_TH_dev-traj', 'Sex', 'VIP_ABI3BP_dev-traj', 'VIP_ADAMTSL1_dev-traj', 'VIP_CHRM2_dev-traj', 'VIP_CRH_dev-traj', 'VIP_DPP6_dev-traj', 'VIP_HS3ST3A1_dev-traj', 'VIP_KIRREL3_dev-traj', 'VIP_PCDH20_dev-traj', 'Vas_CLDN5_dev-traj', 'Vas_PDGFRB_dev-traj', 'Vas_TBX18_dev-traj', '_index', 'age', 'batch', 'cell_type', 'chem', 'combined-leiden', 'concat_id', 'doublet_score', 'leiden', 'log10_UMI_counts', 'log10_gene_counts', 'log1p_n_genes_by_counts', 'log1p_total_counts', 'major_clust', 'mat', 'mj_dev_traj_Astro', 'mj_dev_traj_ID2', 'mj_dev_traj_L2-3_CUX2', 'mj_dev_traj_L4_RORB', 'mj_dev_traj_L5-6_THEMIS', 'mj_dev_traj_L5-6_TLE4', 'mj_dev_traj_LAMP5_NOS1', 'mj_dev_traj_Micro', 'mj_dev_traj_OPC', 'mj_dev_traj_Oligo', 'mj_dev_traj_PV', 'mj_dev_traj_PV_SCUBE3', 'mj_dev_traj_Poor-Quality', 'mj_dev_traj_SST', 'mj_dev_traj_VIP', 'mj_dev_traj_Vas', 'n_counts', 'n_genes_by_counts', 'numerical_age', 'percent_mito', 'percent_ribo', 'stage_id', 'sub_clust', 'total_counts']\n",
      "obsm: ['X_pca', 'X_umap']\n",
      "obsp: ['connectivities', 'distances']\n",
      "uns: ['Astro_GFAP_dev-traj_colors', 'Astro_SLC1A2_dev-traj_colors', 'CCK_RELN_dev-traj_colors', 'CCK_SORCS1_dev-traj_colors', 'CCK_SYT6_dev-traj_colors', 'ID2_CSMD1_dev-traj_colors', 'L2_CUX2_LAMP5_dev-traj_colors', 'L3_CUX2_PRSS12_dev-traj_colors', 'L4_RORB_LRRK1_dev-traj_colors', 'L4_RORB_MET_dev-traj_colors', 'L4_RORB_MME_dev-traj_colors', 'L5-6_THEMIS_CNR1_dev-traj_colors', 'L5-6_THEMIS_NTNG2_dev-traj_colors', 'L5-6_TLE4_HTR2C_dev-traj_colors', 'L5-6_TLE4_SCUBE1_dev-traj_colors', 'L5-6_TLE4_SORCS1_dev-traj_colors', 'LAMP5_CCK_dev-traj_colors', 'LAMP5_NDNF_dev-traj_colors', 'LAMP5_NOS1_dev-traj_colors', 'Micro_dev-traj_colors', 'OPC_MBP_dev-traj_colors', 'OPC_dev-traj_colors', 'Oligo_dev-traj_colors', 'PV_SCUBE3_dev-traj_colors', 'PV_SST_dev-traj_colors', 'PV_SULF1_dev-traj_colors', 'PV_WFDC2_dev-traj_colors', 'SST_ADGRG6_dev-traj_colors', 'SST_B3GAT2_dev-traj_colors', 'SST_BRINP3_dev-traj_colors', 'SST_CALB1_dev-traj_colors', 'SST_NPY_dev-traj_colors', 'SST_STK32A_dev-traj_colors', 'SST_TH_dev-traj_colors', 'VIP_ABI3BP_dev-traj_colors', 'VIP_ADAMTSL1_dev-traj_colors', 'VIP_CHRM2_dev-traj_colors', 'VIP_CRH_dev-traj_colors', 'VIP_DPP6_dev-traj_colors', 'VIP_HS3ST3A1_dev-traj_colors', 'VIP_KIRREL3_dev-traj_colors', 'VIP_PCDH20_dev-traj_colors', 'Vas_CLDN5_dev-traj_colors', 'Vas_PDGFRB_dev-traj_colors', 'Vas_TBX18_dev-traj_colors', 'age_order', 'batch_colors', 'batch_colors_dict', 'batch_order', 'cell_type_colors', 'combined-leiden_colors', 'gaba_clust_data', 'hvg', 'major_clust_colors', 'major_clust_colors_dict', 'major_clust_plot_order', 'mj_dev_traj_Astro_colors', 'mj_dev_traj_ID2_colors', 'mj_dev_traj_L2-3_CUX2_colors', 'mj_dev_traj_L4_RORB_colors', 'mj_dev_traj_L5-6_THEMIS_colors', 'mj_dev_traj_L5-6_TLE4_colors', 'mj_dev_traj_LAMP5_NOS1_colors', 'mj_dev_traj_Micro_colors', 'mj_dev_traj_OPC_colors', 'mj_dev_traj_Oligo_colors', 'mj_dev_traj_PV_SCUBE3_colors', 'mj_dev_traj_PV_colors', 'mj_dev_traj_Poor-Quality_colors', 'mj_dev_traj_SST_colors', 'mj_dev_traj_VIP_colors', 'mj_dev_traj_Vas_colors', 'stage_colors_dict', 'stage_id_colors', 'stage_order', 'sub_clust_colors', 'wt_clust_data']\n",
      "var: ['_index', 'dispersions', 'dispersions_norm', 'feature_types', 'gene_ids', 'highly_variable', 'log1p_mean_counts', 'log1p_total_counts', 'mean_counts', 'means', 'n_cells', 'n_cells_by_counts', 'n_counts', 'non-unique_names', 'pct_dropout_by_counts', 'total_counts']\n",
      "varm: []\n",
      "varp: []\n"
     ]
    }
   ],
   "source": [
    "# to see all the hd5 group names\n",
    "with h5py.File(path, 'r') as f:\n",
    "    for key in f.keys():\n",
    "        if key == 'obs':\n",
    "            bc_meta = list(f[key])\n",
    "        print(f\"{key}: {list(f[key])}\")"
   ]
  },
  {
   "cell_type": "code",
   "execution_count": 9,
   "id": "52613f18-6411-4598-b059-560d78199489",
   "metadata": {},
   "outputs": [],
   "source": [
    "with h5py.File(path, 'r') as f:\n",
    "    # gene x cell matrix\n",
    "    data = f['X']['data'][()]\n",
    "    indices = f['X']['indices'][()]\n",
    "    indptr = f['X']['indptr'][()]\n",
    "    sparse_mtx = csr_matrix((data, indices, indptr)).transpose()\n",
    "    # bc and gene ids\n",
    "    bc_ids = f['obs']['_index'][()]\n",
    "    hgnc_gene_ids = f['var']['_index'][()]\n",
    "    ens_gene_ids = f['var']['gene_ids'][()]\n",
    "    # cell types\n",
    "    #bc_meta_to_keep = ['cell_type', 'major_clust', 'sub_clust']\n",
    "    bc_meta_to_keep = ['cell_type', 'major_clust', 'sub_clust', 'stage_id', 'Brain Regions*']\n",
    "    bc_metadata_to_keep = []\n",
    "    for meta in bc_meta_to_keep:\n",
    "        metadata = f['obs'][meta]['codes'][()]\n",
    "        converter = {}\n",
    "        for i, category in enumerate(f['obs'][meta]['categories'][()]):\n",
    "            converter[i] = str(category, 'utf-8')\n",
    "        converter = pd.Series(converter)\n",
    "        metadata = converter[metadata].to_numpy().T\n",
    "        bc_metadata_to_keep.append(metadata)"
   ]
  },
  {
   "cell_type": "code",
   "execution_count": 26,
   "id": "e4971e61-9d43-4864-baee-6968bcbc2712",
   "metadata": {},
   "outputs": [],
   "source": [
    "# write the matrix to file in Market Exchange Format (10X's .mtx format) and use 10X filename\n",
    "out_mtx_path = '/gpfs/alpine/syb105/proj-shared/Personal/jmerlet/projects/cell_atlasses/data/human/lister_lab/matrix.mtx'\n",
    "mmwrite(out_mtx_path, sparse_mtx, field='integer')"
   ]
  },
  {
   "cell_type": "code",
   "execution_count": 10,
   "id": "7323cc29-f893-4d51-9bb8-d7f992daeb2b",
   "metadata": {},
   "outputs": [],
   "source": [
    "# write the bcs and bc cell type metadata to file\n",
    "# match 10x filename and formatting for Seurat read-in\n",
    "out_bc_path = '/gpfs/alpine/syb105/proj-shared/Personal/jmerlet/projects/cell_atlasses/data/human/lister_lab/barcodes.tsv'\n",
    "out_bc_data = pd.DataFrame(bc_ids.astype(str))\n",
    "out_bc_data.to_csv(out_bc_path, sep='\\t', index=False, header=False)\n",
    "# filename doesn't matter for metadata\n",
    "out_bc_meta_path = '/gpfs/alpine/syb105/proj-shared/Personal/jmerlet/projects/cell_atlasses/data/human/lister_lab/bc_meta.tsv'\n",
    "out_bc_metadata = pd.DataFrame(data=bc_metadata_to_keep).T\n",
    "out_bc_metadata.index = bc_ids.astype(str)\n",
    "out_bc_metadata.columns = bc_meta_to_keep\n",
    "out_bc_metadata.to_csv(out_bc_meta_path, sep='\\t')"
   ]
  },
  {
   "cell_type": "code",
   "execution_count": 33,
   "id": "def469ca-724c-4877-82df-f3bf940e817d",
   "metadata": {},
   "outputs": [],
   "source": [
    "# write the HGNC symbols to file using 10X filename and formatting\n",
    "out_gene_path = '/gpfs/alpine/syb105/proj-shared/Personal/jmerlet/projects/cell_atlasses/data/human/lister_lab/features.tsv'\n",
    "str_fill_col = np.repeat('Gene', len(hgnc_gene_ids))\n",
    "out_gene_data = pd.DataFrame(data=[ens_gene_ids.astype(str), hgnc_gene_ids.astype(str), str_fill_col]).T\n",
    "out_gene_data.to_csv(out_gene_path, sep='\\t', index=False, header=False)"
   ]
  },
  {
   "cell_type": "code",
   "execution_count": null,
   "id": "ec82fba0-0a2f-4967-b16c-d4019027a73c",
   "metadata": {},
   "outputs": [],
   "source": []
  }
 ],
 "metadata": {
  "kernelspec": {
   "display_name": "Python 3 (ipykernel)",
   "language": "python",
   "name": "python3"
  },
  "language_info": {
   "codemirror_mode": {
    "name": "ipython",
    "version": 3
   },
   "file_extension": ".py",
   "mimetype": "text/x-python",
   "name": "python",
   "nbconvert_exporter": "python",
   "pygments_lexer": "ipython3",
   "version": "3.10.9"
  }
 },
 "nbformat": 4,
 "nbformat_minor": 5
}
