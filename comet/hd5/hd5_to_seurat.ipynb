{
 "cells": [
  {
   "cell_type": "code",
   "execution_count": 1,
   "metadata": {},
   "outputs": [],
   "source": [
    "import numpy as np\n",
    "import pandas as pd\n",
    "from scipy.sparse import csr_matrix\n",
    "from scipy.io import mmwrite\n",
    "import h5py\n",
    "import os, re"
   ]
  },
  {
   "cell_type": "code",
   "execution_count": 2,
   "metadata": {},
   "outputs": [],
   "source": [
    "path = '/lustre/orion/syb111/proj-shared/Projects/scrna-seq/data/human/heart/healthy/sanger/raw/hca_heart_global_ctl200723_freeze.h5ad'"
   ]
  },
  {
   "cell_type": "code",
   "execution_count": 58,
   "metadata": {},
   "outputs": [
    {
     "name": "stdout",
     "output_type": "stream",
     "text": [
      "X: ['data', 'indices', 'indptr']\n",
      "obs: ['NRP', 'Used', '__categories', '_index', 'age_group', 'cell_source', 'cell_states', 'cell_type', 'donor', 'gender', 'n_counts', 'n_genes', 'percent_mito', 'percent_ribo', 'region', 'sample', 'scrublet_score', 'source', 'type', 'version']\n",
      "obsm: ['X_pca', 'X_umap']\n",
      "uns: ['cell_type_colors']\n",
      "var: ['__categories', '_index', 'feature_types-Harvard-Nuclei', 'feature_types-Sanger-CD45', 'feature_types-Sanger-Cells', 'feature_types-Sanger-Nuclei', 'gene_ids-Harvard-Nuclei', 'gene_ids-Sanger-CD45', 'gene_ids-Sanger-Cells', 'gene_ids-Sanger-Nuclei']\n"
     ]
    }
   ],
   "source": [
    "# to see all the hd5 group names\n",
    "with h5py.File(path, 'r') as f:\n",
    "    for key in f.keys():\n",
    "        if key == 'obs':\n",
    "            bc_meta = list(f[key])\n",
    "        print(f\"{key}: {list(f[key])}\")"
   ]
  },
  {
   "cell_type": "code",
   "execution_count": 59,
   "metadata": {},
   "outputs": [
    {
     "name": "stdout",
     "output_type": "stream",
     "text": [
      "(7) age_group: [2 2 2 ... 4 4 4]\n",
      "(13) cell_type: [10 11 11 ...  2  2  2]\n",
      "(67) cell_states: [52 62 62 ... 12 16 15]\n",
      "(6) region: [0 0 0 ... 0 0 0]\n",
      "(3) source: [2 2 2 ... 0 0 0]\n"
     ]
    }
   ],
   "source": [
    "with h5py.File(path, 'r') as hf:\n",
    "    for name in ['age_group', 'cell_type', 'cell_states', 'region', 'source']:\n",
    "        data = hf['obs'][name]\n",
    "        print(f'({len(np.unique(data))}) {name}: {hf[\"obs\"][name][()]}')"
   ]
  },
  {
   "cell_type": "code",
   "execution_count": null,
   "metadata": {},
   "outputs": [],
   "source": [
    "{'age_group': {0: '40-45', 1: '45-50'}, 'cell_type': {}}"
   ]
  },
  {
   "cell_type": "code",
   "execution_count": 77,
   "metadata": {},
   "outputs": [
    {
     "name": "stdout",
     "output_type": "stream",
     "text": [
      "0: ['No' 'Yes']\n",
      "1: ['No' 'Yes']\n",
      "2: ['40-45' '45-50' '50-55' '55-60' '60-65' '65-70' '70-75']\n",
      "3: ['Harvard-Nuclei' 'Sanger-CD45' 'Sanger-Cells' 'Sanger-Nuclei']\n",
      "4: ['Adip1' 'Adip2' 'Adip3' 'Adip4' 'B_cells' 'CD4+T_cytox' 'CD4+T_tem'\n",
      " 'CD8+T_cytox' 'CD8+T_tem' 'CD16+Mo' 'DOCK4+MØ1' 'DOCK4+MØ2' 'EC1_cap'\n",
      " 'EC2_cap' 'EC3_cap' 'EC4_immune' 'EC5_art' 'EC6_ven' 'EC7_atria' 'EC8_ln'\n",
      " 'EC9_FB-like' 'EC10_CMC-like' 'FB1' 'FB2' 'FB3' 'FB4' 'FB5' 'FB6' 'FB7'\n",
      " 'IL17RA+Mo' 'LYVE1+MØ1' 'LYVE1+MØ2' 'LYVE1+MØ3' 'Mast' 'Meso' 'CD14+Mo'\n",
      " 'Mo_pi' 'MØ_AgP' 'MØ_mod' 'NC1' 'NC2' 'NC3' 'NC4' 'NC5' 'NC6' 'NK' 'NKT'\n",
      " 'NØ' 'PC1_vent' 'PC2_atria' 'PC3_str' 'PC4_CMC-like' 'SMC1_basic'\n",
      " 'SMC2_art' 'aCM1' 'aCM2' 'aCM3' 'aCM4' 'aCM5' 'doublets' 'DC' 'nan'\n",
      " 'vCM1' 'vCM2' 'vCM3' 'vCM4' 'vCM5']\n",
      "5: ['Adipocytes' 'Atrial_Cardiomyocyte' 'Endothelial' 'Fibroblast' 'Lymphoid'\n",
      " 'Mesothelial' 'Myeloid' 'Neuronal' 'NotAssigned' 'Pericytes'\n",
      " 'Smooth_muscle_cells' 'Ventricular_Cardiomyocyte' 'doublets']\n",
      "6: ['D1' 'D2' 'D3' 'D4' 'D5' 'D6' 'D7' 'D11' 'H2' 'H3' 'H4' 'H5' 'H6' 'H7']\n",
      "7: ['Female' 'Male']\n",
      "8: ['AX' 'LA' 'LV' 'RA' 'RV' 'SP']\n",
      "9: ['H0015_LA_new' 'H0015_LV' 'H0015_RA' 'H0015_RV' 'H0015_apex'\n",
      " 'H0015_septum' 'H0020_LA_new' 'H0020_LV' 'H0020_RA' 'H0020_RV'\n",
      " 'H0020_apex' 'H0020_septum' 'H0025_LA' 'H0025_LV' 'H0025_RA' 'H0025_RV'\n",
      " 'H0025_apex' 'H0025_septum' 'H0026_LA' 'H0026_LV_V3' 'H0026_RA'\n",
      " 'H0026_RV' 'H0026_apex' 'H0026_septum2' 'H0035_LA' 'H0035_LV' 'H0035_RA'\n",
      " 'H0035_RV' 'H0035_apex' 'H0035_septum' 'H0037_Apex' 'H0037_LA_corr'\n",
      " 'H0037_LV' 'H0037_RA_corr' 'H0037_RV' 'H0037_septum' 'HCAHeart7606896'\n",
      " 'HCAHeart7656534' 'HCAHeart7656535' 'HCAHeart7656536' 'HCAHeart7656537'\n",
      " 'HCAHeart7656538' 'HCAHeart7656539' 'HCAHeart7664652' 'HCAHeart7664653'\n",
      " 'HCAHeart7664654' 'HCAHeart7698015' 'HCAHeart7698016' 'HCAHeart7698017'\n",
      " 'HCAHeart7702873' 'HCAHeart7702874' 'HCAHeart7702875' 'HCAHeart7702876'\n",
      " 'HCAHeart7702877' 'HCAHeart7702878' 'HCAHeart7702879' 'HCAHeart7702880'\n",
      " 'HCAHeart7702881' 'HCAHeart7702882' 'HCAHeart7728604' 'HCAHeart7728605'\n",
      " 'HCAHeart7728606' 'HCAHeart7728607' 'HCAHeart7728608' 'HCAHeart7728609'\n",
      " 'HCAHeart7745966' 'HCAHeart7745967' 'HCAHeart7745968' 'HCAHeart7745969'\n",
      " 'HCAHeart7745970' 'HCAHeart7751845' 'HCAHeart7757636' 'HCAHeart7757637'\n",
      " 'HCAHeart7757638' 'HCAHeart7757639' 'HCAHeart7829976' 'HCAHeart7829977'\n",
      " 'HCAHeart7829978' 'HCAHeart7829979' 'HCAHeart7833852' 'HCAHeart7833853'\n",
      " 'HCAHeart7833854' 'HCAHeart7833855' 'HCAHeart7835148' 'HCAHeart7835149'\n",
      " 'HCAHeart7836681' 'HCAHeart7836682' 'HCAHeart7836683' 'HCAHeart7836684'\n",
      " 'HCAHeart7843999' 'HCAHeart7844000' 'HCAHeart7844001' 'HCAHeart7844002'\n",
      " 'HCAHeart7844003' 'HCAHeart7844004' 'HCAHeart7850539' 'HCAHeart7850540'\n",
      " 'HCAHeart7850541' 'HCAHeart7850542' 'HCAHeart7850543' 'HCAHeart7850544'\n",
      " 'HCAHeart7850545' 'HCAHeart7850546' 'HCAHeart7850547' 'HCAHeart7850548'\n",
      " 'HCAHeart7850549' 'HCAHeart7850551' 'HCAHeart7880860' 'HCAHeart7880861'\n",
      " 'HCAHeart7880862' 'HCAHeart7880863' 'HCAHeart7888922' 'HCAHeart7888923'\n",
      " 'HCAHeart7888924' 'HCAHeart7888925' 'HCAHeart7888926' 'HCAHeart7888927'\n",
      " 'HCAHeart7888928' 'HCAHeart7888929' 'HCAHeart7905327' 'HCAHeart7905328'\n",
      " 'HCAHeart7905329' 'HCAHeart7905330' 'HCAHeart7905331' 'HCAHeart7905332'\n",
      " 'HCAHeart7964513' 'HCAHeart7985086' 'HCAHeart7985087' 'HCAHeart7985088'\n",
      " 'HCAHeart7985089' 'HCAHeart8102858' 'HCAHeart8102859' 'HCAHeart8102860'\n",
      " 'HCAHeart8102861' 'HCAHeart8102862' 'HCAHeart8102863' 'HCAHeart8102864'\n",
      " 'HCAHeart8102865' 'HCAHeart8102866' 'HCAHeart8102867' 'HCAHeart8102868'\n",
      " 'HCAHeart8287123' 'HCAHeart8287124' 'HCAHeart8287125' 'HCAHeart8287126'\n",
      " 'HCAHeart8287127' 'HCAHeart8287128']\n",
      "10: ['CD45+' 'Cells' 'Nuclei']\n",
      "11: ['DBD' 'DCD']\n",
      "12: ['V2' 'V3']\n"
     ]
    }
   ],
   "source": [
    "#names = {'age_group': 2, 'cell_type': 5, 'cell_states': 4, 'region': 6, 'source': 10}\n",
    "\n",
    "with h5py.File(path, 'r') as hf:\n",
    "    x = hf['obs']['__categories']\n",
    "    converter = {}\n",
    "    for i, category in enumerate(x):\n",
    "        if i in [2, 4, 5, 8, 10]:\n",
    "            converter[category] = {}\n",
    "            for j, txt in enumerate(x[category][()]):\n",
    "                converter[category][j] = txt\n",
    "            #converter[i] = str(x[category][()])\n",
    "    for i, thing in enumerate(x):\n",
    "        print(f'{i}: {x[thing][()]}')"
   ]
  },
  {
   "cell_type": "code",
   "execution_count": 78,
   "metadata": {},
   "outputs": [
    {
     "data": {
      "text/plain": [
       "{'age_group': {0: '40-45',\n",
       "  1: '45-50',\n",
       "  2: '50-55',\n",
       "  3: '55-60',\n",
       "  4: '60-65',\n",
       "  5: '65-70',\n",
       "  6: '70-75'},\n",
       " 'cell_states': {0: 'Adip1',\n",
       "  1: 'Adip2',\n",
       "  2: 'Adip3',\n",
       "  3: 'Adip4',\n",
       "  4: 'B_cells',\n",
       "  5: 'CD4+T_cytox',\n",
       "  6: 'CD4+T_tem',\n",
       "  7: 'CD8+T_cytox',\n",
       "  8: 'CD8+T_tem',\n",
       "  9: 'CD16+Mo',\n",
       "  10: 'DOCK4+MØ1',\n",
       "  11: 'DOCK4+MØ2',\n",
       "  12: 'EC1_cap',\n",
       "  13: 'EC2_cap',\n",
       "  14: 'EC3_cap',\n",
       "  15: 'EC4_immune',\n",
       "  16: 'EC5_art',\n",
       "  17: 'EC6_ven',\n",
       "  18: 'EC7_atria',\n",
       "  19: 'EC8_ln',\n",
       "  20: 'EC9_FB-like',\n",
       "  21: 'EC10_CMC-like',\n",
       "  22: 'FB1',\n",
       "  23: 'FB2',\n",
       "  24: 'FB3',\n",
       "  25: 'FB4',\n",
       "  26: 'FB5',\n",
       "  27: 'FB6',\n",
       "  28: 'FB7',\n",
       "  29: 'IL17RA+Mo',\n",
       "  30: 'LYVE1+MØ1',\n",
       "  31: 'LYVE1+MØ2',\n",
       "  32: 'LYVE1+MØ3',\n",
       "  33: 'Mast',\n",
       "  34: 'Meso',\n",
       "  35: 'CD14+Mo',\n",
       "  36: 'Mo_pi',\n",
       "  37: 'MØ_AgP',\n",
       "  38: 'MØ_mod',\n",
       "  39: 'NC1',\n",
       "  40: 'NC2',\n",
       "  41: 'NC3',\n",
       "  42: 'NC4',\n",
       "  43: 'NC5',\n",
       "  44: 'NC6',\n",
       "  45: 'NK',\n",
       "  46: 'NKT',\n",
       "  47: 'NØ',\n",
       "  48: 'PC1_vent',\n",
       "  49: 'PC2_atria',\n",
       "  50: 'PC3_str',\n",
       "  51: 'PC4_CMC-like',\n",
       "  52: 'SMC1_basic',\n",
       "  53: 'SMC2_art',\n",
       "  54: 'aCM1',\n",
       "  55: 'aCM2',\n",
       "  56: 'aCM3',\n",
       "  57: 'aCM4',\n",
       "  58: 'aCM5',\n",
       "  59: 'doublets',\n",
       "  60: 'DC',\n",
       "  61: 'nan',\n",
       "  62: 'vCM1',\n",
       "  63: 'vCM2',\n",
       "  64: 'vCM3',\n",
       "  65: 'vCM4',\n",
       "  66: 'vCM5'},\n",
       " 'cell_type': {0: 'Adipocytes',\n",
       "  1: 'Atrial_Cardiomyocyte',\n",
       "  2: 'Endothelial',\n",
       "  3: 'Fibroblast',\n",
       "  4: 'Lymphoid',\n",
       "  5: 'Mesothelial',\n",
       "  6: 'Myeloid',\n",
       "  7: 'Neuronal',\n",
       "  8: 'NotAssigned',\n",
       "  9: 'Pericytes',\n",
       "  10: 'Smooth_muscle_cells',\n",
       "  11: 'Ventricular_Cardiomyocyte',\n",
       "  12: 'doublets'},\n",
       " 'region': {0: 'AX', 1: 'LA', 2: 'LV', 3: 'RA', 4: 'RV', 5: 'SP'},\n",
       " 'source': {0: 'CD45+', 1: 'Cells', 2: 'Nuclei'}}"
      ]
     },
     "execution_count": 78,
     "metadata": {},
     "output_type": "execute_result"
    }
   ],
   "source": [
    "converter"
   ]
  },
  {
   "cell_type": "code",
   "execution_count": null,
   "metadata": {},
   "outputs": [],
   "source": []
  },
  {
   "cell_type": "code",
   "execution_count": null,
   "metadata": {},
   "outputs": [],
   "source": [
    "# age_group: 2\n",
    "# cell_type: 5\n",
    "# cell_state: 4\n",
    "# percent_mito:"
   ]
  },
  {
   "cell_type": "code",
   "execution_count": 79,
   "metadata": {},
   "outputs": [],
   "source": [
    "#mapper = {'age_group': 2, 'cell_type': 5, 'cell_states': 4, 'region': 6, 'source': 10}\n",
    "\n",
    "with h5py.File(path, 'r') as f:\n",
    "    # gene x cell matrix\n",
    "    data = f['X']['data'][()]\n",
    "    indices = f['X']['indices'][()]\n",
    "    indptr = f['X']['indptr'][()]\n",
    "    sparse_mtx = csr_matrix((data, indices, indptr)).transpose()\n",
    "    # bc and gene ids\n",
    "    bc_ids = f['obs']['_index'][()]\n",
    "    hgnc_gene_ids = f['var']['_index'][()]\n",
    "    #ens_gene_ids = f['var']['gene_ids'][()]\n",
    "    # cell types\n",
    "    bc_meta_to_keep = ['age_group', 'cell_type', 'cell_states', 'region', 'source']\n",
    "\n",
    "    bc_metadata_to_keep = []\n",
    "    for meta in bc_meta_to_keep:\n",
    "        metadata = f['obs'][meta][()]\n",
    "        my_dict = converter[meta]\n",
    "        my_dict = pd.Series(my_dict)\n",
    "        metadata = my_dict[metadata].to_numpy().T\n",
    "        bc_metadata_to_keep.append(metadata)"
   ]
  },
  {
   "cell_type": "code",
   "execution_count": null,
   "metadata": {},
   "outputs": [],
   "source": []
  },
  {
   "cell_type": "code",
   "execution_count": 84,
   "metadata": {},
   "outputs": [
    {
     "name": "stdout",
     "output_type": "stream",
     "text": [
      "486134\n"
     ]
    }
   ],
   "source": [
    "# how many bcs?\n",
    "print(len(bc_ids))"
   ]
  },
  {
   "cell_type": "code",
   "execution_count": 82,
   "metadata": {},
   "outputs": [],
   "source": [
    "# write the matrix to file in Market Exchange Format (10X's .mtx format) and use 10X filename\n",
    "#out_mtx_path = '/gpfs/alpine/syb105/proj-shared/Personal/jmerlet/projects/cell_atlasses/data/human/lister_lab/matrix.mtx'\n",
    "out_mtx_path = '/lustre/orion/syb111/proj-shared/Projects/scrna-seq/data/human/heart/healthy/sanger/raw/matrix.mtx'\n",
    "mmwrite(out_mtx_path, sparse_mtx, field='integer')"
   ]
  },
  {
   "cell_type": "code",
   "execution_count": 85,
   "metadata": {},
   "outputs": [],
   "source": [
    "# write the bcs and bc cell type metadata to file\n",
    "# match 10x filename and formatting for Seurat read-in\n",
    "out_bc_path = '/lustre/orion/syb111/proj-shared/Projects/scrna-seq/data/human/heart/healthy/sanger/raw/barcodes.tsv'\n",
    "out_bc_data = pd.DataFrame(bc_ids.astype(str))\n",
    "out_bc_data.to_csv(out_bc_path, sep='\\t', index=False, header=False)\n",
    "# filename doesn't matter for metadata\n",
    "out_bc_meta_path = '/lustre/orion/syb111/proj-shared/Projects/scrna-seq/data/human/heart/healthy/sanger/meta/bc_meta.tsv'\n",
    "out_bc_metadata = pd.DataFrame(data=bc_metadata_to_keep).T\n",
    "out_bc_metadata.index = bc_ids.astype(str)\n",
    "out_bc_metadata.columns = bc_meta_to_keep\n",
    "out_bc_metadata.to_csv(out_bc_meta_path, sep='\\t')"
   ]
  },
  {
   "cell_type": "code",
   "execution_count": 87,
   "metadata": {},
   "outputs": [],
   "source": [
    "# write the HGNC symbols to file using 10X filename and formatting\n",
    "out_gene_path = '/gpfs/alpine/syb105/proj-shared/Personal/jmerlet/projects/cell_atlasses/data/human/lister_lab/features.tsv'\n",
    "out_gene_path = '/lustre/orion/syb111/proj-shared/Projects/scrna-seq/data/human/heart/healthy/sanger/raw/features.tsv'\n",
    "str_fill_col = np.repeat('Gene', len(hgnc_gene_ids))\n",
    "out_gene_data = pd.DataFrame(data=[hgnc_gene_ids.astype(str), hgnc_gene_ids.astype(str), str_fill_col]).T\n",
    "out_gene_data.to_csv(out_gene_path, sep='\\t', index=False, header=False)"
   ]
  },
  {
   "cell_type": "code",
   "execution_count": null,
   "metadata": {},
   "outputs": [],
   "source": []
  }
 ],
 "metadata": {
  "kernelspec": {
   "display_name": "Python 3",
   "language": "python",
   "name": "python3"
  },
  "language_info": {
   "codemirror_mode": {
    "name": "ipython",
    "version": 3
   },
   "file_extension": ".py",
   "mimetype": "text/x-python",
   "name": "python",
   "nbconvert_exporter": "python",
   "pygments_lexer": "ipython3",
   "version": "3.7.6"
  }
 },
 "nbformat": 4,
 "nbformat_minor": 5
}
