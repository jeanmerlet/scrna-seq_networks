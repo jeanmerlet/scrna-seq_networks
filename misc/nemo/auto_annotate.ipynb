{
 "cells": [
  {
   "cell_type": "code",
   "execution_count": 1,
   "id": "9a07a382-5638-4b52-aad7-a84f9a2ee172",
   "metadata": {},
   "outputs": [
    {
     "ename": "KeyboardInterrupt",
     "evalue": "",
     "output_type": "error",
     "traceback": [
      "\u001b[0;31m---------------------------------------------------------------------------\u001b[0m",
      "\u001b[0;31mKeyboardInterrupt\u001b[0m                         Traceback (most recent call last)",
      "Cell \u001b[0;32mIn[1], line 1\u001b[0m\n\u001b[0;32m----> 1\u001b[0m \u001b[38;5;28;01mimport\u001b[39;00m \u001b[38;5;21;01mloompy\u001b[39;00m\n\u001b[1;32m      2\u001b[0m \u001b[38;5;28;01mimport\u001b[39;00m \u001b[38;5;21;01mnumpy\u001b[39;00m \u001b[38;5;28;01mas\u001b[39;00m \u001b[38;5;21;01mnp\u001b[39;00m\n\u001b[1;32m      3\u001b[0m \u001b[38;5;28;01mimport\u001b[39;00m \u001b[38;5;21;01mos\u001b[39;00m\n",
      "File \u001b[0;32m/lustre/orion/syb111/proj-shared/Personal/jmerlet/envs/conda/frontier/loompy/lib/python3.12/site-packages/loompy/__init__.py:11\u001b[0m\n\u001b[1;32m      9\u001b[0m \u001b[38;5;28;01mfrom\u001b[39;00m \u001b[38;5;21;01m.\u001b[39;00m\u001b[38;5;21;01mto_html\u001b[39;00m \u001b[38;5;28;01mimport\u001b[39;00m to_html\n\u001b[1;32m     10\u001b[0m \u001b[38;5;28;01mfrom\u001b[39;00m \u001b[38;5;21;01m.\u001b[39;00m\u001b[38;5;21;01mview_manager\u001b[39;00m \u001b[38;5;28;01mimport\u001b[39;00m ViewManager\n\u001b[0;32m---> 11\u001b[0m \u001b[38;5;28;01mfrom\u001b[39;00m \u001b[38;5;21;01m.\u001b[39;00m\u001b[38;5;21;01mloompy\u001b[39;00m \u001b[38;5;28;01mimport\u001b[39;00m connect, create, create_append, combine, create_from_cellranger, LoomConnection, new, combine_faster, create_from_matrix_market, create_from_star\n\u001b[1;32m     12\u001b[0m \u001b[38;5;28;01mfrom\u001b[39;00m \u001b[38;5;21;01m.\u001b[39;00m\u001b[38;5;21;01mloom_validator\u001b[39;00m \u001b[38;5;28;01mimport\u001b[39;00m LoomValidator\n\u001b[1;32m     13\u001b[0m \u001b[38;5;28;01mfrom\u001b[39;00m \u001b[38;5;21;01m.\u001b[39;00m\u001b[38;5;21;01m_version\u001b[39;00m \u001b[38;5;28;01mimport\u001b[39;00m __version__, loom_spec_version\n",
      "File \u001b[0;32m/lustre/orion/syb111/proj-shared/Personal/jmerlet/envs/conda/frontier/loompy/lib/python3.12/site-packages/loompy/loompy.py:42\u001b[0m\n\u001b[1;32m     40\u001b[0m \u001b[38;5;28;01mfrom\u001b[39;00m \u001b[38;5;21;01mloompy\u001b[39;00m \u001b[38;5;28;01mimport\u001b[39;00m deprecated, timestamp\n\u001b[1;32m     41\u001b[0m \u001b[38;5;28;01mfrom\u001b[39;00m \u001b[38;5;21;01mloompy\u001b[39;00m\u001b[38;5;21;01m.\u001b[39;00m\u001b[38;5;21;01mmetadata_loaders\u001b[39;00m \u001b[38;5;28;01mimport\u001b[39;00m make_row_attrs_from_gene_metadata, load_sample_metadata\n\u001b[0;32m---> 42\u001b[0m \u001b[38;5;28;01mfrom\u001b[39;00m \u001b[38;5;21;01m.\u001b[39;00m\u001b[38;5;21;01mcell_calling\u001b[39;00m \u001b[38;5;28;01mimport\u001b[39;00m call_cells\n\u001b[1;32m     45\u001b[0m \u001b[38;5;28;01mclass\u001b[39;00m \u001b[38;5;21;01mLoomConnection\u001b[39;00m:\n\u001b[1;32m     46\u001b[0m \u001b[38;5;250m\t\u001b[39m\u001b[38;5;124;03m'''\u001b[39;00m\n\u001b[1;32m     47\u001b[0m \u001b[38;5;124;03m\tA connection to a Loom file on disk. Typically LoomConnection objects are created using one of the\u001b[39;00m\n\u001b[1;32m     48\u001b[0m \u001b[38;5;124;03m\tfunctions on the loompy module, such as :func:`loompy.connect` or :func:`loompy.new`. LoomConnection\u001b[39;00m\n\u001b[0;32m   (...)\u001b[0m\n\u001b[1;32m     60\u001b[0m \u001b[38;5;124;03m\tleaves the ``with`` block, the connection is automatically closed, freeing up resources.\u001b[39;00m\n\u001b[1;32m     61\u001b[0m \u001b[38;5;124;03m\t'''\u001b[39;00m\n",
      "File \u001b[0;32m/lustre/orion/syb111/proj-shared/Personal/jmerlet/envs/conda/frontier/loompy/lib/python3.12/site-packages/loompy/cell_calling.py:21\u001b[0m\n\u001b[1;32m     19\u001b[0m \u001b[38;5;28;01mimport\u001b[39;00m \u001b[38;5;21;01mnumpy\u001b[39;00m \u001b[38;5;28;01mas\u001b[39;00m \u001b[38;5;21;01mnp\u001b[39;00m\n\u001b[1;32m     20\u001b[0m \u001b[38;5;28;01mimport\u001b[39;00m \u001b[38;5;21;01mscipy\u001b[39;00m\u001b[38;5;21;01m.\u001b[39;00m\u001b[38;5;21;01msparse\u001b[39;00m \u001b[38;5;28;01mas\u001b[39;00m \u001b[38;5;21;01msparse\u001b[39;00m\n\u001b[0;32m---> 21\u001b[0m \u001b[38;5;28;01mimport\u001b[39;00m \u001b[38;5;21;01mscipy\u001b[39;00m\u001b[38;5;21;01m.\u001b[39;00m\u001b[38;5;21;01mstats\u001b[39;00m \u001b[38;5;28;01mas\u001b[39;00m \u001b[38;5;21;01msp_stats\u001b[39;00m\n\u001b[1;32m     23\u001b[0m \u001b[38;5;66;03m# Simple Good-Turing estimator.\u001b[39;00m\n\u001b[1;32m     24\u001b[0m \u001b[38;5;66;03m# Based on S implementation in\u001b[39;00m\n\u001b[1;32m     25\u001b[0m \u001b[38;5;66;03m# William A. Gale & Geoffrey Sampson (1995) Good-turing frequency estimation without tears,\u001b[39;00m\n\u001b[1;32m     26\u001b[0m \u001b[38;5;66;03m# Journal of Quantitative Linguistics, 2:3, 217-237, DOI: 10.1080/09296179508590051\u001b[39;00m\n\u001b[1;32m     29\u001b[0m \u001b[38;5;28;01mclass\u001b[39;00m \u001b[38;5;21;01mSimpleGoodTuringError\u001b[39;00m(\u001b[38;5;167;01mException\u001b[39;00m):\n",
      "File \u001b[0;32m/lustre/orion/syb111/proj-shared/Personal/jmerlet/envs/conda/frontier/loompy/lib/python3.12/site-packages/scipy/stats/__init__.py:606\u001b[0m\n\u001b[1;32m      1\u001b[0m \u001b[38;5;124;03m\"\"\"\u001b[39;00m\n\u001b[1;32m      2\u001b[0m \u001b[38;5;124;03m.. _statsrefmanual:\u001b[39;00m\n\u001b[1;32m      3\u001b[0m \n\u001b[0;32m   (...)\u001b[0m\n\u001b[1;32m    601\u001b[0m \n\u001b[1;32m    602\u001b[0m \u001b[38;5;124;03m\"\"\"\u001b[39;00m  \u001b[38;5;66;03m# noqa: E501\u001b[39;00m\n\u001b[1;32m    604\u001b[0m \u001b[38;5;28;01mfrom\u001b[39;00m \u001b[38;5;21;01m.\u001b[39;00m\u001b[38;5;21;01m_warnings_errors\u001b[39;00m \u001b[38;5;28;01mimport\u001b[39;00m (ConstantInputWarning, NearConstantInputWarning,\n\u001b[1;32m    605\u001b[0m                                DegenerateDataWarning, FitError)\n\u001b[0;32m--> 606\u001b[0m \u001b[38;5;28;01mfrom\u001b[39;00m \u001b[38;5;21;01m.\u001b[39;00m\u001b[38;5;21;01m_stats_py\u001b[39;00m \u001b[38;5;28;01mimport\u001b[39;00m \u001b[38;5;241m*\u001b[39m\n\u001b[1;32m    607\u001b[0m \u001b[38;5;28;01mfrom\u001b[39;00m \u001b[38;5;21;01m.\u001b[39;00m\u001b[38;5;21;01m_variation\u001b[39;00m \u001b[38;5;28;01mimport\u001b[39;00m variation\n\u001b[1;32m    608\u001b[0m \u001b[38;5;28;01mfrom\u001b[39;00m \u001b[38;5;21;01m.\u001b[39;00m\u001b[38;5;21;01mdistributions\u001b[39;00m \u001b[38;5;28;01mimport\u001b[39;00m \u001b[38;5;241m*\u001b[39m\n",
      "File \u001b[0;32m/lustre/orion/syb111/proj-shared/Personal/jmerlet/envs/conda/frontier/loompy/lib/python3.12/site-packages/scipy/stats/_stats_py.py:49\u001b[0m\n\u001b[1;32m     47\u001b[0m \u001b[38;5;28;01mimport\u001b[39;00m \u001b[38;5;21;01mscipy\u001b[39;00m\u001b[38;5;21;01m.\u001b[39;00m\u001b[38;5;21;01mspecial\u001b[39;00m \u001b[38;5;28;01mas\u001b[39;00m \u001b[38;5;21;01mspecial\u001b[39;00m\n\u001b[1;32m     48\u001b[0m \u001b[38;5;28;01mfrom\u001b[39;00m \u001b[38;5;21;01mscipy\u001b[39;00m \u001b[38;5;28;01mimport\u001b[39;00m linalg\n\u001b[0;32m---> 49\u001b[0m \u001b[38;5;28;01mfrom\u001b[39;00m \u001b[38;5;21;01m.\u001b[39;00m \u001b[38;5;28;01mimport\u001b[39;00m distributions\n\u001b[1;32m     50\u001b[0m \u001b[38;5;28;01mfrom\u001b[39;00m \u001b[38;5;21;01m.\u001b[39;00m \u001b[38;5;28;01mimport\u001b[39;00m _mstats_basic \u001b[38;5;28;01mas\u001b[39;00m mstats_basic\n\u001b[1;32m     51\u001b[0m \u001b[38;5;28;01mfrom\u001b[39;00m \u001b[38;5;21;01m.\u001b[39;00m\u001b[38;5;21;01m_stats_mstats_common\u001b[39;00m \u001b[38;5;28;01mimport\u001b[39;00m (_find_repeats, linregress, theilslopes,\n\u001b[1;32m     52\u001b[0m                                    siegelslopes)\n",
      "File \u001b[0;32m/lustre/orion/syb111/proj-shared/Personal/jmerlet/envs/conda/frontier/loompy/lib/python3.12/site-packages/scipy/stats/distributions.py:10\u001b[0m\n\u001b[1;32m      1\u001b[0m \u001b[38;5;66;03m#\u001b[39;00m\n\u001b[1;32m      2\u001b[0m \u001b[38;5;66;03m# Author:  Travis Oliphant  2002-2011 with contributions from\u001b[39;00m\n\u001b[1;32m      3\u001b[0m \u001b[38;5;66;03m#          SciPy Developers 2004-2011\u001b[39;00m\n\u001b[0;32m   (...)\u001b[0m\n\u001b[1;32m      6\u001b[0m \u001b[38;5;66;03m#       instead of `git blame -Lxxx,+x`.\u001b[39;00m\n\u001b[1;32m      7\u001b[0m \u001b[38;5;66;03m#\u001b[39;00m\n\u001b[1;32m      8\u001b[0m \u001b[38;5;28;01mfrom\u001b[39;00m \u001b[38;5;21;01m.\u001b[39;00m\u001b[38;5;21;01m_distn_infrastructure\u001b[39;00m \u001b[38;5;28;01mimport\u001b[39;00m (rv_discrete, rv_continuous, rv_frozen)  \u001b[38;5;66;03m# noqa: F401\u001b[39;00m\n\u001b[0;32m---> 10\u001b[0m \u001b[38;5;28;01mfrom\u001b[39;00m \u001b[38;5;21;01m.\u001b[39;00m \u001b[38;5;28;01mimport\u001b[39;00m _continuous_distns\n\u001b[1;32m     11\u001b[0m \u001b[38;5;28;01mfrom\u001b[39;00m \u001b[38;5;21;01m.\u001b[39;00m \u001b[38;5;28;01mimport\u001b[39;00m _discrete_distns\n\u001b[1;32m     13\u001b[0m \u001b[38;5;28;01mfrom\u001b[39;00m \u001b[38;5;21;01m.\u001b[39;00m\u001b[38;5;21;01m_continuous_distns\u001b[39;00m \u001b[38;5;28;01mimport\u001b[39;00m \u001b[38;5;241m*\u001b[39m  \u001b[38;5;66;03m# noqa: F403\u001b[39;00m\n",
      "File \u001b[0;32m<frozen importlib._bootstrap>:1360\u001b[0m, in \u001b[0;36m_find_and_load\u001b[0;34m(name, import_)\u001b[0m\n",
      "File \u001b[0;32m<frozen importlib._bootstrap>:1331\u001b[0m, in \u001b[0;36m_find_and_load_unlocked\u001b[0;34m(name, import_)\u001b[0m\n",
      "File \u001b[0;32m<frozen importlib._bootstrap>:935\u001b[0m, in \u001b[0;36m_load_unlocked\u001b[0;34m(spec)\u001b[0m\n",
      "File \u001b[0;32m<frozen importlib._bootstrap_external>:991\u001b[0m, in \u001b[0;36mexec_module\u001b[0;34m(self, module)\u001b[0m\n",
      "File \u001b[0;32m<frozen importlib._bootstrap_external>:1087\u001b[0m, in \u001b[0;36mget_code\u001b[0;34m(self, fullname)\u001b[0m\n",
      "File \u001b[0;32m<frozen importlib._bootstrap_external>:1186\u001b[0m, in \u001b[0;36mget_data\u001b[0;34m(self, path)\u001b[0m\n",
      "\u001b[0;31mKeyboardInterrupt\u001b[0m: "
     ]
    }
   ],
   "source": [
    "import loompy\n",
    "import numpy as np\n",
    "import os"
   ]
  },
  {
   "cell_type": "code",
   "execution_count": 145,
   "id": "344310fb-fa33-4f11-a11c-ab159d52afd9",
   "metadata": {},
   "outputs": [],
   "source": [
    "loom = '/lustre/orion/syb111/proj-shared/Projects/scrna-seq/data/human/brain/healthy/nemo/raw/celltype_build/data/Hypothalamus.agg.loom'\n",
    "loom = '/lustre/orion/syb111/proj-shared/Projects/scrna-seq/data/human/brain/healthy/nemo/raw/celltype_build/data/Hypothalamus.loom'"
   ]
  },
  {
   "cell_type": "code",
   "execution_count": 126,
   "id": "741578a4-666b-4a74-acb5-675dd1bfd4c4",
   "metadata": {},
   "outputs": [
    {
     "data": {
      "text/html": [
       "<p>59480 rows, 134471 columns, 2 layers<br/>(showing up to 10x10)<br/>/lustre/orion/syb111/proj-shared/Projects/scrna-seq/data/human/brain/healthy/nemo/raw/celltype_build/data/Hypothalamus.loom<br/>name: <em>20240404T185300.627896Z</em><br/>name: <em>3.0.0</em><br/>name: <em>[82155 86076 86077 ...  7423  7408  7388]</em><br/>name: <em>paths:\n",
       "  build: /lustre/orion/syb111/proj-shared/Projects/scrna-seq/data/human/brain/healthy/nemo/raw/celltype_build\n",
       "  samples: /lustre/orion/syb111/proj-shared/Projects/scrna-seq/data/human/brain/healthy/nemo/raw/linnarson/hypo_looms\n",
       "  autoannotation: /lustre/orion/syb111/proj-shared/Projects/scrna-seq/data/human/brain/healthy/nemo/raw/auto_annotations\n",
       "  metadata: /lustre/orion/syb111/proj-shared/Projects/scrna-seq/data/human/brain/healthy/nemo/raw/celltype_build/metadata.txt\n",
       "  fastqs: \n",
       "  index: \n",
       "  qc: \n",
       "params:\n",
       "  batch_keys: []\n",
       "  k: 25\n",
       "  k_pooling: 10\n",
       "  factorization: PCA\n",
       "  n_factors: 50\n",
       "  min_umis: 1000\n",
       "  n_genes: 2000\n",
       "  remove_doublets: False\n",
       "  remove_low_quality: False\n",
       "  mask: ('cellcycle', 'sex', 'ieg', 'mt')\n",
       "  min_fraction_good_cells: 0.4\n",
       "  max_fraction_MT_genes: 1\n",
       "  min_fraction_unspliced_reads: 0.1\n",
       "  max_doubletFinder_TH: 0.4\n",
       "  skip_missing_samples: False\n",
       "  skip_metadata: False\n",
       "  features: enrichment\n",
       "  clusterer: louvain\n",
       "  nn_space: auto\n",
       "  graph: RNN\n",
       "steps: ('poisson_pooling', 'nn', 'embeddings', 'clustering')\n",
       "execution:\n",
       "  n_cpus: 56\n",
       "  n_gpus: 0\n",
       "  memory: 128\n",
       "</em><br/>name: <em>0.5253386714129252</em><br/><table><tr><td>&nbsp;</td><td>&nbsp;</td><td>&nbsp;</td><td>&nbsp;</td><td><strong>Age</strong></td><td>42.0</td><td>42.0</td><td>42.0</td><td>42.0</td><td>42.0</td><td>42.0</td><td>42.0</td><td>42.0</td><td>42.0</td><td>42.0</td><td>...</td></tr><tr><td>&nbsp;</td><td>&nbsp;</td><td>&nbsp;</td><td>&nbsp;</td><td><strong>CellCycle</strong></td><td>0.0023892871034061234</td><td>0.0007374631268436578</td><td>0.0029376564030029377</td><td>0.0015369681281346061</td><td>0.0017475143115396204</td><td>0.0016188123029735025</td><td>0.0018143621084797555</td><td>0.002349509843636069</td><td>0.0015413908785928006</td><td>0.0017541936191207102</td><td>...</td></tr><tr><td>&nbsp;</td><td>&nbsp;</td><td>&nbsp;</td><td>&nbsp;</td><td><strong>CellCycle_G1</strong></td><td>0.0009446018780907929</td><td>0.0003687315634218289</td><td>0.0006528125340006528</td><td>0.0006471444750040447</td><td>0.0007231093702922567</td><td>0.00017040129504984237</td><td>0.0003819709702062643</td><td>0.0005671230657052581</td><td>0.0005440203100915768</td><td>0.0007674597083653108</td><td>...</td></tr><tr><td>&nbsp;</td><td>&nbsp;</td><td>&nbsp;</td><td>&nbsp;</td><td><strong>CellCycle_G2M</strong></td><td>0.0014446852253153304</td><td>0.0003687315634218289</td><td>0.002284843869002285</td><td>0.0008898236531305614</td><td>0.0010244049412473637</td><td>0.0014484110079236601</td><td>0.0014323911382734913</td><td>0.001782386777930811</td><td>0.000997370568501224</td><td>0.0009867339107553995</td><td>...</td></tr><tr><td>&nbsp;</td><td>&nbsp;</td><td>&nbsp;</td><td>&nbsp;</td><td><strong>CellCycle_S</strong></td><td>0.0</td><td>0.0</td><td>0.0</td><td>0.0</td><td>0.0</td><td>0.0</td><td>0.0</td><td>0.0</td><td>0.0</td><td>0.0</td><td>...</td></tr><tr><td>&nbsp;</td><td>&nbsp;</td><td>&nbsp;</td><td>&nbsp;</td><td><strong>CellID</strong></td><td>10X362_5:CACTGAACAAATGGAT</td><td>10X362_6:CTCTGGTCAATGAGCG</td><td>10X362_6:CTCTCGACAGGGAGAG</td><td>10X362_6:TTCTAGTGTACTTCCC</td><td>10X362_6:CCGTGAGTCATTTGCT</td><td>10X362_6:AGGATAAGTACGAGTG</td><td>10X362_6:CGTCAAACAGCGCTTG</td><td>10X362_5:TTCTTGAAGCATGCAG</td><td>10X362_6:GAATCGTCAAGTCGTT</td><td>10X362_6:AATTCCTTCACTCTTA</td><td>...</td></tr><tr><td>&nbsp;</td><td>&nbsp;</td><td>&nbsp;</td><td>&nbsp;</td><td><strong>Chemistry</strong></td><td>v3</td><td>v3</td><td>v3</td><td>v3</td><td>v3</td><td>v3</td><td>v3</td><td>v3</td><td>v3</td><td>v3</td><td>...</td></tr><tr><td>&nbsp;</td><td>&nbsp;</td><td>&nbsp;</td><td>&nbsp;</td><td><strong>Clusters</strong></td><td>0</td><td>0</td><td>0</td><td>0</td><td>0</td><td>0</td><td>0</td><td>0</td><td>0</td><td>0</td><td>...</td></tr><tr><td>&nbsp;</td><td>&nbsp;</td><td>&nbsp;</td><td>&nbsp;</td><td><strong>ClustersCollected</strong></td><td>239</td><td>239</td><td>239</td><td>239</td><td>239</td><td>239</td><td>239</td><td>239</td><td>239</td><td>239</td><td>...</td></tr><tr><td>&nbsp;</td><td>&nbsp;</td><td>&nbsp;</td><td>&nbsp;</td><td><strong>CreationDate</strong></td><td>20240403T014933.316466Z</td><td>20240403T020557.789425Z</td><td>20240403T020557.789425Z</td><td>20240403T020557.789425Z</td><td>20240403T020557.789425Z</td><td>20240403T020557.789425Z</td><td>20240403T020557.789425Z</td><td>20240403T014933.316466Z</td><td>20240403T020557.789425Z</td><td>20240403T020557.789425Z</td><td>...</td></tr><tr><td>&nbsp;</td><td>&nbsp;</td><td>&nbsp;</td><td>&nbsp;</td><td><strong>Donor</strong></td><td>H19.30.001</td><td>H19.30.001</td><td>H19.30.001</td><td>H19.30.001</td><td>H19.30.001</td><td>H19.30.001</td><td>H19.30.001</td><td>H19.30.001</td><td>H19.30.001</td><td>H19.30.001</td><td>...</td></tr><tr><td>&nbsp;</td><td>&nbsp;</td><td>&nbsp;</td><td>&nbsp;</td><td><strong>IsCycling</strong></td><td>0</td><td>0</td><td>0</td><td>0</td><td>0</td><td>0</td><td>0</td><td>0</td><td>0</td><td>0</td><td>...</td></tr><tr><td>&nbsp;</td><td>&nbsp;</td><td>&nbsp;</td><td>&nbsp;</td><td><strong>NGenes</strong></td><td>4096.0</td><td>2848.0</td><td>3171.0</td><td>3671.0</td><td>4359.0</td><td>3365.0</td><td>3102.0</td><td>3526.0</td><td>3448.0</td><td>4239.0</td><td>...</td></tr><tr><td>&nbsp;</td><td>&nbsp;</td><td>&nbsp;</td><td>&nbsp;</td><td><strong>Outliers</strong></td><td>0</td><td>0</td><td>0</td><td>0</td><td>0</td><td>0</td><td>0</td><td>0</td><td>0</td><td>0</td><td>...</td></tr><tr><td>&nbsp;</td><td>&nbsp;</td><td>&nbsp;</td><td>&nbsp;</td><td><strong>PCA</strong></td><td>[ 2.31561395e+01 -4.51636639e+00  2.50364266e+00 -5.96447446e-01\n",
       "  2.27371376e-02 -1.73303055e+00  2.98300006e+00  5.57586585e-01\n",
       " -7.83596454e-01  1.22761477e+00 -1.21859733e-01  7.33339036e-01\n",
       "  5.02620808e-01 -9.28637616e-01  1.77470329e+00 -7.02112925e-01\n",
       " -1.86234987e+00  3.89600001e+00  3.60728685e+00 -1.24719235e+00\n",
       "  5.67077808e-01  6.34181813e-01  9.27690296e-01 -3.23180544e+00\n",
       " -9.73215467e-01  6.86046174e-01 -7.41479067e-01  2.33219662e+00\n",
       " -1.27267679e+00  5.01795009e-01 -1.41875343e-01  1.32293375e-01\n",
       " -3.36304391e-01  5.13796147e-01  1.05672616e+00 -5.02010084e-02\n",
       "  9.23031761e-01  9.36387324e-01  1.03389323e-01  5.82021792e-01\n",
       "  9.87178606e-01 -2.53401920e-01 -3.02840175e-01  8.93320275e-01\n",
       "  2.13753490e-01 -1.03602134e+00  6.04568288e-01 -5.32372258e-01\n",
       "  7.24226990e-01 -3.32214082e-01]</td><td>[ 1.90364902e+01 -3.44201746e+00  2.35104267e+00 -5.03894614e-01\n",
       "  5.96958978e-02 -7.02532397e-01  1.35957677e+00 -3.03514383e-01\n",
       " -1.69206098e+00  1.14637557e+00 -8.27919905e-01 -2.47190485e-01\n",
       "  2.50984384e-01 -1.15789040e+00  2.39388564e+00 -1.71116519e+00\n",
       " -1.30253969e+00  3.46218995e+00  3.57378293e+00 -1.40944596e+00\n",
       "  2.88092682e-01  1.88378476e+00  1.08979779e+00 -4.11271694e-02\n",
       " -2.33929854e-01  1.38204498e+00  2.06315375e-01  1.26655354e+00\n",
       " -4.61712592e-01 -3.89083716e-03 -4.65889593e-03 -3.62377823e-01\n",
       "  3.54444661e-01  1.77437302e-01  4.33383467e-03 -2.87070956e-01\n",
       "  7.86771403e-02 -2.62950788e-01 -2.83173615e-02  2.89044071e-01\n",
       " -2.50019065e-01  1.16564783e-01  2.14070438e-01  6.20256273e-01\n",
       " -3.22883335e-01 -1.20365913e-01  4.98438487e-01  9.24043951e-02\n",
       " -3.29520163e-01  3.82360759e-01]</td><td>[22.18174504 -5.1541225   3.15063841 -0.86197911  0.06053726 -1.29128018\n",
       "  2.97695164  0.9262067  -1.27132741  1.87384791 -0.85250562  0.82103794\n",
       "  0.25766098 -3.09542828  3.14694583 -1.33737669 -2.02461777  4.45261575\n",
       "  4.25685739 -1.39721825  0.88526387  1.35759547  1.1789867  -1.69618986\n",
       " -0.18660767  1.00462253 -0.58268671  0.80842997 -1.37634679  0.29073552\n",
       "  0.2022934   0.38275914  0.23266338  0.28168714  0.06708757 -0.05146629\n",
       "  0.77958854  0.23661552  0.1419633   0.1200678  -0.24446069 -0.31335386\n",
       "  0.04914201 -1.2396212  -0.4118174   0.45141641 -0.86633948  0.32265436\n",
       " -0.31534164  0.04476269]</td><td>[ 2.08443956e+01 -3.59186683e+00  2.43814949e+00 -1.12727228e+00\n",
       "  4.11820237e-01  1.49192305e-01  4.00159305e-01 -8.63739174e-01\n",
       " -8.58550455e-01  2.00739482e-01  3.38563507e-01  3.55582195e-01\n",
       "  3.84696247e-01 -1.72119220e+00  2.00947949e+00 -1.06197721e+00\n",
       " -1.32741655e+00  3.27928062e+00  2.35632479e+00 -1.89698011e+00\n",
       "  7.35663818e-01  1.43660260e+00  1.00793897e-02 -1.44410586e+00\n",
       "  4.35088650e-02  5.62001114e-01  8.38409847e-01  2.40648277e+00\n",
       " -1.24049361e+00 -7.03025934e-01  4.35826874e-01 -2.02275428e-01\n",
       "  9.31801038e-01 -2.90760188e-01 -4.67828871e-01  3.22832257e-02\n",
       " -4.65562520e-01  9.40239688e-02  5.74249449e-01  9.81595301e-01\n",
       " -8.00629450e-01  4.83173525e-01  2.49192730e-01 -9.83949280e-02\n",
       "  3.04728459e-02  5.61131213e-01 -8.75133842e-01  3.67685573e-01\n",
       " -3.31135938e-01  3.88561402e-01]</td><td>[ 2.05560603e+01 -4.67073046e+00  2.38745660e+00 -1.02304999e+00\n",
       " -6.26264319e-01 -1.33610767e+00  1.94095747e+00 -3.20930856e-01\n",
       " -1.12061745e+00  1.35150128e+00 -1.10680839e-01 -1.11186860e-01\n",
       "  1.01582258e-01 -2.27927067e+00  2.33443121e+00 -1.06251026e+00\n",
       " -1.24269879e+00  2.91009887e+00  4.26373707e+00 -3.75998598e-01\n",
       "  4.29840186e-01  1.81924187e+00  1.02001218e-01 -1.31416443e+00\n",
       " -4.77302506e-01  8.40623346e-02 -5.04598929e-01  2.34805432e+00\n",
       " -6.81780015e-01  3.85264688e-01  1.97872434e-01 -5.53505784e-01\n",
       "  7.45603707e-01  1.17001331e-01  3.46530153e-01  3.99126253e-01\n",
       "  4.77447761e-01 -3.50327550e-01  6.68274459e-01  3.22701040e-01\n",
       "  5.39267807e-01 -7.05087387e-01 -3.70339032e-03  1.08861419e+00\n",
       " -8.26106316e-02 -1.82887727e-01  2.93874585e-01  4.80437872e-01\n",
       "  4.46616314e-01 -3.36956794e-01]</td><td>[ 2.12844520e+01 -4.36530465e+00  2.89734922e+00 -9.72997974e-01\n",
       "  2.65954356e-01 -1.32019251e+00  2.47931654e+00  4.12303660e-01\n",
       " -1.66521399e+00  2.14820929e+00 -4.20097042e-01  1.51598103e-01\n",
       "  6.56803636e-02 -1.16106557e+00  2.51920284e+00 -1.15273227e+00\n",
       " -2.17089989e+00  3.52996662e+00  3.80259360e+00 -1.33419508e+00\n",
       "  1.11934043e+00  1.53531485e+00  1.59480076e+00 -1.52821629e+00\n",
       " -5.52796238e-02  5.56038692e-01 -1.12444166e-02  6.29036053e-01\n",
       " -6.53233472e-01 -4.21664056e-02  4.88419816e-01  3.86847379e-01\n",
       "  1.00371728e-01  4.51683760e-01  2.84719071e-01 -3.26688735e-01\n",
       "  3.80563075e-02  6.90628499e-01 -1.27469445e-01 -2.90896559e-02\n",
       " -4.94947664e-01 -2.99285539e-01  3.31550993e-01 -2.29509152e-01\n",
       "  5.04518329e-01 -1.07567713e-01 -5.28785976e-01  4.02981360e-01\n",
       " -5.44655318e-01  2.60324114e-01]</td><td>[ 2.19782934e+01 -2.69267910e+00  2.37397029e+00 -1.24007486e+00\n",
       "  3.27122850e-01 -2.78893036e-02  1.99883921e+00  7.08039193e-02\n",
       " -1.59840443e+00  1.78797380e+00  6.72189483e-01  5.84102872e-01\n",
       "  2.67986068e-01 -2.27632561e+00  3.59679713e+00 -1.82551495e+00\n",
       " -1.41609159e+00  4.41533843e+00  4.25944696e+00 -1.74378154e+00\n",
       "  1.40023705e+00  1.24246272e+00  2.55813356e-01 -1.80565764e+00\n",
       " -1.11267648e-01 -1.21190349e-02  1.35600204e+00  1.80777521e+00\n",
       " -1.12086828e+00 -3.00655523e-01  1.08109132e-01 -6.24689310e-01\n",
       " -4.92829488e-01 -4.58007543e-02  8.94695552e-01  5.31928441e-01\n",
       " -7.91666426e-01  5.34796112e-01  5.62301243e-01 -2.23078544e-02\n",
       "  4.06741037e-01  4.79261256e-01  5.83675865e-01 -1.31527565e-01\n",
       "  5.44678786e-01 -3.38826021e-02  5.08601353e-02  1.65323176e-01\n",
       " -1.26900844e-01  4.76713038e-01]</td><td>[20.11182913 -4.7633227   2.04519461 -1.25047979 -0.51640861 -0.83481321\n",
       "  1.77307674  0.76941206 -1.6364789   0.73939082 -0.34095784 -0.10968921\n",
       " -0.43032529 -1.71232047  2.86829758 -1.31812925 -2.16407425  4.436433\n",
       "  4.32741992 -0.91030386  0.99598696  1.82384833  1.39533576 -0.0676797\n",
       "  0.16239536  0.33838793 -0.43205524  1.11603295 -0.89546889 -0.51280581\n",
       " -0.60249789 -0.31693382  0.25796218  0.43182728  0.49102859  0.32807172\n",
       "  0.18389793  0.51759626 -0.18883919 -0.08374912  0.17904515 -0.45811293\n",
       "  0.13494361  0.03966373 -0.1813287   0.08788109  0.98034185  0.23894684\n",
       "  0.17932518 -0.36462523]</td><td>[ 2.31949685e+01 -4.21095017e+00  2.82705431e+00 -1.39635023e+00\n",
       " -7.88811151e-01 -1.11594841e+00  2.33132453e+00  9.10009980e-01\n",
       " -1.79171617e+00  1.81817282e+00 -1.42819318e-01  7.32836217e-01\n",
       "  1.15174464e-01 -2.35658375e+00  3.73015623e+00 -1.62934070e+00\n",
       " -2.30251917e+00  4.66780755e+00  4.89838181e+00 -2.02055905e+00\n",
       "  7.96836466e-01  1.59349188e+00  1.56469235e+00 -2.12307203e+00\n",
       " -5.32710292e-01  8.62771219e-01  4.76013112e-01  1.92303022e+00\n",
       " -5.53448645e-01 -5.83920892e-01 -5.78314304e-01 -7.91193806e-01\n",
       " -2.09318563e-01  2.40921339e-01  5.20418239e-01  6.80203503e-01\n",
       "  3.57727675e-01 -6.76577132e-01  1.06083501e-01 -6.03160751e-01\n",
       "  5.30377653e-01  9.26597198e-03  1.00489883e+00  7.77449037e-01\n",
       "  2.71677507e-02 -2.67995749e-02 -1.07117624e-01  3.13237805e-01\n",
       "  1.03774902e-01  7.67778838e-01]</td><td>[ 2.15690408e+01 -3.86391719e+00  2.68666711e+00 -1.00870893e+00\n",
       "  8.72249672e-02 -1.03178878e+00  2.70239041e+00  1.30614138e-01\n",
       " -1.29125642e+00  2.14014234e+00 -3.60240383e-02  8.05911762e-02\n",
       " -5.02173237e-01 -1.81179489e+00  3.19460414e+00 -1.35243004e+00\n",
       " -2.65419410e+00  4.35640444e+00  4.56720534e+00 -1.84317784e+00\n",
       "  1.24343840e+00  1.94150747e+00  2.15032139e+00 -1.90877494e+00\n",
       "  3.04258897e-01  6.71567173e-01  2.80567382e-01  1.66613554e+00\n",
       " -8.81551633e-01 -3.85530336e-01 -1.13198551e-01 -5.97630351e-01\n",
       "  3.38175980e-01  3.81885110e-02  3.27800065e-01  1.55366586e-01\n",
       "  2.86393100e-01  2.05937623e-01  1.19389678e-01 -2.46084263e-01\n",
       " -3.61535725e-01 -1.48046531e-01  1.96301304e-01 -3.79790072e-01\n",
       "  6.94134890e-02 -2.19426130e-01  1.13352410e-02  9.33604412e-01\n",
       " -1.74495993e-01  2.67298459e-01]</td><td>...</td></tr><tr><td>&nbsp;</td><td>&nbsp;</td><td>&nbsp;</td><td>&nbsp;</td><td><strong>ROIGroupCoarse</strong></td><td>Hypothalamus</td><td>Hypothalamus</td><td>Hypothalamus</td><td>Hypothalamus</td><td>Hypothalamus</td><td>Hypothalamus</td><td>Hypothalamus</td><td>Hypothalamus</td><td>Hypothalamus</td><td>Hypothalamus</td><td>...</td></tr><tr><td>&nbsp;</td><td>&nbsp;</td><td>&nbsp;</td><td>&nbsp;</td><td><strong>ROIGroupFine</strong></td><td>Hypothalamus</td><td>Hypothalamus</td><td>Hypothalamus</td><td>Hypothalamus</td><td>Hypothalamus</td><td>Hypothalamus</td><td>Hypothalamus</td><td>Hypothalamus</td><td>Hypothalamus</td><td>Hypothalamus</td><td>...</td></tr><tr><td>&nbsp;</td><td>&nbsp;</td><td>&nbsp;</td><td>&nbsp;</td><td><strong>Roi</strong></td><td>MN</td><td>MN</td><td>MN</td><td>MN</td><td>MN</td><td>MN</td><td>MN</td><td>MN</td><td>MN</td><td>MN</td><td>...</td></tr><tr><td>&nbsp;</td><td>&nbsp;</td><td>&nbsp;</td><td>&nbsp;</td><td><strong>SampleID</strong></td><td>10X362_5</td><td>10X362_6</td><td>10X362_6</td><td>10X362_6</td><td>10X362_6</td><td>10X362_6</td><td>10X362_6</td><td>10X362_5</td><td>10X362_6</td><td>10X362_6</td><td>...</td></tr><tr><td>&nbsp;</td><td>&nbsp;</td><td>&nbsp;</td><td>&nbsp;</td><td><strong>Sex</strong></td><td>M</td><td>M</td><td>M</td><td>M</td><td>M</td><td>M</td><td>M</td><td>M</td><td>M</td><td>M</td><td>...</td></tr><tr><td>&nbsp;</td><td>&nbsp;</td><td>&nbsp;</td><td>&nbsp;</td><td><strong>Species</strong></td><td>Homo sapiens</td><td>Homo sapiens</td><td>Homo sapiens</td><td>Homo sapiens</td><td>Homo sapiens</td><td>Homo sapiens</td><td>Homo sapiens</td><td>Homo sapiens</td><td>Homo sapiens</td><td>Homo sapiens</td><td>...</td></tr><tr><td>&nbsp;</td><td>&nbsp;</td><td>&nbsp;</td><td>&nbsp;</td><td><strong>Subclusters</strong></td><td>3001</td><td>2997</td><td>2996</td><td>2996</td><td>2996</td><td>2996</td><td>2996</td><td>2996</td><td>2997</td><td>2997</td><td>...</td></tr><tr><td>&nbsp;</td><td>&nbsp;</td><td>&nbsp;</td><td>&nbsp;</td><td><strong>TSNE</strong></td><td>[ 72.5900975  -20.43386213]</td><td>[ 74.50958323 -16.40580678]</td><td>[ 74.26609071 -21.82819068]</td><td>[ 70.96689154 -17.66863043]</td><td>[ 77.10262341 -20.25964538]</td><td>[ 74.53433932 -20.90180178]</td><td>[ 70.00677882 -20.59602185]</td><td>[ 76.28989484 -22.1504101 ]</td><td>[ 72.75221165 -23.62193099]</td><td>[ 70.74718119 -23.17354319]</td><td>...</td></tr><tr><td>&nbsp;</td><td>&nbsp;</td><td>&nbsp;</td><td>&nbsp;</td><td><strong>Tissue</strong></td><td>Hypothalamus (HTH) - mammillary region of HTH (HTHma) - mammillary nucleus - MN</td><td>Hypothalamus (HTH) - mammillary region of HTH (HTHma) - mammillary nucleus - MN</td><td>Hypothalamus (HTH) - mammillary region of HTH (HTHma) - mammillary nucleus - MN</td><td>Hypothalamus (HTH) - mammillary region of HTH (HTHma) - mammillary nucleus - MN</td><td>Hypothalamus (HTH) - mammillary region of HTH (HTHma) - mammillary nucleus - MN</td><td>Hypothalamus (HTH) - mammillary region of HTH (HTHma) - mammillary nucleus - MN</td><td>Hypothalamus (HTH) - mammillary region of HTH (HTHma) - mammillary nucleus - MN</td><td>Hypothalamus (HTH) - mammillary region of HTH (HTHma) - mammillary nucleus - MN</td><td>Hypothalamus (HTH) - mammillary region of HTH (HTHma) - mammillary nucleus - MN</td><td>Hypothalamus (HTH) - mammillary region of HTH (HTHma) - mammillary nucleus - MN</td><td>...</td></tr><tr><td>&nbsp;</td><td>&nbsp;</td><td>&nbsp;</td><td>&nbsp;</td><td><strong>TotalUMI</strong></td><td>17997.0</td><td>8136.0</td><td>9191.0</td><td>12362.0</td><td>16595.0</td><td>11737.0</td><td>10472.0</td><td>12343.0</td><td>11029.0</td><td>18242.0</td><td>...</td></tr><tr><td>&nbsp;</td><td>&nbsp;</td><td>&nbsp;</td><td>&nbsp;</td><td><strong>UMAP</strong></td><td>[ 7.5609555 -4.2455173]</td><td>[ 7.931536 -4.294754]</td><td>[ 7.2173734 -4.298785 ]</td><td>[ 8.047978  -3.8558936]</td><td>[ 7.511973  -4.2061334]</td><td>[ 7.5171356 -4.183308 ]</td><td>[ 7.3614545 -3.9237452]</td><td>[ 7.378484 -4.248957]</td><td>[ 7.008218 -4.019673]</td><td>[ 7.129346 -3.902671]</td><td>...</td></tr><tr><td>&nbsp;</td><td>&nbsp;</td><td>&nbsp;</td><td>&nbsp;</td><td><strong>UMAP3D</strong></td><td>[ 7.403077   -0.74273753  5.4307647 ]</td><td>[ 7.9941354 -1.0566     5.451246 ]</td><td>[ 7.4205256 -1.0028921  5.0696607]</td><td>[ 8.053172   -0.46702275  5.4807987 ]</td><td>[ 7.668238  -0.9193767  5.3180876]</td><td>[ 7.7274904 -0.9922932  5.1444283]</td><td>[ 7.6543484  -0.70188963  5.0601177 ]</td><td>[ 7.8458123 -1.1879667  5.0374155]</td><td>[ 7.329673   -0.80214816  4.8800116 ]</td><td>[ 7.5235662  -0.87325794  4.8234878 ]</td><td>...</td></tr><tr><td>&nbsp;</td><td>&nbsp;</td><td>&nbsp;</td><td>&nbsp;</td><td><strong>sampleid</strong></td><td>10X362_5</td><td>10X362_6</td><td>10X362_6</td><td>10X362_6</td><td>10X362_6</td><td>10X362_6</td><td>10X362_6</td><td>10X362_5</td><td>10X362_6</td><td>10X362_6</td><td>...</td></tr><tr><td><strong>Accession</strong></td><td><strong>Gene</strong></td><td><strong>Selected</strong></td><td><strong>Valid</strong></td><td>&nbsp;</td><td>&nbsp;</td><td>&nbsp;</td><td>&nbsp;</td><td>&nbsp;</td><td>&nbsp;</td><td>&nbsp;</td><td>&nbsp;</td><td>&nbsp;</td><td>&nbsp;</td><td>&nbsp;</td><td>...</td></tr><tr><td>ENSG00000231373.1</td><td>GNA14-AS1</td><td>0</td><td>1</td><td>&nbsp;</td><td>1.0</td><td>0.0</td><td>1.0</td><td>9.0</td><td>0.0</td><td>0.0</td><td>2.0</td><td>0.0</td><td>0.0</td><td>0.0</td><td>...</td></tr><tr><td>ENSG00000287326.1</td><td>AL589787.1</td><td>1</td><td>1</td><td>&nbsp;</td><td>0.0</td><td>0.0</td><td>3.0</td><td>1.0</td><td>2.0</td><td>1.0</td><td>2.0</td><td>1.0</td><td>1.0</td><td>2.0</td><td>...</td></tr><tr><td>ENSG00000233359.2</td><td>AC114485.1</td><td>1</td><td>1</td><td>&nbsp;</td><td>12.0</td><td>0.0</td><td>3.0</td><td>0.0</td><td>1.0</td><td>12.0</td><td>0.0</td><td>4.0</td><td>7.0</td><td>8.0</td><td>...</td></tr><tr><td>ENSG00000132911.5</td><td>NMUR2</td><td>0</td><td>1</td><td>&nbsp;</td><td>0.0</td><td>0.0</td><td>0.0</td><td>0.0</td><td>0.0</td><td>0.0</td><td>0.0</td><td>0.0</td><td>2.0</td><td>0.0</td><td>...</td></tr><tr><td>ENSG00000154864.13</td><td>PIEZO2</td><td>0</td><td>1</td><td>&nbsp;</td><td>10.0</td><td>8.0</td><td>7.0</td><td>5.0</td><td>9.0</td><td>9.0</td><td>6.0</td><td>5.0</td><td>6.0</td><td>9.0</td><td>...</td></tr><tr><td>ENSG00000204655.12</td><td>MOG</td><td>1</td><td>1</td><td>&nbsp;</td><td>10.0</td><td>1.0</td><td>6.0</td><td>4.0</td><td>4.0</td><td>7.0</td><td>7.0</td><td>5.0</td><td>3.0</td><td>8.0</td><td>...</td></tr><tr><td>ENSG00000145794.17</td><td>MEGF10</td><td>0</td><td>1</td><td>&nbsp;</td><td>10.0</td><td>0.0</td><td>5.0</td><td>1.0</td><td>1.0</td><td>1.0</td><td>6.0</td><td>5.0</td><td>2.0</td><td>11.0</td><td>...</td></tr><tr><td>ENSG00000143995.20</td><td>MEIS1</td><td>1</td><td>1</td><td>&nbsp;</td><td>20.0</td><td>2.0</td><td>4.0</td><td>4.0</td><td>7.0</td><td>1.0</td><td>3.0</td><td>3.0</td><td>4.0</td><td>9.0</td><td>...</td></tr><tr><td>ENSG00000249061.1</td><td>AC109492.1</td><td>1</td><td>1</td><td>&nbsp;</td><td>6.0</td><td>0.0</td><td>1.0</td><td>2.0</td><td>4.0</td><td>2.0</td><td>7.0</td><td>15.0</td><td>6.0</td><td>3.0</td><td>...</td></tr><tr><td>ENSG00000287776.1</td><td>AL513487.1</td><td>0</td><td>1</td><td>&nbsp;</td><td>0.0</td><td>0.0</td><td>0.0</td><td>0.0</td><td>0.0</td><td>0.0</td><td>0.0</td><td>0.0</td><td>0.0</td><td>0.0</td><td>...</td></tr><tr><td>...</td><td>...</td><td>...</td><td>...</td><td>...</td><td>...</td><td>...</td><td>...</td><td>...</td><td>...</td><td>...</td><td>...</td><td>...</td><td>...</td><td>...</td><td>...</td></tr></table>"
      ],
      "text/plain": [
       "<loompy.loompy.LoomConnection at 0x7f14737529a0>"
      ]
     },
     "execution_count": 126,
     "metadata": {},
     "output_type": "execute_result"
    }
   ],
   "source": [
    "ds = loompy.connect(loom)\n",
    "ds"
   ]
  },
  {
   "cell_type": "code",
   "execution_count": 127,
   "id": "efef3835-f9af-49df-9c86-1a108786cc79",
   "metadata": {},
   "outputs": [],
   "source": [
    "ds.close()"
   ]
  },
  {
   "cell_type": "code",
   "execution_count": 146,
   "id": "37e8e3fa-463b-45f7-9a0a-a8c10bc39d67",
   "metadata": {},
   "outputs": [],
   "source": [
    "with loompy.connect(loom) as ds:\n",
    "    #print(np.min(ds.ca['TotalUMI']))\n",
    "    #print(np.unique(ds.ca['Clusters']))\n",
    "    #print(np.unique(ds.ca['Age']))\n",
    "    #auto = ds.ca['AutoAnnotation']\n",
    "    #ncells = ds.ca['NCells']\n",
    "    clusters = ds.ca['Clusters']\n",
    "    #print(ds.layers.keys())"
   ]
  },
  {
   "cell_type": "code",
   "execution_count": 147,
   "id": "d593f1b4-78c8-4819-bce7-464bd0f68470",
   "metadata": {},
   "outputs": [
    {
     "data": {
      "text/plain": [
       "242"
      ]
     },
     "execution_count": 147,
     "metadata": {},
     "output_type": "execute_result"
    }
   ],
   "source": [
    "max(clusters)"
   ]
  },
  {
   "cell_type": "code",
   "execution_count": 131,
   "id": "7441d591-6f6b-4fe1-b317-3ff5f5b62f23",
   "metadata": {},
   "outputs": [
    {
     "data": {
      "text/plain": [
       "243"
      ]
     },
     "execution_count": 131,
     "metadata": {},
     "output_type": "execute_result"
    }
   ],
   "source": [
    "len(np.unique(clusters))"
   ]
  },
  {
   "cell_type": "code",
   "execution_count": 39,
   "id": "a5dfb644-f60e-4585-8cd9-b5538350f297",
   "metadata": {},
   "outputs": [],
   "source": [
    "celltypes = {}\n",
    "for i, ct in enumerate(auto):\n",
    "    if ct not in celltypes.keys():\n",
    "        celltypes[ct] = ncells[i]\n",
    "    else:\n",
    "        celltypes[ct] += ncells[i]\n",
    "\n",
    "cts, ct_counts = [], []\n",
    "for ct, ct_count in celltypes.items():\n",
    "    cts.append(ct)\n",
    "    ct_counts.append(ct_count)"
   ]
  },
  {
   "cell_type": "code",
   "execution_count": 57,
   "id": "0441f348-0100-4f94-bd47-a30a3b07e5ea",
   "metadata": {},
   "outputs": [],
   "source": [
    "cluster_names = {}\n",
    "for cluster in clusters:\n",
    "    cluster_names[cluster] = auto[cluster]"
   ]
  },
  {
   "cell_type": "markdown",
   "id": "49e6c749-8933-4bbf-ae4c-8c32c1d3f1bf",
   "metadata": {},
   "source": [
    "### Making celltype plot"
   ]
  },
  {
   "cell_type": "code",
   "execution_count": 21,
   "id": "efe5d3d1-5b8c-456f-919a-fa2c91b648bb",
   "metadata": {},
   "outputs": [],
   "source": [
    "import matplotlib.pyplot as plt"
   ]
  },
  {
   "cell_type": "code",
   "execution_count": 46,
   "id": "163bc0ed-8f24-453a-b4a4-e7451552fb15",
   "metadata": {},
   "outputs": [],
   "source": [
    "out_path = '/lustre/orion/syb111/proj-shared/Projects/scrna-seq/data/human/brain/healthy/nemo/raw/plots/celltypes_bar.png'"
   ]
  },
  {
   "cell_type": "code",
   "execution_count": 48,
   "id": "5fcd10e4-f7ae-4317-b69f-8acd7022db88",
   "metadata": {},
   "outputs": [
    {
     "data": {
      "image/png": "[encoded data removed]",
      "text/plain": [
       "<Figure size 1200x800 with 1 Axes>"
      ]
     },
     "metadata": {},
     "output_type": "display_data"
    }
   ],
   "source": [
    "fig, ax = plt.subplots(figsize=(12, 8))\n",
    "ct_idx = np.argsort(ct_counts)[::-1]\n",
    "cts = np.array(cts)[ct_idx]\n",
    "ct_counts = np.array(ct_counts)[ct_idx]\n",
    "y = np.arange(len(cts))\n",
    "ax.barh(y, ct_counts)\n",
    "ax.set_yticks(y)\n",
    "ax.set_yticklabels(cts)\n",
    "plt.tight_layout()\n",
    "plt.savefig(out_path, dpi=300)\n",
    "plt.show()"
   ]
  },
  {
   "cell_type": "markdown",
   "id": "f4ea9860-9329-471b-b4dd-d6dc8cee3479",
   "metadata": {},
   "source": [
    "# Writing mtx tsvs from the non-aggregate loom file"
   ]
  },
  {
   "cell_type": "code",
   "execution_count": 71,
   "id": "174304c4-e88b-4800-ad0b-ae0ee7353dc3",
   "metadata": {},
   "outputs": [],
   "source": [
    "loom = '/lustre/orion/syb111/proj-shared/Projects/scrna-seq/data/human/brain/healthy/nemo/raw/linnarson/hypo_looms/10X190_5.loom'"
   ]
  },
  {
   "cell_type": "code",
   "execution_count": 50,
   "id": "c5bc2a39-75a9-487b-a261-9a2efd6fc044",
   "metadata": {},
   "outputs": [
    {
     "data": {
      "text/html": [
       "<p>59480 rows, 6326 columns, 1 layer<br/>(showing up to 10x10)<br/>/lustre/orion/syb111/proj-shared/Projects/scrna-seq/data/human/brain/healthy/nemo/raw/linnarson/hypo_looms/10X190_5.loom<br/>name: <em>20240329T161632.836525Z</em><br/>name: <em>3.0.0</em><br/><table><tr><td>&nbsp;</td><td>&nbsp;</td><td>&nbsp;</td><td><strong>Age</strong></td><td>50.0</td><td>50.0</td><td>50.0</td><td>50.0</td><td>50.0</td><td>50.0</td><td>50.0</td><td>50.0</td><td>50.0</td><td>50.0</td><td>...</td></tr><tr><td>&nbsp;</td><td>&nbsp;</td><td>&nbsp;</td><td><strong>CellCycle</strong></td><td>0.000562271577171774</td><td>0.0028328611898017</td><td>0.0008845643520566122</td><td>0.0009161704076958314</td><td>0.0</td><td>0.002107481559536354</td><td>0.0023076923076923075</td><td>0.002031832035218422</td><td>0.001317089232795522</td><td>0.0017513134851138354</td><td>...</td></tr><tr><td>&nbsp;</td><td>&nbsp;</td><td>&nbsp;</td><td><strong>CellID</strong></td><td>10X190_5:GGGACCTAGTATGTAG</td><td>10X190_5:CAGGCCATCAGCAATC</td><td>10X190_5:GGCGTCAGTCGTCAGC</td><td>10X190_5:TGTCCTGTCCGATGCG</td><td>10X190_5:CTGTATTAGCGCTGAA</td><td>10X190_5:GCCATTCTCCGTGGGT</td><td>10X190_5:CTACGGGTCATTGTTC</td><td>10X190_5:CATCCCACAGCTATAC</td><td>10X190_5:TCACGCTTCGTGCGAC</td><td>10X190_5:CATCGTCTCTTTCCAA</td><td>...</td></tr><tr><td>&nbsp;</td><td>&nbsp;</td><td>&nbsp;</td><td><strong>Chemistry</strong></td><td>v3</td><td>v3</td><td>v3</td><td>v3</td><td>v3</td><td>v3</td><td>v3</td><td>v3</td><td>v3</td><td>v3</td><td>...</td></tr><tr><td>&nbsp;</td><td>&nbsp;</td><td>&nbsp;</td><td><strong>Clusters</strong></td><td>0</td><td>1</td><td>1</td><td>1</td><td>1</td><td>1</td><td>1</td><td>1</td><td>1</td><td>1</td><td>...</td></tr><tr><td>&nbsp;</td><td>&nbsp;</td><td>&nbsp;</td><td><strong>Donor</strong></td><td>H18.30.002</td><td>H18.30.002</td><td>H18.30.002</td><td>H18.30.002</td><td>H18.30.002</td><td>H18.30.002</td><td>H18.30.002</td><td>H18.30.002</td><td>H18.30.002</td><td>H18.30.002</td><td>...</td></tr><tr><td>&nbsp;</td><td>&nbsp;</td><td>&nbsp;</td><td><strong>NGenes</strong></td><td>1951.0</td><td>1576.0</td><td>1469.0</td><td>1445.0</td><td>1039.0</td><td>1676.0</td><td>1594.0</td><td>1672.0</td><td>1761.0</td><td>1547.0</td><td>...</td></tr><tr><td>&nbsp;</td><td>&nbsp;</td><td>&nbsp;</td><td><strong>ROIGroupCoarse</strong></td><td>Hypothalamus</td><td>Hypothalamus</td><td>Hypothalamus</td><td>Hypothalamus</td><td>Hypothalamus</td><td>Hypothalamus</td><td>Hypothalamus</td><td>Hypothalamus</td><td>Hypothalamus</td><td>Hypothalamus</td><td>...</td></tr><tr><td>&nbsp;</td><td>&nbsp;</td><td>&nbsp;</td><td><strong>ROIGroupFine</strong></td><td>Hypothalamus</td><td>Hypothalamus</td><td>Hypothalamus</td><td>Hypothalamus</td><td>Hypothalamus</td><td>Hypothalamus</td><td>Hypothalamus</td><td>Hypothalamus</td><td>Hypothalamus</td><td>Hypothalamus</td><td>...</td></tr><tr><td>&nbsp;</td><td>&nbsp;</td><td>&nbsp;</td><td><strong>Roi</strong></td><td>HTHtub</td><td>HTHtub</td><td>HTHtub</td><td>HTHtub</td><td>HTHtub</td><td>HTHtub</td><td>HTHtub</td><td>HTHtub</td><td>HTHtub</td><td>HTHtub</td><td>...</td></tr><tr><td>&nbsp;</td><td>&nbsp;</td><td>&nbsp;</td><td><strong>SampleID</strong></td><td>10X190_5</td><td>10X190_5</td><td>10X190_5</td><td>10X190_5</td><td>10X190_5</td><td>10X190_5</td><td>10X190_5</td><td>10X190_5</td><td>10X190_5</td><td>10X190_5</td><td>...</td></tr><tr><td>&nbsp;</td><td>&nbsp;</td><td>&nbsp;</td><td><strong>Sex</strong></td><td>M</td><td>M</td><td>M</td><td>M</td><td>M</td><td>M</td><td>M</td><td>M</td><td>M</td><td>M</td><td>...</td></tr><tr><td>&nbsp;</td><td>&nbsp;</td><td>&nbsp;</td><td><strong>Subclusters</strong></td><td>3293</td><td>3299</td><td>3299</td><td>3299</td><td>3299</td><td>3300</td><td>3300</td><td>3300</td><td>3300</td><td>3299</td><td>...</td></tr><tr><td>&nbsp;</td><td>&nbsp;</td><td>&nbsp;</td><td><strong>Tissue</strong></td><td>Hypothalamus (HTH) - tuberal region of hypothalamus - HTHtub</td><td>Hypothalamus (HTH) - tuberal region of hypothalamus - HTHtub</td><td>Hypothalamus (HTH) - tuberal region of hypothalamus - HTHtub</td><td>Hypothalamus (HTH) - tuberal region of hypothalamus - HTHtub</td><td>Hypothalamus (HTH) - tuberal region of hypothalamus - HTHtub</td><td>Hypothalamus (HTH) - tuberal region of hypothalamus - HTHtub</td><td>Hypothalamus (HTH) - tuberal region of hypothalamus - HTHtub</td><td>Hypothalamus (HTH) - tuberal region of hypothalamus - HTHtub</td><td>Hypothalamus (HTH) - tuberal region of hypothalamus - HTHtub</td><td>Hypothalamus (HTH) - tuberal region of hypothalamus - HTHtub</td><td>...</td></tr><tr><td>&nbsp;</td><td>&nbsp;</td><td>&nbsp;</td><td><strong>TotalUMI</strong></td><td>3557.0</td><td>2471.0</td><td>2261.0</td><td>2183.0</td><td>1540.0</td><td>2847.0</td><td>2600.0</td><td>2953.0</td><td>3037.0</td><td>2284.0</td><td>...</td></tr><tr><td><strong>Accession</strong></td><td><strong>Gene</strong></td><td><strong>Valid</strong></td><td>&nbsp;</td><td>&nbsp;</td><td>&nbsp;</td><td>&nbsp;</td><td>&nbsp;</td><td>&nbsp;</td><td>&nbsp;</td><td>&nbsp;</td><td>&nbsp;</td><td>&nbsp;</td><td>&nbsp;</td><td>...</td></tr><tr><td>ENSG00000129910.8</td><td>CDH15</td><td>1</td><td>&nbsp;</td><td>0.0</td><td>0.0</td><td>0.0</td><td>0.0</td><td>0.0</td><td>0.0</td><td>0.0</td><td>0.0</td><td>0.0</td><td>0.0</td><td>...</td></tr><tr><td>ENSG00000259803.7</td><td>SLC22A31</td><td>1</td><td>&nbsp;</td><td>0.0</td><td>0.0</td><td>0.0</td><td>0.0</td><td>0.0</td><td>0.0</td><td>0.0</td><td>0.0</td><td>0.0</td><td>0.0</td><td>...</td></tr><tr><td>ENSG00000139899.11</td><td>CBLN3</td><td>1</td><td>&nbsp;</td><td>0.0</td><td>0.0</td><td>0.0</td><td>0.0</td><td>0.0</td><td>0.0</td><td>0.0</td><td>0.0</td><td>0.0</td><td>0.0</td><td>...</td></tr><tr><td>ENSG00000286891.1</td><td>AC080132.1</td><td>1</td><td>&nbsp;</td><td>0.0</td><td>0.0</td><td>0.0</td><td>0.0</td><td>0.0</td><td>0.0</td><td>0.0</td><td>0.0</td><td>0.0</td><td>0.0</td><td>...</td></tr><tr><td>ENSG00000132677.13</td><td>RHBG</td><td>1</td><td>&nbsp;</td><td>0.0</td><td>0.0</td><td>0.0</td><td>0.0</td><td>0.0</td><td>0.0</td><td>0.0</td><td>0.0</td><td>0.0</td><td>0.0</td><td>...</td></tr><tr><td>ENSG00000174171.6</td><td>AC020659.1</td><td>1</td><td>&nbsp;</td><td>0.0</td><td>0.0</td><td>0.0</td><td>0.0</td><td>0.0</td><td>0.0</td><td>0.0</td><td>0.0</td><td>0.0</td><td>0.0</td><td>...</td></tr><tr><td>ENSG00000287227.1</td><td>AC021698.1</td><td>1</td><td>&nbsp;</td><td>0.0</td><td>0.0</td><td>0.0</td><td>0.0</td><td>0.0</td><td>0.0</td><td>0.0</td><td>0.0</td><td>0.0</td><td>0.0</td><td>...</td></tr><tr><td>ENSG00000286097.1</td><td>AC108517.2</td><td>1</td><td>&nbsp;</td><td>0.0</td><td>0.0</td><td>0.0</td><td>0.0</td><td>0.0</td><td>0.0</td><td>0.0</td><td>0.0</td><td>0.0</td><td>0.0</td><td>...</td></tr><tr><td>ENSG00000287226.1</td><td>AC084740.1</td><td>1</td><td>&nbsp;</td><td>0.0</td><td>0.0</td><td>0.0</td><td>0.0</td><td>0.0</td><td>0.0</td><td>0.0</td><td>0.0</td><td>0.0</td><td>0.0</td><td>...</td></tr><tr><td>ENSG00000257242.8</td><td>LINC01619</td><td>1</td><td>&nbsp;</td><td>0.0</td><td>4.0</td><td>0.0</td><td>0.0</td><td>0.0</td><td>2.0</td><td>0.0</td><td>0.0</td><td>0.0</td><td>0.0</td><td>...</td></tr><tr><td>...</td><td>...</td><td>...</td><td>...</td><td>...</td><td>...</td><td>...</td><td>...</td><td>...</td><td>...</td><td>...</td><td>...</td><td>...</td><td>...</td><td>...</td></tr></table>"
      ],
      "text/plain": [
       "<loompy.loompy.LoomConnection at 0x7f1473e6e400>"
      ]
     },
     "execution_count": 50,
     "metadata": {},
     "output_type": "execute_result"
    }
   ],
   "source": [
    "ds = loompy.connect(loom)\n",
    "ds"
   ]
  },
  {
   "cell_type": "code",
   "execution_count": 51,
   "id": "18d99359-a198-4a87-9f30-d53556dfe08d",
   "metadata": {},
   "outputs": [],
   "source": [
    "ds.close()"
   ]
  },
  {
   "cell_type": "code",
   "execution_count": 72,
   "id": "20c0199e-d6e8-4c69-a14d-7ce05ec1eca5",
   "metadata": {},
   "outputs": [
    {
     "name": "stdout",
     "output_type": "stream",
     "text": [
      "['']\n"
     ]
    }
   ],
   "source": [
    "with loompy.connect(loom) as ds:\n",
    "    clusters = ds.ca['Clusters']\n",
    "    print(ds.layers.keys())"
   ]
  },
  {
   "cell_type": "code",
   "execution_count": 62,
   "id": "3d9867ee-8468-4747-af54-16edcb699835",
   "metadata": {},
   "outputs": [
    {
     "data": {
      "text/plain": [
       "array([  0,   1,   2,   3,   5,   6,   7,   8,   9,  10,  11,  12,  14,\n",
       "        15,  16,  22,  25,  26,  27,  31,  33,  34,  35,  36,  37,  40,\n",
       "        41,  42,  43,  44,  45,  46,  47,  49,  52,  54,  56,  58,  59,\n",
       "        60,  61,  62,  63,  64,  65,  70,  71,  72,  73, 166, 167, 170,\n",
       "       171, 174, 175, 236, 237, 246, 250, 257, 258, 259, 260, 264, 265,\n",
       "       266, 267, 269, 271, 272, 273, 274, 275, 278, 279, 280, 281, 282,\n",
       "       283, 284, 285, 286, 287, 288, 289, 290, 291, 292, 293, 294, 295,\n",
       "       296, 313, 323, 326, 328, 329, 330, 331, 332, 333, 363, 365, 366,\n",
       "       373, 376, 377, 378, 382, 383, 384, 385, 390, 391, 392, 393, 397,\n",
       "       402, 409, 410, 411, 412, 413, 414, 415, 416, 417, 418, 421, 422,\n",
       "       425, 428, 431, 432, 433, 435, 437, 438, 439, 441, 444])"
      ]
     },
     "execution_count": 62,
     "metadata": {},
     "output_type": "execute_result"
    }
   ],
   "source": [
    "np.unique(clusters)"
   ]
  },
  {
   "cell_type": "code",
   "execution_count": null,
   "id": "f1d35176-8403-4ce9-878c-b1646c13903b",
   "metadata": {},
   "outputs": [],
   "source": []
  },
  {
   "cell_type": "code",
   "execution_count": null,
   "id": "8ee5caa3-d1ae-47b6-abf9-859d631fa725",
   "metadata": {},
   "outputs": [],
   "source": []
  },
  {
   "cell_type": "code",
   "execution_count": null,
   "id": "6f865f71-54a1-4c14-8131-3ab5dc102c23",
   "metadata": {},
   "outputs": [],
   "source": []
  },
  {
   "cell_type": "markdown",
   "id": "aa5d2d11-e729-411f-8818-a0c6b1115597",
   "metadata": {},
   "source": [
    "# Original 3.3M .loom"
   ]
  },
  {
   "cell_type": "code",
   "execution_count": 133,
   "id": "1df96e4a-909d-4ab3-80f8-ff7997a45f40",
   "metadata": {},
   "outputs": [],
   "source": [
    "loom = '/lustre/orion/syb111/proj-shared/Projects/scrna-seq/data/human/brain/healthy/nemo/raw/linnarson/adult_human_20221007.loom'"
   ]
  },
  {
   "cell_type": "code",
   "execution_count": 134,
   "id": "fe2069c6-6365-4c6a-b808-247e64c2a793",
   "metadata": {},
   "outputs": [],
   "source": [
    "with loompy.connect(loom) as ds:\n",
    "    #clusters = ds.ca['Clusters']\n",
    "    #tissues = ds.ca['Tissue']\n",
    "    #print(ds.layers.keys())\n",
    "    clusters = ds.ca['Clusters']"
   ]
  },
  {
   "cell_type": "code",
   "execution_count": 135,
   "id": "65fae7c1-69c1-44ec-a7da-6a73967bbd9b",
   "metadata": {},
   "outputs": [
    {
     "data": {
      "text/plain": [
       "461"
      ]
     },
     "execution_count": 135,
     "metadata": {},
     "output_type": "execute_result"
    }
   ],
   "source": [
    "len(np.unique(clusters))"
   ]
  },
  {
   "cell_type": "code",
   "execution_count": 122,
   "id": "1f964c36-df44-45dd-88f2-3141acb11f4e",
   "metadata": {},
   "outputs": [],
   "source": [
    "tissue, counts = np.unique(tissues, return_counts=True)"
   ]
  },
  {
   "cell_type": "code",
   "execution_count": 123,
   "id": "3070f25f-941d-4ae4-8577-f14dcf9d5cf6",
   "metadata": {},
   "outputs": [
    {
     "data": {
      "text/plain": [
       "array(['Amygdaloid complex (AMY) - Basolateral nuclear group (BLN) - lateral nucleus - La',\n",
       "       'Amygdaloid complex (AMY) - Central nuclear group - CEN',\n",
       "       'Amygdaloid complex (AMY) - Corticomedial nuclear group (CMN) - anterior cortical nucleus - CoA',\n",
       "       'Amygdaloid complex (AMY) - basolateral nuclear group (BLN) - basolateral nucleus (basal nucleus) - BL',\n",
       "       'Amygdaloid complex (AMY) - basolateral nuclear group (BLN) - basomedial nucleus (accessory basal nucleus) - BM',\n",
       "       'Amygdaloid complex (AMY) - corticomedial nuclear group - CMN',\n",
       "       'Basal forebrain (BF) - septal nuclei - SEP',\n",
       "       'Basal forebrain (BF) - substantia innominata and nearby nuclei - SI',\n",
       "       'Basal nuclei (BN) - Body of the Caudate - CaB',\n",
       "       'Basal nuclei (BN) - Globus pallidus (GP) - External segment of globus pallidus - GPe',\n",
       "       'Basal nuclei (BN) - Globus pallidus (GP) - Internal segment of globus pallidus - GPi',\n",
       "       'Basal nuclei (BN) - Nucleus Accumbens - NAC',\n",
       "       'Basal nuclei (BN) - Putamen - Pu',\n",
       "       'Body of hippocampus (HiB) - Rostral CA1-2',\n",
       "       'Body of hippocampus (HiB) - Rostral CA1-CA3',\n",
       "       'Body of hippocampus (HiB) - Rostral CA3',\n",
       "       'Body of hippocampus (HiB) - Rostral DG-CA4',\n",
       "       'Cerebellum (CB) - Cerebellar Vermis - CBV',\n",
       "       'Cerebellum (CB) - Cerebellar deep nuclei - CbDN',\n",
       "       'Cerebellum (CB) - Lateral hemisphere of cerebellum - CBL',\n",
       "       'Cerebral cortex (Cx) - Anterior parahippocampal gyrus (AG) - Lateral entorhinal cortex - LEC',\n",
       "       'Cerebral cortex (Cx) - Anterior parahippocampal gyrus, posterior part (APH) - Medial entorhinal cortex - MEC',\n",
       "       'Cerebral cortex (Cx) - Caudal cingulate gyrus (CgGC) - A23',\n",
       "       'Cerebral cortex (Cx) - Cingulate gyrus, retrosplenial (CgGrs) - A29-A30',\n",
       "       'Cerebral cortex (Cx) - Cingulate gyrus, rostral (CgGr) - Ventral division of MFC - A24',\n",
       "       'Cerebral cortex (Cx) - Cuneus, caudal part - Peristriate Cortex - V2',\n",
       "       'Cerebral cortex (Cx) - Cuneus, rostral part - Area Prostriata - Pro',\n",
       "       'Cerebral cortex (Cx) - Frontal agranular insular cortex - FI',\n",
       "       'Cerebral cortex (Cx) - Gyrus rectus (ReG) - Medial orbitofrontal cortex - A14',\n",
       "       'Cerebral cortex (Cx) - Inferior frontal gyrus (IFG) - Ventrolateral prefrontal cortex - A44-A45',\n",
       "       'Cerebral cortex (Cx) - Inferior temporal gyrus - ITG',\n",
       "       'Cerebral cortex (Cx) - Lingual gyrus (LiG) - Primary Visual Cortex - V1C',\n",
       "       'Cerebral cortex (Cx) - Long insular gyri (LIG) - Dysgranular insular cortex - Idg',\n",
       "       'Cerebral cortex (Cx) - Middle Temporal Gyrus - MTG',\n",
       "       'Cerebral cortex (Cx) - Middle frontal gyrus (MFG) - A46',\n",
       "       'Cerebral cortex (Cx) - Occipitotemporal (fusiform) gyrus, temporal part (FuGt) - Temporal area TF',\n",
       "       'Cerebral cortex (Cx) - Parietal operculum (PaO) - Gustatory cortex - A43',\n",
       "       'Cerebral cortex (Cx) - Perirhinal gyrus (PRG) - A35-A36',\n",
       "       'Cerebral cortex (Cx) - Postcentral gyrus (PoCG) - Primary somatosensory cortex - S1C',\n",
       "       'Cerebral cortex (Cx) - Posterior intermediate orbital gyrus (POrG) - Caudal division of OFCi - A13',\n",
       "       'Cerebral cortex (Cx) - Posterior parahippocampal gyrus (PPH) - TH-TL',\n",
       "       'Cerebral cortex (Cx) - Precentral gyrus (PrCG) - Primary motor cortex - M1C',\n",
       "       'Cerebral cortex (Cx) - Rostral gyrus (RoG) - Dorsal division of MFC - A32',\n",
       "       'Cerebral cortex (Cx) - Short insular gyri - Granular insular cortex - Ig',\n",
       "       'Cerebral cortex (Cx) - Subcallosal Gyrus (SCG) - Subgenual (subcallosal) division of MFC - A25',\n",
       "       'Cerebral cortex (Cx) - Superior Temporal Gyrus - STG',\n",
       "       'Cerebral cortex (Cx) - Superior occipital gyrus (SOG) - Areas 19 and MT - A19',\n",
       "       'Cerebral cortex (Cx) - Supramarginal gyrus (SMG) - A40',\n",
       "       'Cerebral cortex (Cx) - Supraparietal lobule (SPL) - Posterosuperior (dorsal) parietal cortex - A5-A7',\n",
       "       'Cerebral cortex (Cx) - Temporal pole (TP) - Temporopolar area - A38',\n",
       "       'Cerebral cortex (Cx) - Transverse temporal gyrus (TTG) - Primary auditory cortex - A1C',\n",
       "       'Claustrum - Cla', 'Epithalamus - ETH',\n",
       "       'Extended amygdala (EXA) - Bed nucleus of stria terminalis and nearby - BNST',\n",
       "       'Head of hippocampus (HiH) - Subicular cortex - Sub',\n",
       "       'Head of hippocampus (HiH) - Uncal CA1',\n",
       "       'Head of hippocampus (HiH) - Uncal CA1-CA3',\n",
       "       'Head of hippocampus (HiH) - Uncal CA2-CA3',\n",
       "       'Head of hippocampus (HiH) - Uncal DG-CA4',\n",
       "       'Hypothalamus (HTH) - mammillary region of HTH (HTHma)',\n",
       "       'Hypothalamus (HTH) - mammillary region of HTH (HTHma) - mammillary nucleus - MN',\n",
       "       'Hypothalamus (HTH) - mammillary region of HTH (HTHma) - tuberal region of HTH - HTHtub',\n",
       "       'Hypothalamus (HTH) - preoptic region of HTH - HTHpo',\n",
       "       'Hypothalamus (HTH) - preoptic region of HTH - HTHpo (medial preoptic nucleus, MPN) - supraoptic region of HTH - HTHso (paraventricular nucleus, PV)',\n",
       "       'Hypothalamus (HTH) - supraoptic region of HTH - HTHso',\n",
       "       'Hypothalamus (HTH) - supraoptic region of HTH - HTHso (anterior hypothalamic nucleus, AHN) - tuberal region of HTH - HTHtub (ventromedial and dorsomedial hypothalamic nucleic nuclei, VMH, DMH)',\n",
       "       'Hypothalamus (HTH) - supraoptic region of HTH - HTHso (anterior hypothalamic nucleus, AHN) - tuberal region of HTH - HTHtub (ventromedial hypothalamic nucleus, VMH)',\n",
       "       'Hypothalamus (HTH) - tuberal region of hypothalamus - HTHtub',\n",
       "       'Midbrain (M) - Inferior colliculus and nearby nuclei - IC',\n",
       "       'Midbrain (M) - Periaqueductal gray and Dorsal raphe nucleus - PAG-DR',\n",
       "       'Midbrain (M) - Periaqueductal gray and nearby nuclei - PAG',\n",
       "       'Midbrain (M) - Pretectal region - PTR',\n",
       "       'Midbrain (M) - Substantia Nigra - SN',\n",
       "       'Midbrain (M) - Substantia Nigra, Red Nucleus, and nearby nuclei - SN-RN',\n",
       "       'Midbrain (M) - Superior colliculus and nearby nuclei - SC',\n",
       "       'Midbrain (RN) - Red Nucleus - RN',\n",
       "       'Myelencephalon (medulla oblongata) (Mo) - afferent nuclei of cranial nerves in medulla oblongata - MoAN',\n",
       "       'Myelencephalon (medulla oblongata) (Mo) - medullary reticular formation (MoRF) & efferent nuclei of cranial nerves in the medulla oblongata (MoEN) - MoRF-MoEN',\n",
       "       'Myelencephalon (medulla oblongata) (Mo) - precerebellar nuclei (PrCbN) - inferior olive - IO',\n",
       "       'Myelencephalon (medulla oblongata) (Mo) - sensory relay nuclei in medulla oblongata - MoSR',\n",
       "       'Paleocortex (PalCx) - Anterior Olfactory Nucleus - AON',\n",
       "       'Paleocortex (PalCx) - Piriform cortex - Pir',\n",
       "       'Perirhinal cortex (area 35) (A35) - rostral subdivision of area 35 - A35r',\n",
       "       'Pons (Pn) - Pontine Nucleus - PN',\n",
       "       'Pons (Pn) - Pontine reticular formation (PnRF) - parabrachial nuclei - PB',\n",
       "       'Pons (Pn) - Pontine reticular formation - PnRF',\n",
       "       'Pons (Pn) - afferent nuclei of cranial nerves in pons - PnAN',\n",
       "       'Pons (Pn) - efferent nuclei of cranial nerves in pons - PnEN',\n",
       "       'Pons (Pn) - other nuclei in pontine tegmentum (XPnTg) - dorsal tegmental nucleus - DTg',\n",
       "       'Spinal cord - SpC',\n",
       "       'Tail of Hippocampus (HiT) - Caudal Hippocampus - CA1-CA3',\n",
       "       'Tail of Hippocampus (HiT) - Caudal Hippocampus - CA4-DGC',\n",
       "       'Tail of Hippocampus (HiT) - Subicular cortex - Sub',\n",
       "       'Thalamus (THM) - Anterior nuclear complex - ANC',\n",
       "       'Thalamus (THM) - Lateral nuclear complex (LNC) - ventral anterior nucleus of thalamus - VA',\n",
       "       'Thalamus (THM) - Lateral nuclear complex of thalamus (LNC) - ventral group of lateral nucleus - VLN',\n",
       "       'Thalamus (THM) - Subthalamic nucleus and nearby - STH',\n",
       "       'Thalamus (THM) - intralaminar nuclear complex (ILN) - posterior group of intralaminar nuclei (PILN) - centromedian and parafasicular nuclei - CM and Pf',\n",
       "       'Thalamus (THM) - intralaminar nuclear complex (ILN) - posterior group of intralaminar nuclei (PILN) - centromedian nucleus of thalamus - CM',\n",
       "       'Thalamus (THM) - lateral nuclear complex of thalamus (LNC) - Pulvinar of thalamus - Pul',\n",
       "       'Thalamus (THM) - lateral nuclear complex of thalamus (LNC) - lateral posterior nucleus of thalamus + ventral posterior lateral nucleus - LP + VPL',\n",
       "       'Thalamus (THM) - lateral nuclear complex of thalamus (LNC) - lateral posterior nucleus of thalamus - LP',\n",
       "       'Thalamus (THM) - lateral nuclear complex of thalamus (LNC) - ventral posterior lateral nucleus - VPL',\n",
       "       'Thalamus (THM) - medial nuclear complex of thalamus (MNC) - mediodorsal nucleus of thalamus + reuniens nucleus (medioventral nucleus) of thalamus - MD + Re',\n",
       "       'Thalamus (THM) - medial nuclear complex of thalamus (MNC) - mediodorsal nucleus of thalamus - MD',\n",
       "       'Thalamus (THM) - posterior nuclear complex of thalamus (PoN) - lateral geniculate nucleus (LG)',\n",
       "       'Thalamus (THM) - posterior nuclear complex of thalamus (PoN) - medial geniculate nuclei (MG)'],\n",
       "      dtype=object)"
      ]
     },
     "execution_count": 123,
     "metadata": {},
     "output_type": "execute_result"
    }
   ],
   "source": [
    "tissue"
   ]
  },
  {
   "cell_type": "code",
   "execution_count": 124,
   "id": "a0af7ce3-0cf4-427b-8ea4-58f875887d90",
   "metadata": {},
   "outputs": [
    {
     "data": {
      "text/plain": [
       "array([ 28984,  42699,  10778,  35285,  31090,  38331,  40815,  38205,\n",
       "        32678,  50830,  33968,  30132,  34416,  11265,  28724,   8077,\n",
       "        40191,  71874,  52045,  28028,  32745,  50362,  35359,  34078,\n",
       "        32157,  32638,  28051,  34949,  14352,  38259,  29522,  33484,\n",
       "        39696, 107301,  31065,  31899,  42834,  23732,  38188,  34919,\n",
       "        40677, 116576,  24808,  38937,  37767,  40565,  29674,  39053,\n",
       "        35290,  37642,  32790,  40165,  24327,  34933,  19398,  39147,\n",
       "        37911,  12461,  35350,  10099,  28155,  18728,  14979,  20027,\n",
       "        12557,   7265,   9488,  13173,  32306,  14094,  33794,  25875,\n",
       "        59505,  49110,  29907,   4714,  27210,  23120,  21534,  13623,\n",
       "        31230,  36941,  17535,  33641,  24155,  49512,  23349,  47416,\n",
       "        26095,  24190,  36886,  56367,  22170,  31307,   8573,  27111,\n",
       "        20162,  24354,  12944,  46453,  17660,  26172,   6877,  13382,\n",
       "        20916,  48856,  14226])"
      ]
     },
     "execution_count": 124,
     "metadata": {},
     "output_type": "execute_result"
    }
   ],
   "source": [
    "counts"
   ]
  },
  {
   "cell_type": "code",
   "execution_count": null,
   "id": "e1a2e850-3b7f-44a1-a81f-611b191e7303",
   "metadata": {},
   "outputs": [],
   "source": []
  },
  {
   "cell_type": "markdown",
   "id": "4d85f877-474d-4ae9-a822-80a792acd7da",
   "metadata": {},
   "source": [
    "### h5 neurons file"
   ]
  },
  {
   "cell_type": "code",
   "execution_count": 105,
   "id": "907d322d-f5ff-4799-a48e-23ac06ac8c5a",
   "metadata": {},
   "outputs": [],
   "source": [
    "import h5py"
   ]
  },
  {
   "cell_type": "code",
   "execution_count": 106,
   "id": "65314a84-7a1d-4c02-b39a-981a6fb4ea26",
   "metadata": {},
   "outputs": [],
   "source": [
    "h5 = '/lustre/orion/syb111/proj-shared/Projects/scrna-seq/data/human/brain/healthy/nemo/raw/linnarson/Neurons.h5ad'"
   ]
  },
  {
   "cell_type": "code",
   "execution_count": 111,
   "id": "d9389d6a-4d86-4f2f-a898-bfb793b6562c",
   "metadata": {},
   "outputs": [
    {
     "name": "stdout",
     "output_type": "stream",
     "text": [
      "CellID: no categories\n",
      "ROIGroup: ['Cerebral cortex' 'Cerebral nuclei' 'Epithalamus' 'Hindbrain'\n",
      " 'Hippocampus' 'Hypothalamus' 'Midbrain' 'Paleocortex' 'Spinal cord'\n",
      " 'Thalamus']\n",
      "ROIGroupCoarse: ['Cerebellum' 'Cerebral cortex' 'Cerebral nuclei' 'Hippocampus'\n",
      " 'Hypothalamus' 'Midbrain' 'Myelencephalon' 'Pons' 'Spinal cord'\n",
      " 'Thalamus']\n",
      "ROIGroupFine: ['Amygdaloid complex' 'Basal forebrain' 'Basal nuclei' 'Cerebellum'\n",
      " 'Cerebral cortex' 'Claustrum' 'Extended amygdala' 'Hippocampus'\n",
      " 'Hypothalamus' 'Midbrain' 'Myelencephalon' 'Pons' 'Spinal cord'\n",
      " 'Thalamus']\n",
      "assay_ontology_term_id: ['EFO:0009922']\n",
      "cell_cycle_score: no categories\n",
      "cell_type_ontology_term_id: ['CL:0000540' 'CL:0000738']\n",
      "cluster_id: [  0   1   2   3  83  84  85  86  87  88  89  90  91  92  93  94  95  96\n",
      "  97  98  99 100 101 102 103 104 105 106 107 108 109 110 111 112 113 114\n",
      " 115 116 117 118 119 120 121 122 123 124 125 126 127 128 129 130 131 132\n",
      " 133 134 135 136 137 138 139 140 141 142 143 144 145 146 147 148 149 150\n",
      " 151 152 153 154 155 156 157 158 159 160 161 162 163 164 165 166 167 168\n",
      " 169 170 171 172 173 174 175 176 177 178 179 180 181 182 183 184 185 186\n",
      " 187 188 189 190 191 192 193 194 195 196 197 198 199 200 201 202 203 204\n",
      " 205 206 207 208 209 210 211 212 213 214 215 216 217 218 219 220 221 222\n",
      " 223 224 225 226 227 228 229 230 231 232 233 234 235 236 237 238 239 240\n",
      " 241 242 243 244 245 246 247 248 249 250 251 252 253 254 255 256 257 258\n",
      " 259 260 261 262 263 264 265 266 267 268 269 270 271 272 273 274 275 276\n",
      " 277 278 279 280 281 282 283 284 285 286 287 288 289 290 291 292 293 294\n",
      " 295 296 297 298 299 300 301 302 303 304 305 306 307 308 309 310 311 312\n",
      " 313 314 315 316 317 318 319 320 321 322 323 324 325 326 327 328 329 330\n",
      " 331 332 333 334 335 336 337 338 339 340 341 342 343 344 345 346 347 348\n",
      " 349 350 351 352 353 354 355 356 357 358 359 360 361 362 363 364 365 366\n",
      " 367 368 369 370 371 372 373 374 375 376 377 378 379 380 381 382 383 384\n",
      " 385 386 387 388 389 390 391 392 393 394 395 396 397 398 399 400 401 402\n",
      " 403 404 405 406 407 408 409 410 411 412 413 414 415 416 417 418 419 420\n",
      " 421 422 423 424 425 426 427 428 429 430 431 432 433 434 435 436 437 438\n",
      " 439 440 441 442 443 444 445 446 447 448 449 450 451 452 453 454 455 456\n",
      " 457 458 459 460]\n",
      "development_stage_ontology_term_id: ['HsapDv:0000123' 'HsapDv:0000136' 'HsapDv:0000144' 'HsapDv:0000154']\n",
      "disease_ontology_term_id: ['PATO:0000461']\n",
      "dissection: [''\n",
      " 'Amygdaloid complex (AMY) - Basolateral nuclear group (BLN) - lateral nucleus - La'\n",
      " 'Amygdaloid complex (AMY) - Central nuclear group - CEN'\n",
      " 'Amygdaloid complex (AMY) - Corticomedial nuclear group (CMN) - anterior cortical nucleus - CoA'\n",
      " 'Amygdaloid complex (AMY) - basolateral nuclear group (BLN) - basolateral nucleus (basal nucleus) - BL'\n",
      " 'Amygdaloid complex (AMY) - basolateral nuclear group (BLN) - basomedial nucleus (accessory basal nucleus) - BM'\n",
      " 'Amygdaloid complex (AMY) - corticomedial nuclear group - CMN'\n",
      " 'Basal forebrain (BF) - septal nuclei - SEP'\n",
      " 'Basal forebrain (BF) - substantia innominata and nearby nuclei - SI'\n",
      " 'Basal nuclei (BN) - Body of the Caudate - CaB'\n",
      " 'Basal nuclei (BN) - Globus pallidus (GP) - External segment of globus pallidus - GPe'\n",
      " 'Basal nuclei (BN) - Globus pallidus (GP) - Internal segment of globus pallidus - GPi'\n",
      " 'Basal nuclei (BN) - Nucleus Accumbens - NAC'\n",
      " 'Basal nuclei (BN) - Putamen - Pu'\n",
      " 'Body of hippocampus (HiB) - Rostral CA1-2'\n",
      " 'Body of hippocampus (HiB) - Rostral CA1-CA3'\n",
      " 'Body of hippocampus (HiB) - Rostral CA3'\n",
      " 'Body of hippocampus (HiB) - Rostral DG-CA4'\n",
      " 'Cerebellum (CB) - Cerebellar Vermis - CBV'\n",
      " 'Cerebellum (CB) - Cerebellar deep nuclei - CbDN'\n",
      " 'Cerebellum (CB) - Lateral hemisphere of cerebellum - CBL'\n",
      " 'Cerebral cortex (Cx) - Anterior parahippocampal gyrus (AG) - Lateral entorhinal cortex - LEC'\n",
      " 'Cerebral cortex (Cx) - Anterior parahippocampal gyrus, posterior part (APH) - Medial entorhinal cortex - MEC'\n",
      " 'Cerebral cortex (Cx) - Caudal cingulate gyrus (CgGC) - A23'\n",
      " 'Cerebral cortex (Cx) - Cingulate gyrus, retrosplenial (CgGrs) - A29-A30'\n",
      " 'Cerebral cortex (Cx) - Cingulate gyrus, rostral (CgGr) - Ventral division of MFC - A24'\n",
      " 'Cerebral cortex (Cx) - Cuneus, caudal part - Peristriate Cortex - V2'\n",
      " 'Cerebral cortex (Cx) - Cuneus, rostral part - Area Prostriata - Pro'\n",
      " 'Cerebral cortex (Cx) - Frontal agranular insular cortex - FI'\n",
      " 'Cerebral cortex (Cx) - Gyrus rectus (ReG) - Medial orbitofrontal cortex - A14'\n",
      " 'Cerebral cortex (Cx) - Inferior frontal gyrus (IFG) - Ventrolateral prefrontal cortex - A44-A45'\n",
      " 'Cerebral cortex (Cx) - Inferior temporal gyrus - ITG'\n",
      " 'Cerebral cortex (Cx) - Lingual gyrus (LiG) - Primary Visual Cortex - V1C'\n",
      " 'Cerebral cortex (Cx) - Long insular gyri (LIG) - Dysgranular insular cortex - Idg'\n",
      " 'Cerebral cortex (Cx) - Middle Temporal Gyrus - MTG'\n",
      " 'Cerebral cortex (Cx) - Middle frontal gyrus (MFG) - A46'\n",
      " 'Cerebral cortex (Cx) - Occipitotemporal (fusiform) gyrus, temporal part (FuGt) - Temporal area TF'\n",
      " 'Cerebral cortex (Cx) - Parietal operculum (PaO) - Gustatory cortex - A43'\n",
      " 'Cerebral cortex (Cx) - Perirhinal gyrus (PRG) - A35-A36'\n",
      " 'Cerebral cortex (Cx) - Postcentral gyrus (PoCG) - Primary somatosensory cortex - S1C'\n",
      " 'Cerebral cortex (Cx) - Posterior intermediate orbital gyrus (POrG) - Caudal division of OFCi - A13'\n",
      " 'Cerebral cortex (Cx) - Posterior parahippocampal gyrus (PPH) - TH-TL'\n",
      " 'Cerebral cortex (Cx) - Precentral gyrus (PrCG) - Primary motor cortex - M1C'\n",
      " 'Cerebral cortex (Cx) - Rostral gyrus (RoG) - Dorsal division of MFC - A32'\n",
      " 'Cerebral cortex (Cx) - Short insular gyri - Granular insular cortex - Ig'\n",
      " 'Cerebral cortex (Cx) - Subcallosal Gyrus (SCG) - Subgenual (subcallosal) division of MFC - A25'\n",
      " 'Cerebral cortex (Cx) - Superior Temporal Gyrus - STG'\n",
      " 'Cerebral cortex (Cx) - Superior occipital gyrus (SOG) - Areas 19 and MT - A19'\n",
      " 'Cerebral cortex (Cx) - Supramarginal gyrus (SMG) - A40'\n",
      " 'Cerebral cortex (Cx) - Supraparietal lobule (SPL) - Posterosuperior (dorsal) parietal cortex - A5-A7'\n",
      " 'Cerebral cortex (Cx) - Temporal pole (TP) - Temporopolar area - A38'\n",
      " 'Cerebral cortex (Cx) - Transverse temporal gyrus (TTG) - Primary auditory cortex - A1C'\n",
      " 'Claustrum - Cla' 'Epithalamus - ETH'\n",
      " 'Extended amygdala (EXA) - Bed nucleus of stria terminalis and nearby - BNST'\n",
      " 'Head of hippocampus (HiH) - Subicular cortex - Sub'\n",
      " 'Head of hippocampus (HiH) - Uncal CA1'\n",
      " 'Head of hippocampus (HiH) - Uncal CA1-CA3'\n",
      " 'Head of hippocampus (HiH) - Uncal CA2-CA3'\n",
      " 'Head of hippocampus (HiH) - Uncal DG-CA4'\n",
      " 'Hypothalamus (HTH) - mammillary region of HTH (HTHma)'\n",
      " 'Hypothalamus (HTH) - mammillary region of HTH (HTHma) - mammillary nucleus - MN'\n",
      " 'Hypothalamus (HTH) - mammillary region of HTH (HTHma) - tuberal region of HTH - HTHtub'\n",
      " 'Hypothalamus (HTH) - preoptic region of HTH - HTHpo'\n",
      " 'Hypothalamus (HTH) - preoptic region of HTH - HTHpo (medial preoptic nucleus, MPN) - supraoptic region of HTH - HTHso (paraventricular nucleus, PV)'\n",
      " 'Hypothalamus (HTH) - supraoptic region of HTH - HTHso'\n",
      " 'Hypothalamus (HTH) - supraoptic region of HTH - HTHso (anterior hypothalamic nucleus, AHN) - tuberal region of HTH - HTHtub (ventromedial and dorsomedial hypothalamic nucleic nuclei, VMH, DMH)'\n",
      " 'Hypothalamus (HTH) - supraoptic region of HTH - HTHso (anterior hypothalamic nucleus, AHN) - tuberal region of HTH - HTHtub (ventromedial hypothalamic nucleus, VMH)'\n",
      " 'Hypothalamus (HTH) - tuberal region of hypothalamus - HTHtub'\n",
      " 'Midbrain (M) - Inferior colliculus and nearby nuclei - IC'\n",
      " 'Midbrain (M) - Periaqueductal gray and Dorsal raphe nucleus - PAG-DR'\n",
      " 'Midbrain (M) - Periaqueductal gray and nearby nuclei - PAG'\n",
      " 'Midbrain (M) - Pretectal region - PTR'\n",
      " 'Midbrain (M) - Substantia Nigra - SN'\n",
      " 'Midbrain (M) - Substantia Nigra, Red Nucleus, and nearby nuclei - SN-RN'\n",
      " 'Midbrain (M) - Superior colliculus and nearby nuclei - SC'\n",
      " 'Midbrain (RN) - Red Nucleus - RN'\n",
      " 'Myelencephalon (medulla oblongata) (Mo) - afferent nuclei of cranial nerves in medulla oblongata - MoAN'\n",
      " 'Myelencephalon (medulla oblongata) (Mo) - medullary reticular formation (MoRF) & efferent nuclei of cranial nerves in the medulla oblongata (MoEN) - MoRF-MoEN'\n",
      " 'Myelencephalon (medulla oblongata) (Mo) - precerebellar nuclei (PrCbN) - inferior olive - IO'\n",
      " 'Myelencephalon (medulla oblongata) (Mo) - sensory relay nuclei in medulla oblongata - MoSR'\n",
      " 'Paleocortex (PalCx) - Anterior Olfactory Nucleus - AON'\n",
      " 'Paleocortex (PalCx) - Piriform cortex - Pir'\n",
      " 'Perirhinal cortex (area 35) (A35) - rostral subdivision of area 35 - A35r'\n",
      " 'Pons (Pn) - Pontine Nucleus - PN'\n",
      " 'Pons (Pn) - Pontine reticular formation (PnRF) - parabrachial nuclei - PB'\n",
      " 'Pons (Pn) - Pontine reticular formation - PnRF'\n",
      " 'Pons (Pn) - afferent nuclei of cranial nerves in pons - PnAN'\n",
      " 'Pons (Pn) - efferent nuclei of cranial nerves in pons - PnEN'\n",
      " 'Pons (Pn) - other nuclei in pontine tegmentum (XPnTg) - dorsal tegmental nucleus - DTg'\n",
      " 'Spinal cord - SpC'\n",
      " 'Tail of Hippocampus (HiT) - Caudal Hippocampus - CA1-CA3'\n",
      " 'Tail of Hippocampus (HiT) - Caudal Hippocampus - CA4-DGC'\n",
      " 'Tail of Hippocampus (HiT) - Subicular cortex - Sub'\n",
      " 'Thalamus (THM) - Anterior nuclear complex - ANC'\n",
      " 'Thalamus (THM) - Lateral nuclear complex (LNC) - ventral anterior nucleus of thalamus - VA'\n",
      " 'Thalamus (THM) - Lateral nuclear complex of thalamus (LNC) - ventral group of lateral nucleus - VLN'\n",
      " 'Thalamus (THM) - Subthalamic nucleus and nearby - STH'\n",
      " 'Thalamus (THM) - intralaminar nuclear complex (ILN) - posterior group of intralaminar nuclei (PILN) - centromedian and parafasicular nuclei - CM and Pf'\n",
      " 'Thalamus (THM) - intralaminar nuclear complex (ILN) - posterior group of intralaminar nuclei (PILN) - centromedian nucleus of thalamus - CM'\n",
      " 'Thalamus (THM) - lateral nuclear complex of thalamus (LNC) - Pulvinar of thalamus - Pul'\n",
      " 'Thalamus (THM) - lateral nuclear complex of thalamus (LNC) - lateral posterior nucleus of thalamus + ventral posterior lateral nucleus - LP + VPL'\n",
      " 'Thalamus (THM) - lateral nuclear complex of thalamus (LNC) - lateral posterior nucleus of thalamus - LP'\n",
      " 'Thalamus (THM) - lateral nuclear complex of thalamus (LNC) - ventral posterior lateral nucleus - VPL'\n",
      " 'Thalamus (THM) - medial nuclear complex of thalamus (MNC) - mediodorsal nucleus of thalamus + reuniens nucleus (medioventral nucleus) of thalamus - MD + Re'\n",
      " 'Thalamus (THM) - medial nuclear complex of thalamus (MNC) - mediodorsal nucleus of thalamus - MD'\n",
      " 'Thalamus (THM) - posterior nuclear complex of thalamus (PoN) - lateral geniculate nucleus (LG)'\n",
      " 'Thalamus (THM) - posterior nuclear complex of thalamus (PoN) - medial geniculate nuclei (MG)']\n",
      "donor_id: ['H18.30.001' 'H18.30.002' 'H19.30.001' 'H19.30.002']\n",
      "organism_ontology_term_id: ['NCBITaxon:9606']\n",
      "roi: ['Human A1C' 'Human A5-A7' 'Human A13' 'Human A14' 'Human A19' 'Human A23'\n",
      " 'Human A24' 'Human A25' 'Human A29-A30' 'Human A32' 'Human A35-36'\n",
      " 'Human A35-A36' 'Human A35r' 'Human A38' 'Human A40' 'Human A43'\n",
      " 'Human A44-A45' 'Human A46' 'Human ANC' 'Human AON' 'Human BL' 'Human BM'\n",
      " 'Human BNST' 'Human CA1-3' 'Human CA1C-CA3C' 'Human CA1R-CA2R'\n",
      " 'Human CA1R-CA2R-CA3R' 'Human CA1U' 'Human CA1U-CA2U-CA3U'\n",
      " 'Human CA2U-CA3U' 'Human CA3R' 'Human CA4C-DGC' 'Human CBL' 'Human CBV'\n",
      " 'Human CEN' 'Human CM' 'Human CM-Pf' 'Human CMN' 'Human CaB' 'Human CbDN'\n",
      " 'Human Cla' 'Human CoA' 'Human DGR-CA4Rpy' 'Human DGU-CA4Upy' 'Human DTg'\n",
      " 'Human ETH' 'Human FI' 'Human GPe' 'Human GPi' 'Human Gpe' 'Human HTHma'\n",
      " 'Human HTHma-HTHtub' 'Human HTHpo' 'Human HTHpo-HTHso' 'Human HTHso'\n",
      " 'Human HTHso-HTHtub' 'Human HTHtub' 'Human IC' 'Human IO' 'Human ITG'\n",
      " 'Human Idg' 'Human Ig' 'Human LEC' 'Human LG' 'Human LP' 'Human LP-VPL'\n",
      " 'Human La' 'Human M1C' 'Human MD' 'Human MD-Re' 'Human MEC' 'Human MG'\n",
      " 'Human MN' 'Human MTG' 'Human MoAN' 'Human MoRF-MoEN' 'Human MoSR'\n",
      " 'Human NAC' 'Human PAG' 'Human PAG-DR' 'Human PB' 'Human PN' 'Human PTR'\n",
      " 'Human Pir' 'Human PnAN' 'Human PnEN' 'Human PnRF' 'Human Pro' 'Human Pu'\n",
      " 'Human Pul' 'Human RN' 'Human S1C' 'Human SC' 'Human SEP' 'Human SI'\n",
      " 'Human SN' 'Human SN-RN' 'Human STG' 'Human STH' 'Human SpC' 'Human Sub'\n",
      " 'Human TF' 'Human TH-TL' 'Human V1C' 'Human V2' 'Human VA' 'Human VLN'\n",
      " 'Human VPL']\n",
      "sample_id: ['10X145_1' '10X145_2' '10X145_3' '10X145_4' '10X145_5' '10X145_6'\n",
      " '10X145_7' '10X145_8' '10X146_2' '10X146_3' '10X146_4' '10X146_5'\n",
      " '10X146_6' '10X146_7' '10X159_1' '10X159_2' '10X159_3' '10X159_4'\n",
      " '10X159_5' '10X159_6' '10X159_7' '10X160_1' '10X160_2' '10X160_3'\n",
      " '10X160_5' '10X160_6' '10X160_7' '10X160_8' '10X161_1' '10X171_1'\n",
      " '10X172_1' '10X172_2' '10X172_3' '10X172_4' '10X172_5' '10X172_6'\n",
      " '10X172_7' '10X172_8' '10X173_1' '10X173_2' '10X173_3' '10X173_4'\n",
      " '10X173_5' '10X173_7' '10X174_1' '10X174_2' '10X174_3' '10X174_4'\n",
      " '10X174_5' '10X174_6' '10X174_7' '10X174_8' '10X175_1' '10X175_2'\n",
      " '10X175_3' '10X175_4' '10X175_5' '10X175_6' '10X175_7' '10X175_8'\n",
      " '10X176_1' '10X176_2' '10X176_3' '10X176_4' '10X176_5' '10X176_6'\n",
      " '10X176_7' '10X176_8' '10X182_1' '10X182_2' '10X182_3' '10X182_4'\n",
      " '10X182_5' '10X182_6' '10X182_7' '10X182_8' '10X190_1' '10X190_2'\n",
      " '10X190_3' '10X190_4' '10X190_5' '10X190_6' '10X190_7' '10X190_8'\n",
      " '10X191_1' '10X191_2' '10X191_3' '10X191_4' '10X191_5' '10X191_6'\n",
      " '10X191_7' '10X191_8' '10X192_1' '10X192_2' '10X192_3' '10X192_4'\n",
      " '10X192_5' '10X192_6' '10X192_7' '10X192_8' '10X193_1' '10X193_2'\n",
      " '10X193_3' '10X193_4' '10X193_5' '10X193_6' '10X193_7' '10X193_8'\n",
      " '10X194_1' '10X194_2' '10X194_4' '10X194_5' '10X194_6' '10X194_7'\n",
      " '10X194_8' '10X203_1' '10X203_2' '10X203_3' '10X203_4' '10X203_5'\n",
      " '10X203_6' '10X203_7' '10X203_8' '10X204_1' '10X204_2' '10X204_3'\n",
      " '10X204_4' '10X204_5' '10X204_6' '10X204_7' '10X204_8' '10X205_2'\n",
      " '10X205_3' '10X205_4' '10X205_5' '10X205_6' '10X205_7' '10X205_8'\n",
      " '10X206_1' '10X206_2' '10X206_3' '10X206_4' '10X206_5' '10X206_6'\n",
      " '10X206_7' '10X206_8' '10X215_1' '10X215_2' '10X215_3' '10X215_4'\n",
      " '10X215_5' '10X215_6' '10X215_7' '10X215_8' '10X216_1' '10X216_2'\n",
      " '10X216_3' '10X216_4' '10X216_5' '10X216_6' '10X216_7' '10X216_8'\n",
      " '10X217_1' '10X217_2' '10X217_3' '10X217_4' '10X217_5' '10X217_6'\n",
      " '10X217_7' '10X217_8' '10X218_1' '10X218_2' '10X218_3' '10X218_4'\n",
      " '10X218_5' '10X218_6' '10X218_7' '10X219_1' '10X219_2' '10X219_5'\n",
      " '10X219_6' '10X220_7' '10X220_8' '10X221_3' '10X221_4' '10X221_5'\n",
      " '10X221_6' '10X221_7' '10X221_8' '10X222_1' '10X222_2' '10X222_3'\n",
      " '10X222_4' '10X222_5' '10X222_6' '10X222_7' '10X222_8' '10X224_1'\n",
      " '10X224_2' '10X225_1' '10X225_2' '10X227_1' '10X227_2' '10X227_3'\n",
      " '10X227_4' '10X227_5' '10X227_6' '10X228_1' '10X228_2' '10X228_3'\n",
      " '10X228_4' '10X228_5' '10X228_6' '10X229_1' '10X229_2' '10X229_3'\n",
      " '10X229_4' '10X229_5' '10X229_6' '10X229_7' '10X229_8' '10X230_1'\n",
      " '10X230_2' '10X230_3' '10X230_4' '10X230_5' '10X230_6' '10X230_7'\n",
      " '10X230_8' '10X236_1' '10X236_2' '10X237_1' '10X237_2' '10X237_3'\n",
      " '10X240_1' '10X240_2' '10X240_3' '10X240_4' '10X240_5' '10X240_6'\n",
      " '10X240_7' '10X240_8' '10X241_1' '10X241_2' '10X241_3' '10X241_4'\n",
      " '10X241_5' '10X241_6' '10X241_7' '10X241_8' '10X243_1' '10X243_2'\n",
      " '10X243_3' '10X243_4' '10X243_5' '10X243_6' '10X243_7' '10X243_8'\n",
      " '10X248_1' '10X248_2' '10X248_3' '10X248_4' '10X248_5' '10X248_6'\n",
      " '10X248_7' '10X248_8' '10X249_1' '10X249_2' '10X249_3' '10X249_4'\n",
      " '10X249_5' '10X249_6' '10X249_7' '10X249_8' '10X264_1' '10X264_2'\n",
      " '10X264_3' '10X264_4' '10X264_5' '10X264_6' '10X264_7' '10X264_8'\n",
      " '10X265_1' '10X265_2' '10X265_3' '10X265_4' '10X265_5' '10X265_6'\n",
      " '10X265_7' '10X265_8' '10X269_1' '10X269_2' '10X269_3' '10X269_4'\n",
      " '10X269_5' '10X269_6' '10X269_7' '10X269_8' '10X270_1' '10X270_2'\n",
      " '10X270_3' '10X270_4' '10X270_5' '10X270_6' '10X270_7' '10X270_8'\n",
      " '10X276_1' '10X276_2' '10X276_3' '10X276_4' '10X276_5' '10X276_6'\n",
      " '10X276_7' '10X276_8' '10X277_1' '10X277_2' '10X277_3' '10X277_4'\n",
      " '10X277_5' '10X277_6' '10X277_7' '10X277_8' '10X318_1' '10X318_2'\n",
      " '10X318_3' '10X318_4' '10X318_5' '10X318_6' '10X318_7' '10X318_8'\n",
      " '10X319_1' '10X319_2' '10X319_3' '10X319_4' '10X319_5' '10X319_6'\n",
      " '10X319_7' '10X319_8' '10X329_1' '10X329_2' '10X329_3' '10X329_4'\n",
      " '10X329_5' '10X329_6' '10X329_7' '10X329_8' '10X330_1' '10X330_2'\n",
      " '10X330_3' '10X330_4' '10X330_5' '10X330_6' '10X330_7' '10X330_8'\n",
      " '10X348_1' '10X348_2' '10X348_3' '10X348_4' '10X348_5' '10X348_6'\n",
      " '10X348_7' '10X348_8' '10X349_1' '10X349_2' '10X349_3' '10X349_4'\n",
      " '10X349_5' '10X349_6' '10X349_7' '10X349_8' '10X350_1' '10X350_2'\n",
      " '10X350_3' '10X350_4' '10X350_5' '10X350_6' '10X350_7' '10X350_8'\n",
      " '10X353_1' '10X353_2' '10X353_3' '10X353_4' '10X353_5' '10X353_6'\n",
      " '10X354_1' '10X354_2' '10X354_3' '10X354_4' '10X354_5' '10X354_6'\n",
      " '10X354_7' '10X354_8' '10X355_1' '10X355_2' '10X355_3' '10X355_4'\n",
      " '10X355_5' '10X355_6' '10X356_1' '10X356_2' '10X356_3' '10X356_4'\n",
      " '10X356_5' '10X356_6' '10X356_7' '10X356_8' '10X357_1' '10X357_2'\n",
      " '10X357_3' '10X357_4' '10X357_5' '10X357_6' '10X357_7' '10X357_8'\n",
      " '10X358_1' '10X358_2' '10X358_3' '10X358_4' '10X358_5' '10X358_6'\n",
      " '10X358_7' '10X358_8' '10X359_1' '10X359_2' '10X359_3' '10X359_4'\n",
      " '10X359_5' '10X359_6' '10X359_7' '10X359_8' '10X360_1' '10X360_2'\n",
      " '10X360_3' '10X360_4' '10X360_5' '10X360_6' '10X360_7' '10X360_8'\n",
      " '10X361_1' '10X361_2' '10X361_3' '10X361_4' '10X361_5' '10X361_6'\n",
      " '10X361_7' '10X361_8' '10X362_1' '10X362_2' '10X362_3' '10X362_4'\n",
      " '10X362_5' '10X362_6' '10X375_1' '10X375_2' '10X375_3' '10X375_4'\n",
      " '10X375_5' '10X375_6' '10X375_7' '10X375_8' '10X376_1' '10X376_2'\n",
      " '10X376_3' '10X376_4' '10X376_5' '10X376_6' '10X376_7' '10X376_8'\n",
      " '10X377_1' '10X377_2' '10X377_3' '10X377_4' '10X377_5' '10X377_6'\n",
      " '10X377_7' '10X377_8' '10X378_1' '10X378_2' '10X378_3' '10X378_4'\n",
      " '10X378_5' '10X378_6' '10X378_7' '10X378_8' '10X379_1' '10X379_2'\n",
      " '10X379_3' '10X379_4' '10X379_5' '10X379_6' '10X379_7' '10X379_8'\n",
      " '10X380_1' '10X380_2' '10X380_3' '10X380_4' '10X380_5' '10X380_6'\n",
      " '10X380_7' '10X380_8' '10X381_1' '10X381_2' '10X381_3' '10X381_4'\n",
      " '10X381_5' '10X381_6' '10X381_7' '10X381_8' '10X382_1' '10X382_2'\n",
      " '10X382_3' '10X382_4' '10X382_5' '10X382_6' '10X382_7' '10X382_8'\n",
      " '10X383_1' '10X383_2' '10X383_3' '10X383_4' '10X383_5' '10X383_6'\n",
      " '10X383_7' '10X383_8' '10X384_1' '10X384_2' '10X384_3' '10X384_4'\n",
      " '10X384_5' '10X384_6' '10X384_7' '10X385_1' '10X385_2' '10X385_3'\n",
      " '10X385_4' '10X385_5' '10X385_6' '10X385_7' '10X386_2' '10X386_3'\n",
      " '10X386_4' '10X386_5' '10X386_6' '10X386_7' '10X386_8' '10X387_2'\n",
      " '10X387_3' '10X387_4' '10X387_5' '10X387_6' '10X387_7' '10X388_2'\n",
      " '10X388_3' '10X388_4' '10X388_5' '10X388_6' '10X388_7' '10X389_1'\n",
      " '10X389_2' '10X389_3' '10X389_4' '10X389_5' '10X389_6' '10X389_7'\n",
      " '10X390_1' '10X390_2' '10X390_3' '10X390_4' '10X390_5' '10X390_6'\n",
      " '10X390_7' '10X390_8' '10X391_1' '10X391_2' '10X391_3' '10X391_4'\n",
      " '10X391_5' '10X391_6' '10X391_7' '10X391_8' '10X392_1' '10X392_2'\n",
      " '10X392_3' '10X392_4' '10X392_5' '10X392_6' '10X393_1' '10X393_2'\n",
      " '10X393_3' '10X393_4' '10X393_5' '10X393_6' '10X393_7' '10X393_8'\n",
      " '10X418_1' '10X418_2' '10X418_3' '10X418_4' '10X418_5' '10X418_6'\n",
      " '10X418_7' '10X418_8' '10X419_1' '10X419_2' '10X419_3' '10X419_4']\n",
      "self_reported_ethnicity_ontology_term_id: ['unknown']\n",
      "sex_ontology_term_id: ['PATO:0000383' 'PATO:0000384']\n",
      "subcluster_id: [   0    1    2 ... 3310 3311 3312]\n",
      "supercluster_term: ['Amygdala excitatory' 'CGE interneuron' 'Cerebellar inhibitory'\n",
      " 'Deep-layer corticothalamic and 6b' 'Deep-layer intratelencephalic'\n",
      " 'Deep-layer near-projecting' 'Eccentric medium spiny neuron'\n",
      " 'Hippocampal CA1-3' 'Hippocampal CA4' 'Hippocampal dentate gyrus'\n",
      " 'LAMP5-LHX6 and Chandelier' 'Lower rhombic lip' 'MGE interneuron'\n",
      " 'Mammillary body' 'Medium spiny neuron' 'Midbrain-derived inhibitory'\n",
      " 'Miscellaneous' 'Splatter' 'Thalamic excitatory' 'Upper rhombic lip'\n",
      " 'Upper-layer intratelencephalic']\n",
      "tissue_ontology_term_id: ['UBERON:0000956' 'UBERON:0000988' 'UBERON:0001891' 'UBERON:0001898'\n",
      " 'UBERON:0002037' 'UBERON:0002240' 'UBERON:0002421' 'UBERON:0010225'\n",
      " 'UBERON:8440012' 'UBERON_0005290']\n"
     ]
    }
   ],
   "source": [
    "with h5py.File(h5, 'r') as f:\n",
    "    for key in f['obs'].keys():\n",
    "        try:\n",
    "            print(f\"{key}: {f['obs'][key]['categories'][()]}\")\n",
    "        except ValueError as err:\n",
    "            print(f\"{key}: no categories\")"
   ]
  },
  {
   "cell_type": "code",
   "execution_count": null,
   "id": "7e8d3f80-3c17-42e1-92d9-8c633507760e",
   "metadata": {},
   "outputs": [],
   "source": []
  },
  {
   "cell_type": "code",
   "execution_count": null,
   "id": "5c4028be-5000-4600-bbc6-6fa14d8c2210",
   "metadata": {},
   "outputs": [],
   "source": []
  },
  {
   "cell_type": "markdown",
   "id": "f01818f5-1069-4db9-98e1-29cf7d659c08",
   "metadata": {},
   "source": [
    "### Test h5 file from cellxgene website"
   ]
  },
  {
   "cell_type": "code",
   "execution_count": null,
   "id": "7196ec21-b921-455c-b8cf-2ab73a1ebe39",
   "metadata": {},
   "outputs": [],
   "source": [
    "h5_test = '/lustre/orion/syb111/proj-shared/Projects/scrna-seq/data/human/brain/healthy/nemo/raw/cellxgene_datasets/hypo17.h5ad'"
   ]
  },
  {
   "cell_type": "code",
   "execution_count": 104,
   "id": "ea9dd6ce-d3dc-4cb7-8887-f6662bb3442d",
   "metadata": {},
   "outputs": [
    {
     "name": "stdout",
     "output_type": "stream",
     "text": [
      "<KeysViewHDF5 ['CellID', 'assay', 'assay_ontology_term_id', 'cell_cycle_score', 'cell_type', 'cell_type_ontology_term_id', 'cluster_id', 'development_stage', 'development_stage_ontology_term_id', 'disease', 'disease_ontology_term_id', 'dissection', 'donor_id', 'fraction_mitochondrial', 'fraction_unspliced', 'is_primary_data', 'observation_joinid', 'organism', 'organism_ontology_term_id', 'roi', 'sample_id', 'self_reported_ethnicity', 'self_reported_ethnicity_ontology_term_id', 'sex', 'sex_ontology_term_id', 'subcluster_id', 'supercluster_term', 'suspension_type', 'tissue', 'tissue_ontology_term_id', 'tissue_type', 'total_UMIs', 'total_genes']>\n",
      "['fibroblast' 'ependymal cell' 'endothelial cell' 'astrocyte'\n",
      " 'oligodendrocyte' 'vascular associated smooth muscle cell' 'neuron'\n",
      " 'pericyte' 'leukocyte' 'central nervous system macrophage'\n",
      " 'oligodendrocyte precursor cell']\n",
      "[  1   3   4   6   7   8   9  10  11  12  14  15  16  17  18  19  20  21\n",
      "  22  25  26  27  28  32  33  34  35  36  37  38  39  40  41  44  45  46\n",
      "  47  49  56  60  61  62  63  65  67  68  71  90 103 121 122 124 129 130\n",
      " 137 138 142 148 237 238 242 252 261 262 264 267 269 270 271 273 274 278\n",
      " 279 282 283 284 286 287 293 294 296 307 310 311 313 323 324 325 326 327\n",
      " 328 329 330 331 332 333 336 343 349 351 354 355 362 365 366 368 373 376\n",
      " 377 378 381 383 384 385 387 390 391 392 393 395 396 397 409 410 411 412\n",
      " 413 414 415 416 417 418 424 425 431 432 433 434 435 436 437 438 439 440\n",
      " 441 443 444 459]\n"
     ]
    }
   ],
   "source": [
    "with h5py.File(h5_test, 'r') as f:\n",
    "    #print(f'Keys: {f.keys()}')\n",
    "    print(f['obs'].keys())\n",
    "    print(f['obs']['cell_type']['categories'][()])\n",
    "    print(f['obs']['cluster_id']['categories'][()])\n"
   ]
  },
  {
   "cell_type": "code",
   "execution_count": 110,
   "id": "7956a007-7c7f-4236-825a-d49557c279b7",
   "metadata": {},
   "outputs": [
    {
     "name": "stdout",
     "output_type": "stream",
     "text": [
      "CellID: no categories\n",
      "assay: [\"10x 3' v3\"]\n",
      "assay_ontology_term_id: ['EFO:0009922']\n",
      "cell_cycle_score: no categories\n",
      "cell_type: ['fibroblast' 'ependymal cell' 'endothelial cell' 'astrocyte'\n",
      " 'oligodendrocyte' 'vascular associated smooth muscle cell' 'neuron'\n",
      " 'pericyte' 'leukocyte' 'central nervous system macrophage'\n",
      " 'oligodendrocyte precursor cell']\n",
      "cell_type_ontology_term_id: ['CL:0000057' 'CL:0000065' 'CL:0000115' 'CL:0000127' 'CL:0000128'\n",
      " 'CL:0000359' 'CL:0000540' 'CL:0000669' 'CL:0000738' 'CL:0000878'\n",
      " 'CL:0002453']\n",
      "cluster_id: [  1   3   4   6   7   8   9  10  11  12  14  15  16  17  18  19  20  21\n",
      "  22  25  26  27  28  32  33  34  35  36  37  38  39  40  41  44  45  46\n",
      "  47  49  56  60  61  62  63  65  67  68  71  90 103 121 122 124 129 130\n",
      " 137 138 142 148 237 238 242 252 261 262 264 267 269 270 271 273 274 278\n",
      " 279 282 283 284 286 287 293 294 296 307 310 311 313 323 324 325 326 327\n",
      " 328 329 330 331 332 333 336 343 349 351 354 355 362 365 366 368 373 376\n",
      " 377 378 381 383 384 385 387 390 391 392 393 395 396 397 409 410 411 412\n",
      " 413 414 415 416 417 418 424 425 431 432 433 434 435 436 437 438 439 440\n",
      " 441 443 444 459]\n",
      "development_stage: ['42-year-old human stage']\n",
      "development_stage_ontology_term_id: ['HsapDv:0000136']\n",
      "disease: ['normal']\n",
      "disease_ontology_term_id: ['PATO:0000461']\n",
      "dissection: ['Hypothalamus (HTH) - mammillary region of HTH (HTHma)']\n",
      "donor_id: ['H19.30.001']\n",
      "fraction_mitochondrial: no categories\n",
      "fraction_unspliced: no categories\n",
      "is_primary_data: no categories\n",
      "observation_joinid: no categories\n",
      "organism: ['Homo sapiens']\n",
      "organism_ontology_term_id: ['NCBITaxon:9606']\n",
      "roi: ['Human HTHma']\n",
      "sample_id: ['10X389_1' '10X389_2']\n",
      "self_reported_ethnicity: ['European']\n",
      "self_reported_ethnicity_ontology_term_id: ['HANCESTRO:0005']\n",
      "sex: ['male']\n",
      "sex_ontology_term_id: ['PATO:0000384']\n",
      "subcluster_id: [   9   10   11   13   14  157  166  167  177  178  228  310  374  376\n",
      "  377  408  411  428  432  433  434  440  441  446  450  461  462  464\n",
      "  470  477  489  506  519  545  557  561  570  620  640  652  653  654\n",
      "  655  656  657  658  660  661  662  663  664  665  668  674  679  687\n",
      "  689  691  692  695  704  705  709  713  719  720  721  722  723  727\n",
      "  728  729  730  748  749  751  775  815  816  817  818  821  823  824\n",
      "  825  826  827  828  829  830  831  832  833  834  835  836  856  857\n",
      "  859  860  862  863  866  893  894  911  918  930  953  955  981 1056\n",
      " 1087 1102 1103 1104 1105 1106 1107 1108 1109 1110 1111 1112 1113 1114\n",
      " 1115 1116 1117 1118 1119 1120 1121 1122 1123 1124 1125 1126 1127 1128\n",
      " 1129 1130 1131 1132 1133 1134 1135 1136 1137 1138 1139 1140 1141 1142\n",
      " 1143 1144 1145 1146 1147 1148 1149 1150 1151 1154 1155 1156 1157 1158\n",
      " 1159 1160 1161 1162 1163 1164 1165 1166 1167 1168 1170 1171 1172 1173\n",
      " 1174 1175 1176 1177 1178 1179 1181 1182 1183 1200 1202 1203 1205 1206\n",
      " 1216 1217 1218 1219 1220 1221 1222 1223 1224 1225 1226 1229 1231 1232\n",
      " 1233 1234 1235 1236 1238 1239 1243 1244 1247 1249 1257 1258 1259 1260\n",
      " 1261 1265 1266 1267 1272 1274 1280 1281 1282 1283 1284 1285 1286 1287\n",
      " 1288 1289 1290 1394 1407 1437 1440 1459 1460 1501 1502 1510 1567 1568\n",
      " 1570 1606 1677 1678 1679 1682 1683 1684 1685 1686 1689 1690 1691 1693\n",
      " 1702 1746 1753 1758 1767 1797 1826 1827 1828 1829 1830 1831 1832 1833\n",
      " 1834 1835 1836 1837 1838 1839 1840 1841 1842 1843 1844 1845 1846 1847\n",
      " 1848 1849 1850 1851 1852 1853 1854 1855 1856 1857 1858 1859 1860 1862\n",
      " 1864 1869 1870 1871 1872 1873 1874 2490 2564 2566 2567 2571 2600 2608\n",
      " 2620 2621 2625 2626 2739 2749 2775 2777 2778 2836 2946 2999 3000 3001\n",
      " 3002 3003 3004 3005 3012 3013 3014 3020 3021 3022 3023 3024 3025 3027\n",
      " 3030 3031 3038 3039 3040 3042 3043 3044 3045 3046 3049 3054 3056 3057\n",
      " 3065 3066 3067 3068 3069 3070 3071 3072 3073 3105 3112 3120 3121 3122\n",
      " 3123 3124 3125 3128 3129 3130 3138 3142 3147 3149 3168 3204 3206 3208\n",
      " 3209 3210 3212 3215 3216 3217 3218 3221 3223 3224 3225 3226 3227 3228\n",
      " 3229 3230 3231 3234 3235 3240 3242 3243 3244 3245 3246 3247 3249 3250\n",
      " 3265 3267 3268 3273 3275 3276 3277 3278 3280 3281 3282 3284 3285 3286\n",
      " 3288 3289 3290 3295 3301 3306]\n",
      "supercluster_term: ['Astrocyte' 'CGE interneuron' 'Cerebellar inhibitory'\n",
      " 'Committed oligodendrocyte precursor' 'Deep-layer corticothalamic and 6b'\n",
      " 'Deep-layer intratelencephalic' 'Deep-layer near-projecting' 'Ependymal'\n",
      " 'Fibroblast' 'LAMP5-LHX6 and Chandelier' 'MGE interneuron'\n",
      " 'Mammillary body' 'Microglia' 'Midbrain-derived inhibitory'\n",
      " 'Miscellaneous' 'Oligodendrocyte' 'Oligodendrocyte precursor' 'Splatter'\n",
      " 'Thalamic excitatory' 'Upper rhombic lip'\n",
      " 'Upper-layer intratelencephalic' 'Vascular']\n",
      "suspension_type: ['nucleus']\n",
      "tissue: ['hypothalamus']\n",
      "tissue_ontology_term_id: ['UBERON:0001898']\n",
      "tissue_type: ['tissue']\n",
      "total_UMIs: no categories\n",
      "total_genes: no categories\n"
     ]
    }
   ],
   "source": [
    "with h5py.File(h5_test, 'r') as f:\n",
    "    for key in f['obs'].keys():\n",
    "        try:\n",
    "            print(f\"{key}: {f['obs'][key]['categories'][()]}\")\n",
    "        except ValueError as err:\n",
    "            print(f\"{key}: no categories\")"
   ]
  },
  {
   "cell_type": "code",
   "execution_count": null,
   "id": "c895f0a2-7ca3-4590-9faa-ad9f9a8a26f4",
   "metadata": {},
   "outputs": [],
   "source": []
  },
  {
   "cell_type": "code",
   "execution_count": null,
   "id": "ff2ad3da-c254-4315-8636-58fc7ebe611f",
   "metadata": {},
   "outputs": [],
   "source": []
  },
  {
   "cell_type": "code",
   "execution_count": null,
   "id": "8e803a42-2b2d-4c7e-93a4-1065f9adab1f",
   "metadata": {},
   "outputs": [],
   "source": []
  },
  {
   "cell_type": "markdown",
   "id": "2c9522da-b713-4f18-b92c-d6d95fcb06ca",
   "metadata": {},
   "source": [
    "# Writing the annotated hypothalamus loom to comet-format tsv"
   ]
  },
  {
   "cell_type": "code",
   "execution_count": null,
   "id": "15348ed2-463a-47dc-9176-1390e7f8b964",
   "metadata": {},
   "outputs": [],
   "source": [
    "import pandas as pd\n",
    "import scipy.sparse as sparse"
   ]
  },
  {
   "cell_type": "code",
   "execution_count": 20,
   "id": "e8015a0d-5bad-4970-a4ad-f037f587d4a8",
   "metadata": {},
   "outputs": [],
   "source": [
    "loom = '/lustre/orion/syb111/proj-shared/Projects/scrna-seq/data/human/brain/healthy/nemo/raw/celltype_build/data/Hypothalamus.loom_249193.08994212776'"
   ]
  },
  {
   "cell_type": "code",
   "execution_count": null,
   "id": "d913a14a-f59f-4119-b8fb-e081c6f1b333",
   "metadata": {},
   "outputs": [],
   "source": [
    "ds = loompy.connect(loom)\n",
    "ds"
   ]
  },
  {
   "cell_type": "code",
   "execution_count": null,
   "id": "9b4d07d8-93a1-46af-b1fe-cb7db4004714",
   "metadata": {},
   "outputs": [],
   "source": [
    "ds.close()"
   ]
  },
  {
   "cell_type": "code",
   "execution_count": null,
   "id": "e456694f-95bd-4145-8273-a65ff57556ef",
   "metadata": {},
   "outputs": [],
   "source": [
    "with loompy.connect(loom) as ds:\n",
    "    bcs = ds.ra['CellID']\n",
    "    genes = ds.ca['Accession']\n",
    "    mtx = ds.sparse()"
   ]
  },
  {
   "cell_type": "code",
   "execution_count": null,
   "id": "17324b9b-9fa8-4c66-b512-0c7af806b06c",
   "metadata": {},
   "outputs": [],
   "source": [
    "# need to do this per celltype:\n",
    "df = pd.DataFrame(data=mtx, index=genes, columns=bcs)\n",
    "out_path = ''\n",
    "df.to_csv(sep='\\t', index_col=0, header=0)"
   ]
  },
  {
   "cell_type": "code",
   "execution_count": null,
   "id": "ece7ad4e-18b9-4087-a766-84a861a90878",
   "metadata": {},
   "outputs": [],
   "source": []
  },
  {
   "cell_type": "markdown",
   "id": "daffd0b1-297d-4efb-8e53-9aa5866c4815",
   "metadata": {},
   "source": [
    "# Look at an individual Hypothalamus .loom I wrote out to see if it has the 461 clusters preserved"
   ]
  },
  {
   "cell_type": "code",
   "execution_count": 139,
   "id": "d769e3fd-9f36-430c-b39d-a2ae544545d6",
   "metadata": {},
   "outputs": [],
   "source": [
    "loom = '/lustre/orion/syb111/proj-shared/Projects/scrna-seq/data/human/brain/healthy/nemo/raw/linnarson/hypo_looms/10X392_4.loom'"
   ]
  },
  {
   "cell_type": "code",
   "execution_count": 140,
   "id": "9f1142dd-5ba5-4209-9438-329db5ce9354",
   "metadata": {},
   "outputs": [
    {
     "data": {
      "text/html": [
       "<p>59480 rows, 5099 columns, 1 layer<br/>(showing up to 10x10)<br/>/lustre/orion/syb111/proj-shared/Projects/scrna-seq/data/human/brain/healthy/nemo/raw/linnarson/hypo_looms/10X392_4.loom<br/>name: <em>20240403T050957.154244Z</em><br/>name: <em>3.0.0</em><br/><table><tr><td>&nbsp;</td><td>&nbsp;</td><td>&nbsp;</td><td><strong>Age</strong></td><td>42.0</td><td>42.0</td><td>42.0</td><td>42.0</td><td>42.0</td><td>42.0</td><td>42.0</td><td>42.0</td><td>42.0</td><td>42.0</td><td>...</td></tr><tr><td>&nbsp;</td><td>&nbsp;</td><td>&nbsp;</td><td><strong>CellCycle</strong></td><td>0.0008639308855291577</td><td>0.003320420586607637</td><td>0.0033738191632928472</td><td>0.0017346053772766695</td><td>0.00035842293906810036</td><td>0.0014947683109118087</td><td>0.0032679738562091504</td><td>0.0004</td><td>0.0004210526315789474</td><td>0.0009857072449482504</td><td>...</td></tr><tr><td>&nbsp;</td><td>&nbsp;</td><td>&nbsp;</td><td><strong>CellID</strong></td><td>10X392_4:TTTATGCTCCACGTGG</td><td>10X392_4:ACTACGAAGAGTTGAT</td><td>10X392_4:TTGGTTTGTCCTGAAT</td><td>10X392_4:TGATCTTAGGTACATA</td><td>10X392_4:TCGACGGTCAATCCGA</td><td>10X392_4:CTTCGGTGTCTAGGTT</td><td>10X392_4:CACCAAAGTTACCTGA</td><td>10X392_4:GTCATGAAGGGCTTCC</td><td>10X392_4:TGGGCTGGTGTAGCAG</td><td>10X392_4:GTGCTTCCATCCTTGC</td><td>...</td></tr><tr><td>&nbsp;</td><td>&nbsp;</td><td>&nbsp;</td><td><strong>Chemistry</strong></td><td>v3</td><td>v3</td><td>v3</td><td>v3</td><td>v3</td><td>v3</td><td>v3</td><td>v3</td><td>v3</td><td>v3</td><td>...</td></tr><tr><td>&nbsp;</td><td>&nbsp;</td><td>&nbsp;</td><td><strong>Clusters</strong></td><td>1</td><td>1</td><td>1</td><td>1</td><td>1</td><td>1</td><td>1</td><td>5</td><td>5</td><td>6</td><td>...</td></tr><tr><td>&nbsp;</td><td>&nbsp;</td><td>&nbsp;</td><td><strong>Donor</strong></td><td>H19.30.001</td><td>H19.30.001</td><td>H19.30.001</td><td>H19.30.001</td><td>H19.30.001</td><td>H19.30.001</td><td>H19.30.001</td><td>H19.30.001</td><td>H19.30.001</td><td>H19.30.001</td><td>...</td></tr><tr><td>&nbsp;</td><td>&nbsp;</td><td>&nbsp;</td><td><strong>NGenes</strong></td><td>1436.0</td><td>1164.0</td><td>1006.0</td><td>757.0</td><td>1638.0</td><td>877.0</td><td>1355.0</td><td>1574.0</td><td>1339.0</td><td>1345.0</td><td>...</td></tr><tr><td>&nbsp;</td><td>&nbsp;</td><td>&nbsp;</td><td><strong>ROIGroupCoarse</strong></td><td>Hypothalamus</td><td>Hypothalamus</td><td>Hypothalamus</td><td>Hypothalamus</td><td>Hypothalamus</td><td>Hypothalamus</td><td>Hypothalamus</td><td>Hypothalamus</td><td>Hypothalamus</td><td>Hypothalamus</td><td>...</td></tr><tr><td>&nbsp;</td><td>&nbsp;</td><td>&nbsp;</td><td><strong>ROIGroupFine</strong></td><td>Hypothalamus</td><td>Hypothalamus</td><td>Hypothalamus</td><td>Hypothalamus</td><td>Hypothalamus</td><td>Hypothalamus</td><td>Hypothalamus</td><td>Hypothalamus</td><td>Hypothalamus</td><td>Hypothalamus</td><td>...</td></tr><tr><td>&nbsp;</td><td>&nbsp;</td><td>&nbsp;</td><td><strong>Roi</strong></td><td>HTHso-HTHtub</td><td>HTHso-HTHtub</td><td>HTHso-HTHtub</td><td>HTHso-HTHtub</td><td>HTHso-HTHtub</td><td>HTHso-HTHtub</td><td>HTHso-HTHtub</td><td>HTHso-HTHtub</td><td>HTHso-HTHtub</td><td>HTHso-HTHtub</td><td>...</td></tr><tr><td>&nbsp;</td><td>&nbsp;</td><td>&nbsp;</td><td><strong>SampleID</strong></td><td>10X392_4</td><td>10X392_4</td><td>10X392_4</td><td>10X392_4</td><td>10X392_4</td><td>10X392_4</td><td>10X392_4</td><td>10X392_4</td><td>10X392_4</td><td>10X392_4</td><td>...</td></tr><tr><td>&nbsp;</td><td>&nbsp;</td><td>&nbsp;</td><td><strong>Sex</strong></td><td>M</td><td>M</td><td>M</td><td>M</td><td>M</td><td>M</td><td>M</td><td>M</td><td>M</td><td>M</td><td>...</td></tr><tr><td>&nbsp;</td><td>&nbsp;</td><td>&nbsp;</td><td><strong>Subclusters</strong></td><td>3304</td><td>3300</td><td>3301</td><td>3302</td><td>3301</td><td>3302</td><td>3301</td><td>3292</td><td>3292</td><td>3275</td><td>...</td></tr><tr><td>&nbsp;</td><td>&nbsp;</td><td>&nbsp;</td><td><strong>Tissue</strong></td><td>Hypothalamus (HTH) - supraoptic region of HTH - HTHso (anterior hypothalamic nucleus, AHN) - tuberal region of HTH - HTHtub (ventromedial hypothalamic nucleus, VMH)</td><td>Hypothalamus (HTH) - supraoptic region of HTH - HTHso (anterior hypothalamic nucleus, AHN) - tuberal region of HTH - HTHtub (ventromedial hypothalamic nucleus, VMH)</td><td>Hypothalamus (HTH) - supraoptic region of HTH - HTHso (anterior hypothalamic nucleus, AHN) - tuberal region of HTH - HTHtub (ventromedial hypothalamic nucleus, VMH)</td><td>Hypothalamus (HTH) - supraoptic region of HTH - HTHso (anterior hypothalamic nucleus, AHN) - tuberal region of HTH - HTHtub (ventromedial hypothalamic nucleus, VMH)</td><td>Hypothalamus (HTH) - supraoptic region of HTH - HTHso (anterior hypothalamic nucleus, AHN) - tuberal region of HTH - HTHtub (ventromedial hypothalamic nucleus, VMH)</td><td>Hypothalamus (HTH) - supraoptic region of HTH - HTHso (anterior hypothalamic nucleus, AHN) - tuberal region of HTH - HTHtub (ventromedial hypothalamic nucleus, VMH)</td><td>Hypothalamus (HTH) - supraoptic region of HTH - HTHso (anterior hypothalamic nucleus, AHN) - tuberal region of HTH - HTHtub (ventromedial hypothalamic nucleus, VMH)</td><td>Hypothalamus (HTH) - supraoptic region of HTH - HTHso (anterior hypothalamic nucleus, AHN) - tuberal region of HTH - HTHtub (ventromedial hypothalamic nucleus, VMH)</td><td>Hypothalamus (HTH) - supraoptic region of HTH - HTHso (anterior hypothalamic nucleus, AHN) - tuberal region of HTH - HTHtub (ventromedial hypothalamic nucleus, VMH)</td><td>Hypothalamus (HTH) - supraoptic region of HTH - HTHso (anterior hypothalamic nucleus, AHN) - tuberal region of HTH - HTHtub (ventromedial hypothalamic nucleus, VMH)</td><td>...</td></tr><tr><td>&nbsp;</td><td>&nbsp;</td><td>&nbsp;</td><td><strong>TotalUMI</strong></td><td>2315.0</td><td>1807.0</td><td>1482.0</td><td>1153.0</td><td>2790.0</td><td>1338.0</td><td>2142.0</td><td>2500.0</td><td>2375.0</td><td>2029.0</td><td>...</td></tr><tr><td><strong>Accession</strong></td><td><strong>Gene</strong></td><td><strong>Valid</strong></td><td>&nbsp;</td><td>&nbsp;</td><td>&nbsp;</td><td>&nbsp;</td><td>&nbsp;</td><td>&nbsp;</td><td>&nbsp;</td><td>&nbsp;</td><td>&nbsp;</td><td>&nbsp;</td><td>&nbsp;</td><td>...</td></tr><tr><td>ENSG00000129910.8</td><td>CDH15</td><td>1</td><td>&nbsp;</td><td>0.0</td><td>0.0</td><td>0.0</td><td>0.0</td><td>0.0</td><td>0.0</td><td>0.0</td><td>0.0</td><td>0.0</td><td>0.0</td><td>...</td></tr><tr><td>ENSG00000259803.7</td><td>SLC22A31</td><td>1</td><td>&nbsp;</td><td>0.0</td><td>0.0</td><td>0.0</td><td>0.0</td><td>0.0</td><td>0.0</td><td>0.0</td><td>0.0</td><td>0.0</td><td>0.0</td><td>...</td></tr><tr><td>ENSG00000139899.11</td><td>CBLN3</td><td>1</td><td>&nbsp;</td><td>0.0</td><td>0.0</td><td>0.0</td><td>0.0</td><td>0.0</td><td>0.0</td><td>0.0</td><td>0.0</td><td>0.0</td><td>0.0</td><td>...</td></tr><tr><td>ENSG00000286891.1</td><td>AC080132.1</td><td>1</td><td>&nbsp;</td><td>0.0</td><td>0.0</td><td>0.0</td><td>0.0</td><td>0.0</td><td>0.0</td><td>0.0</td><td>0.0</td><td>0.0</td><td>0.0</td><td>...</td></tr><tr><td>ENSG00000132677.13</td><td>RHBG</td><td>1</td><td>&nbsp;</td><td>0.0</td><td>0.0</td><td>0.0</td><td>0.0</td><td>0.0</td><td>0.0</td><td>0.0</td><td>0.0</td><td>0.0</td><td>0.0</td><td>...</td></tr><tr><td>ENSG00000174171.6</td><td>AC020659.1</td><td>1</td><td>&nbsp;</td><td>0.0</td><td>0.0</td><td>0.0</td><td>0.0</td><td>0.0</td><td>0.0</td><td>0.0</td><td>0.0</td><td>0.0</td><td>0.0</td><td>...</td></tr><tr><td>ENSG00000287227.1</td><td>AC021698.1</td><td>1</td><td>&nbsp;</td><td>0.0</td><td>0.0</td><td>0.0</td><td>0.0</td><td>0.0</td><td>0.0</td><td>0.0</td><td>0.0</td><td>0.0</td><td>0.0</td><td>...</td></tr><tr><td>ENSG00000286097.1</td><td>AC108517.2</td><td>1</td><td>&nbsp;</td><td>0.0</td><td>0.0</td><td>0.0</td><td>0.0</td><td>0.0</td><td>0.0</td><td>0.0</td><td>0.0</td><td>0.0</td><td>0.0</td><td>...</td></tr><tr><td>ENSG00000287226.1</td><td>AC084740.1</td><td>1</td><td>&nbsp;</td><td>0.0</td><td>0.0</td><td>0.0</td><td>0.0</td><td>0.0</td><td>0.0</td><td>0.0</td><td>0.0</td><td>0.0</td><td>0.0</td><td>...</td></tr><tr><td>ENSG00000257242.8</td><td>LINC01619</td><td>1</td><td>&nbsp;</td><td>4.0</td><td>0.0</td><td>0.0</td><td>0.0</td><td>0.0</td><td>0.0</td><td>0.0</td><td>1.0</td><td>0.0</td><td>0.0</td><td>...</td></tr><tr><td>...</td><td>...</td><td>...</td><td>...</td><td>...</td><td>...</td><td>...</td><td>...</td><td>...</td><td>...</td><td>...</td><td>...</td><td>...</td><td>...</td><td>...</td></tr></table>"
      ],
      "text/plain": [
       "<loompy.loompy.LoomConnection at 0x7f14735883a0>"
      ]
     },
     "execution_count": 140,
     "metadata": {},
     "output_type": "execute_result"
    }
   ],
   "source": [
    "ds = loompy.connect(loom)\n",
    "ds"
   ]
  },
  {
   "cell_type": "code",
   "execution_count": 141,
   "id": "9c6de2e5-3613-48cd-8fe8-5830b64bd676",
   "metadata": {},
   "outputs": [],
   "source": [
    "ds.close()"
   ]
  },
  {
   "cell_type": "code",
   "execution_count": 142,
   "id": "70761907-0132-4b5d-8461-172e17f97b1b",
   "metadata": {},
   "outputs": [],
   "source": [
    "with loompy.connect(loom) as ds:\n",
    "    clusters = ds.ca['Clusters']"
   ]
  },
  {
   "cell_type": "markdown",
   "id": "c2136150-8d7e-4b4e-8e11-36bd2f7b04dd",
   "metadata": {},
   "source": [
    "# Look at the combined hypothalamus I combined to verify the 461 clusters"
   ]
  },
  {
   "cell_type": "code",
   "execution_count": 155,
   "id": "1e57fd7f-4389-4d18-96d5-fd88069c718b",
   "metadata": {},
   "outputs": [],
   "source": [
    "loom = '/lustre/orion/syb111/proj-shared/Projects/scrna-seq/data/human/brain/healthy/nemo/raw/linnarson/hypo_looms/all_hypothalamus.loom'"
   ]
  },
  {
   "cell_type": "code",
   "execution_count": 156,
   "id": "2cbaa32b-660d-45ea-b2d2-51f1843423b8",
   "metadata": {},
   "outputs": [
    {
     "data": {
      "text/html": [
       "<p>59480 rows, 134471 columns, 1 layer<br/>(showing up to 10x10)<br/>/lustre/orion/syb111/proj-shared/Projects/scrna-seq/data/human/brain/healthy/nemo/raw/linnarson/hypo_looms/all_hypothalamus.loom<br/>name: <em>20240402T234441.166192Z</em><br/>name: <em>3.0.0</em><br/><table><tr><td>&nbsp;</td><td>&nbsp;</td><td>&nbsp;</td><td><strong>Age</strong></td><td>42.0</td><td>42.0</td><td>42.0</td><td>42.0</td><td>42.0</td><td>42.0</td><td>42.0</td><td>42.0</td><td>42.0</td><td>42.0</td><td>...</td></tr><tr><td>&nbsp;</td><td>&nbsp;</td><td>&nbsp;</td><td><strong>CellCycle</strong></td><td>0.0009416195856873823</td><td>0.0</td><td>0.0016556291390728477</td><td>0.0009004952723998199</td><td>0.0</td><td>0.002124645892351275</td><td>0.0009905894006934125</td><td>0.0016926201760324982</td><td>0.0012698412698412698</td><td>0.0018467220683287165</td><td>...</td></tr><tr><td>&nbsp;</td><td>&nbsp;</td><td>&nbsp;</td><td><strong>CellID</strong></td><td>10X360_7:GTTGTAGCAAGTACCT</td><td>10X360_7:GCCAACGCAGTCTCTC</td><td>10X360_7:GTCGTTCTCCCTCTAG</td><td>10X360_7:GCCGATGGTTGCTTGA</td><td>10X360_7:CTCCCAACAACAAGTA</td><td>10X360_7:AAACGCTGTCGTAATC</td><td>10X360_7:AACCACATCAGACTGT</td><td>10X360_7:TGACTCCTCCGGACTG</td><td>10X360_7:GTGAGGATCGACATCA</td><td>10X360_7:CGGTCAGAGTAACGAT</td><td>...</td></tr><tr><td>&nbsp;</td><td>&nbsp;</td><td>&nbsp;</td><td><strong>Chemistry</strong></td><td>v3</td><td>v3</td><td>v3</td><td>v3</td><td>v3</td><td>v3</td><td>v3</td><td>v3</td><td>v3</td><td>v3</td><td>...</td></tr><tr><td>&nbsp;</td><td>&nbsp;</td><td>&nbsp;</td><td><strong>Clusters</strong></td><td>1</td><td>3</td><td>3</td><td>6</td><td>6</td><td>6</td><td>6</td><td>6</td><td>6</td><td>6</td><td>...</td></tr><tr><td>&nbsp;</td><td>&nbsp;</td><td>&nbsp;</td><td><strong>Donor</strong></td><td>H19.30.001</td><td>H19.30.001</td><td>H19.30.001</td><td>H19.30.001</td><td>H19.30.001</td><td>H19.30.001</td><td>H19.30.001</td><td>H19.30.001</td><td>H19.30.001</td><td>H19.30.001</td><td>...</td></tr><tr><td>&nbsp;</td><td>&nbsp;</td><td>&nbsp;</td><td><strong>NGenes</strong></td><td>775.0</td><td>1008.0</td><td>855.0</td><td>1407.0</td><td>961.0</td><td>997.0</td><td>1331.0</td><td>1645.0</td><td>1120.0</td><td>856.0</td><td>...</td></tr><tr><td>&nbsp;</td><td>&nbsp;</td><td>&nbsp;</td><td><strong>ROIGroupCoarse</strong></td><td>Hypothalamus</td><td>Hypothalamus</td><td>Hypothalamus</td><td>Hypothalamus</td><td>Hypothalamus</td><td>Hypothalamus</td><td>Hypothalamus</td><td>Hypothalamus</td><td>Hypothalamus</td><td>Hypothalamus</td><td>...</td></tr><tr><td>&nbsp;</td><td>&nbsp;</td><td>&nbsp;</td><td><strong>ROIGroupFine</strong></td><td>Hypothalamus</td><td>Hypothalamus</td><td>Hypothalamus</td><td>Hypothalamus</td><td>Hypothalamus</td><td>Hypothalamus</td><td>Hypothalamus</td><td>Hypothalamus</td><td>Hypothalamus</td><td>Hypothalamus</td><td>...</td></tr><tr><td>&nbsp;</td><td>&nbsp;</td><td>&nbsp;</td><td><strong>Roi</strong></td><td>HTHma-HTHtub</td><td>HTHma-HTHtub</td><td>HTHma-HTHtub</td><td>HTHma-HTHtub</td><td>HTHma-HTHtub</td><td>HTHma-HTHtub</td><td>HTHma-HTHtub</td><td>HTHma-HTHtub</td><td>HTHma-HTHtub</td><td>HTHma-HTHtub</td><td>...</td></tr><tr><td>&nbsp;</td><td>&nbsp;</td><td>&nbsp;</td><td><strong>SampleID</strong></td><td>10X360_7</td><td>10X360_7</td><td>10X360_7</td><td>10X360_7</td><td>10X360_7</td><td>10X360_7</td><td>10X360_7</td><td>10X360_7</td><td>10X360_7</td><td>10X360_7</td><td>...</td></tr><tr><td>&nbsp;</td><td>&nbsp;</td><td>&nbsp;</td><td><strong>Sex</strong></td><td>M</td><td>M</td><td>M</td><td>M</td><td>M</td><td>M</td><td>M</td><td>M</td><td>M</td><td>M</td><td>...</td></tr><tr><td>&nbsp;</td><td>&nbsp;</td><td>&nbsp;</td><td><strong>Subclusters</strong></td><td>3300</td><td>3297</td><td>3297</td><td>3270</td><td>3274</td><td>3275</td><td>3274</td><td>3270</td><td>3275</td><td>3275</td><td>...</td></tr><tr><td>&nbsp;</td><td>&nbsp;</td><td>&nbsp;</td><td><strong>Tissue</strong></td><td>Hypothalamus (HTH) - mammillary region of HTH (HTHma) - tuberal region of HTH - HTHtub</td><td>Hypothalamus (HTH) - mammillary region of HTH (HTHma) - tuberal region of HTH - HTHtub</td><td>Hypothalamus (HTH) - mammillary region of HTH (HTHma) - tuberal region of HTH - HTHtub</td><td>Hypothalamus (HTH) - mammillary region of HTH (HTHma) - tuberal region of HTH - HTHtub</td><td>Hypothalamus (HTH) - mammillary region of HTH (HTHma) - tuberal region of HTH - HTHtub</td><td>Hypothalamus (HTH) - mammillary region of HTH (HTHma) - tuberal region of HTH - HTHtub</td><td>Hypothalamus (HTH) - mammillary region of HTH (HTHma) - tuberal region of HTH - HTHtub</td><td>Hypothalamus (HTH) - mammillary region of HTH (HTHma) - tuberal region of HTH - HTHtub</td><td>Hypothalamus (HTH) - mammillary region of HTH (HTHma) - tuberal region of HTH - HTHtub</td><td>Hypothalamus (HTH) - mammillary region of HTH (HTHma) - tuberal region of HTH - HTHtub</td><td>...</td></tr><tr><td>&nbsp;</td><td>&nbsp;</td><td>&nbsp;</td><td><strong>TotalUMI</strong></td><td>1062.0</td><td>1413.0</td><td>1208.0</td><td>2221.0</td><td>1438.0</td><td>1412.0</td><td>2019.0</td><td>2954.0</td><td>1575.0</td><td>1083.0</td><td>...</td></tr><tr><td><strong>Accession</strong></td><td><strong>Gene</strong></td><td><strong>Valid</strong></td><td>&nbsp;</td><td>&nbsp;</td><td>&nbsp;</td><td>&nbsp;</td><td>&nbsp;</td><td>&nbsp;</td><td>&nbsp;</td><td>&nbsp;</td><td>&nbsp;</td><td>&nbsp;</td><td>&nbsp;</td><td>...</td></tr><tr><td>ENSG00000129910.8</td><td>CDH15</td><td>1</td><td>&nbsp;</td><td>0.0</td><td>0.0</td><td>0.0</td><td>0.0</td><td>0.0</td><td>0.0</td><td>0.0</td><td>0.0</td><td>0.0</td><td>0.0</td><td>...</td></tr><tr><td>ENSG00000259803.7</td><td>SLC22A31</td><td>1</td><td>&nbsp;</td><td>0.0</td><td>0.0</td><td>0.0</td><td>0.0</td><td>0.0</td><td>0.0</td><td>0.0</td><td>0.0</td><td>0.0</td><td>0.0</td><td>...</td></tr><tr><td>ENSG00000139899.11</td><td>CBLN3</td><td>1</td><td>&nbsp;</td><td>0.0</td><td>0.0</td><td>0.0</td><td>0.0</td><td>0.0</td><td>0.0</td><td>0.0</td><td>0.0</td><td>0.0</td><td>0.0</td><td>...</td></tr><tr><td>ENSG00000286891.1</td><td>AC080132.1</td><td>1</td><td>&nbsp;</td><td>0.0</td><td>0.0</td><td>0.0</td><td>0.0</td><td>0.0</td><td>0.0</td><td>0.0</td><td>0.0</td><td>0.0</td><td>0.0</td><td>...</td></tr><tr><td>ENSG00000132677.13</td><td>RHBG</td><td>1</td><td>&nbsp;</td><td>0.0</td><td>0.0</td><td>0.0</td><td>0.0</td><td>0.0</td><td>0.0</td><td>0.0</td><td>0.0</td><td>0.0</td><td>0.0</td><td>...</td></tr><tr><td>ENSG00000174171.6</td><td>AC020659.1</td><td>1</td><td>&nbsp;</td><td>0.0</td><td>0.0</td><td>0.0</td><td>0.0</td><td>0.0</td><td>0.0</td><td>0.0</td><td>0.0</td><td>0.0</td><td>0.0</td><td>...</td></tr><tr><td>ENSG00000287227.1</td><td>AC021698.1</td><td>1</td><td>&nbsp;</td><td>0.0</td><td>0.0</td><td>0.0</td><td>0.0</td><td>0.0</td><td>0.0</td><td>0.0</td><td>0.0</td><td>0.0</td><td>0.0</td><td>...</td></tr><tr><td>ENSG00000286097.1</td><td>AC108517.2</td><td>1</td><td>&nbsp;</td><td>0.0</td><td>0.0</td><td>0.0</td><td>0.0</td><td>0.0</td><td>0.0</td><td>0.0</td><td>0.0</td><td>0.0</td><td>0.0</td><td>...</td></tr><tr><td>ENSG00000287226.1</td><td>AC084740.1</td><td>1</td><td>&nbsp;</td><td>0.0</td><td>0.0</td><td>0.0</td><td>0.0</td><td>0.0</td><td>0.0</td><td>0.0</td><td>0.0</td><td>0.0</td><td>0.0</td><td>...</td></tr><tr><td>ENSG00000257242.8</td><td>LINC01619</td><td>1</td><td>&nbsp;</td><td>0.0</td><td>0.0</td><td>0.0</td><td>0.0</td><td>0.0</td><td>0.0</td><td>0.0</td><td>0.0</td><td>0.0</td><td>0.0</td><td>...</td></tr><tr><td>...</td><td>...</td><td>...</td><td>...</td><td>...</td><td>...</td><td>...</td><td>...</td><td>...</td><td>...</td><td>...</td><td>...</td><td>...</td><td>...</td><td>...</td></tr></table>"
      ],
      "text/plain": [
       "<loompy.loompy.LoomConnection at 0x7f145f00cf10>"
      ]
     },
     "execution_count": 156,
     "metadata": {},
     "output_type": "execute_result"
    }
   ],
   "source": [
    "ds = loompy.connect(loom)\n",
    "ds"
   ]
  },
  {
   "cell_type": "code",
   "execution_count": 157,
   "id": "df253440-8d29-4992-9b4b-183e908c3e7c",
   "metadata": {},
   "outputs": [],
   "source": [
    "ds.close()"
   ]
  },
  {
   "cell_type": "code",
   "execution_count": 158,
   "id": "14bdf530-9540-4e13-9b8e-f8f6994623b9",
   "metadata": {},
   "outputs": [],
   "source": [
    "with loompy.connect(loom) as ds:\n",
    "    clusters = ds.ca['Clusters']"
   ]
  },
  {
   "cell_type": "code",
   "execution_count": 159,
   "id": "e22f8c8f-0126-4109-85c3-d5846786691d",
   "metadata": {},
   "outputs": [
    {
     "data": {
      "text/plain": [
       "345"
      ]
     },
     "execution_count": 159,
     "metadata": {},
     "output_type": "execute_result"
    }
   ],
   "source": [
    "len(np.unique(clusters))"
   ]
  },
  {
   "cell_type": "code",
   "execution_count": 160,
   "id": "3bff60e4-33d9-4343-b968-a7c18a29f9c5",
   "metadata": {},
   "outputs": [
    {
     "data": {
      "text/plain": [
       "459"
      ]
     },
     "execution_count": 160,
     "metadata": {},
     "output_type": "execute_result"
    }
   ],
   "source": [
    "np.max(clusters)"
   ]
  },
  {
   "cell_type": "markdown",
   "id": "32b29bee-26d8-4589-891a-607cd122cd9a",
   "metadata": {},
   "source": [
    "# Kyle Pipeline"
   ]
  },
  {
   "cell_type": "code",
   "execution_count": 1,
   "id": "0a50a1c0-1b16-46b9-80cc-aff7b1073b3e",
   "metadata": {},
   "outputs": [],
   "source": [
    "import loompy\n",
    "import pandas as pd\n",
    "import numpy as np\n",
    "import matplotlib.pyplot as plt\n",
    "import seaborn as sns\n",
    "import os"
   ]
  },
  {
   "cell_type": "code",
   "execution_count": 2,
   "id": "d496126c-a451-4ed9-b388-1b1ee45d684d",
   "metadata": {},
   "outputs": [],
   "source": [
    "all_hypo_path = '/lustre/orion/syb111/proj-shared/Projects/scrna-seq/data/human/brain/healthy/nemo/raw/linnarson/hypo_looms/all_hypothalamus.loom'\n",
    "meta_path = '/lustre/orion/syb111/proj-shared/Projects/scrna-seq/data/human/brain/healthy/nemo/meta/linnarson_cluster_metadata.tsv'"
   ]
  },
  {
   "cell_type": "code",
   "execution_count": 3,
   "id": "351aae80-d8ef-4dd6-b3a8-36087bc37e0c",
   "metadata": {},
   "outputs": [],
   "source": [
    "meta = pd.read_csv(meta_path, sep='\\t', header=0, index_col=None)\n",
    "# last row is all nans\n",
    "meta = meta.iloc[:-1, :]\n",
    "meta = meta.replace(np.nan, 'NONE')"
   ]
  },
  {
   "cell_type": "code",
   "execution_count": 4,
   "id": "59e047f2-bb18-4904-8d61-8a69b6efd55b",
   "metadata": {},
   "outputs": [
    {
     "data": {
      "text/html": [
       "<div>\n",
       "<style scoped>\n",
       "    .dataframe tbody tr th:only-of-type {\n",
       "        vertical-align: middle;\n",
       "    }\n",
       "\n",
       "    .dataframe tbody tr th {\n",
       "        vertical-align: top;\n",
       "    }\n",
       "\n",
       "    .dataframe thead th {\n",
       "        text-align: right;\n",
       "    }\n",
       "</style>\n",
       "<table border=\"1\" class=\"dataframe\">\n",
       "  <thead>\n",
       "    <tr style=\"text-align: right;\">\n",
       "      <th></th>\n",
       "      <th>Cluster ID</th>\n",
       "      <th>Cluster name</th>\n",
       "      <th>Supercluster</th>\n",
       "      <th>Class auto-annotation</th>\n",
       "      <th>Neurotransmitter auto-annotation</th>\n",
       "      <th>Neuropeptide auto-annotation</th>\n",
       "      <th>Subtype auto-annotation</th>\n",
       "      <th>Transferred MTG Label</th>\n",
       "      <th>Top three regions</th>\n",
       "      <th>Top three dissections</th>\n",
       "      <th>...</th>\n",
       "      <th>DoubletFinder score</th>\n",
       "      <th>Total UMI</th>\n",
       "      <th>Fraction unspliced</th>\n",
       "      <th>Fraction mitochondrial</th>\n",
       "      <th>H19.30.002</th>\n",
       "      <th>H19.30.001</th>\n",
       "      <th>H18.30.002</th>\n",
       "      <th>H18.30.001</th>\n",
       "      <th>Fraction cells from top donor</th>\n",
       "      <th>Number of donors</th>\n",
       "    </tr>\n",
       "  </thead>\n",
       "  <tbody>\n",
       "    <tr>\n",
       "      <th>0</th>\n",
       "      <td>0.0</td>\n",
       "      <td>Bcell_0</td>\n",
       "      <td>Miscellaneous</td>\n",
       "      <td>BCELL</td>\n",
       "      <td>NONE</td>\n",
       "      <td>NONE</td>\n",
       "      <td>NONE</td>\n",
       "      <td>NONE</td>\n",
       "      <td>Midbrain: 21.0%, Basal forebrain: 19.0%, Pons:...</td>\n",
       "      <td>Human GPi: 11.4%, Human SN: 11.4%, Human SN-RN...</td>\n",
       "      <td>...</td>\n",
       "      <td>0.013358</td>\n",
       "      <td>2258.866667</td>\n",
       "      <td>0.608113</td>\n",
       "      <td>0.020989</td>\n",
       "      <td>58.0</td>\n",
       "      <td>20.0</td>\n",
       "      <td>27.0</td>\n",
       "      <td>0.0</td>\n",
       "      <td>0.552381</td>\n",
       "      <td>3.0</td>\n",
       "    </tr>\n",
       "    <tr>\n",
       "      <th>1</th>\n",
       "      <td>1.0</td>\n",
       "      <td>Tcell_1</td>\n",
       "      <td>Miscellaneous</td>\n",
       "      <td>TCELL</td>\n",
       "      <td>NONE</td>\n",
       "      <td>NONE</td>\n",
       "      <td>NONE</td>\n",
       "      <td>NONE</td>\n",
       "      <td>Midbrain: 15.0%, Basal forebrain: 14.0%, Pons:...</td>\n",
       "      <td>Human SpC: 8.2%, Human CbDN: 7.6%, Human SN: 7.4%</td>\n",
       "      <td>...</td>\n",
       "      <td>0.022371</td>\n",
       "      <td>2184.314470</td>\n",
       "      <td>0.582884</td>\n",
       "      <td>0.021212</td>\n",
       "      <td>708.0</td>\n",
       "      <td>400.0</td>\n",
       "      <td>1364.0</td>\n",
       "      <td>2.0</td>\n",
       "      <td>0.551334</td>\n",
       "      <td>4.0</td>\n",
       "    </tr>\n",
       "    <tr>\n",
       "      <th>2</th>\n",
       "      <td>2.0</td>\n",
       "      <td>Nkcell_2</td>\n",
       "      <td>Miscellaneous</td>\n",
       "      <td>NK</td>\n",
       "      <td>NONE</td>\n",
       "      <td>NONE</td>\n",
       "      <td>NONE</td>\n",
       "      <td>NONE</td>\n",
       "      <td>Thalamus: 17.6%, Cerebral cortex: 15.5%, Basal...</td>\n",
       "      <td>Human GPe: 5.7%, Human GPi: 5.5%, Human CbDN: ...</td>\n",
       "      <td>...</td>\n",
       "      <td>0.023788</td>\n",
       "      <td>2263.348733</td>\n",
       "      <td>0.558228</td>\n",
       "      <td>0.020093</td>\n",
       "      <td>245.0</td>\n",
       "      <td>126.0</td>\n",
       "      <td>300.0</td>\n",
       "      <td>0.0</td>\n",
       "      <td>0.447094</td>\n",
       "      <td>3.0</td>\n",
       "    </tr>\n",
       "    <tr>\n",
       "      <th>3</th>\n",
       "      <td>3.0</td>\n",
       "      <td>Mono_3</td>\n",
       "      <td>Miscellaneous</td>\n",
       "      <td>MONO</td>\n",
       "      <td>NONE</td>\n",
       "      <td>NAMPT</td>\n",
       "      <td>NONE</td>\n",
       "      <td>NONE</td>\n",
       "      <td>Thalamus: 21.9%, Pons: 16.1%, Basal forebrain:...</td>\n",
       "      <td>Human PnEN: 8.9%, Human MoAN: 6.6%, Human PnRF...</td>\n",
       "      <td>...</td>\n",
       "      <td>0.033228</td>\n",
       "      <td>2407.775348</td>\n",
       "      <td>0.569642</td>\n",
       "      <td>0.051117</td>\n",
       "      <td>195.0</td>\n",
       "      <td>112.0</td>\n",
       "      <td>196.0</td>\n",
       "      <td>0.0</td>\n",
       "      <td>0.389662</td>\n",
       "      <td>3.0</td>\n",
       "    </tr>\n",
       "    <tr>\n",
       "      <th>4</th>\n",
       "      <td>4.0</td>\n",
       "      <td>Mgl_4</td>\n",
       "      <td>Microglia</td>\n",
       "      <td>MGL</td>\n",
       "      <td>NONE</td>\n",
       "      <td>NAMPT</td>\n",
       "      <td>NONE</td>\n",
       "      <td>Micro-PVM</td>\n",
       "      <td>Spinal cord: 31.8%, Pons: 26.0%, Medulla: 13.2%</td>\n",
       "      <td>Human SpC: 31.8%, Human MN: 11.5%, Human PnEN:...</td>\n",
       "      <td>...</td>\n",
       "      <td>0.013653</td>\n",
       "      <td>2439.644295</td>\n",
       "      <td>0.672263</td>\n",
       "      <td>0.005221</td>\n",
       "      <td>176.0</td>\n",
       "      <td>135.0</td>\n",
       "      <td>434.0</td>\n",
       "      <td>0.0</td>\n",
       "      <td>0.582550</td>\n",
       "      <td>3.0</td>\n",
       "    </tr>\n",
       "    <tr>\n",
       "      <th>...</th>\n",
       "      <td>...</td>\n",
       "      <td>...</td>\n",
       "      <td>...</td>\n",
       "      <td>...</td>\n",
       "      <td>...</td>\n",
       "      <td>...</td>\n",
       "      <td>...</td>\n",
       "      <td>...</td>\n",
       "      <td>...</td>\n",
       "      <td>...</td>\n",
       "      <td>...</td>\n",
       "      <td>...</td>\n",
       "      <td>...</td>\n",
       "      <td>...</td>\n",
       "      <td>...</td>\n",
       "      <td>...</td>\n",
       "      <td>...</td>\n",
       "      <td>...</td>\n",
       "      <td>...</td>\n",
       "      <td>...</td>\n",
       "      <td>...</td>\n",
       "    </tr>\n",
       "    <tr>\n",
       "      <th>456</th>\n",
       "      <td>456.0</td>\n",
       "      <td>Thex_456</td>\n",
       "      <td>Thalamic excitatory</td>\n",
       "      <td>NEUR</td>\n",
       "      <td>VGLUT2</td>\n",
       "      <td>ADCYAP CART CBLN CCK CHGA CHGB CRH NAMPT NUCB ...</td>\n",
       "      <td>NONE</td>\n",
       "      <td>NONE</td>\n",
       "      <td>Thalamus: 99.8%, Hippocampus: 0.2%, Cerebral c...</td>\n",
       "      <td>Human LG: 92.5%, Human Pul: 3.7%, Human MG: 2.0%</td>\n",
       "      <td>...</td>\n",
       "      <td>0.048133</td>\n",
       "      <td>18287.550098</td>\n",
       "      <td>0.721453</td>\n",
       "      <td>0.013957</td>\n",
       "      <td>115.0</td>\n",
       "      <td>239.0</td>\n",
       "      <td>155.0</td>\n",
       "      <td>0.0</td>\n",
       "      <td>0.469548</td>\n",
       "      <td>3.0</td>\n",
       "    </tr>\n",
       "    <tr>\n",
       "      <th>457</th>\n",
       "      <td>457.0</td>\n",
       "      <td>Thex_457</td>\n",
       "      <td>Thalamic excitatory</td>\n",
       "      <td>NEUR</td>\n",
       "      <td>VGLUT2</td>\n",
       "      <td>ADCYAP CART CHGA CHGB CRH NAMPT NMU NTS NUCB N...</td>\n",
       "      <td>NONE</td>\n",
       "      <td>NONE</td>\n",
       "      <td>Thalamus: 98.3%, Amygdala: 1.4%, Cerebral cort...</td>\n",
       "      <td>Human ANC: 93.9%, Human ETH: 1.7%, Human BNST:...</td>\n",
       "      <td>...</td>\n",
       "      <td>0.047489</td>\n",
       "      <td>55944.577703</td>\n",
       "      <td>0.750655</td>\n",
       "      <td>0.017966</td>\n",
       "      <td>5.0</td>\n",
       "      <td>19.0</td>\n",
       "      <td>271.0</td>\n",
       "      <td>1.0</td>\n",
       "      <td>0.915541</td>\n",
       "      <td>4.0</td>\n",
       "    </tr>\n",
       "    <tr>\n",
       "      <th>458</th>\n",
       "      <td>458.0</td>\n",
       "      <td>Thex_458</td>\n",
       "      <td>Thalamic excitatory</td>\n",
       "      <td>NEUR</td>\n",
       "      <td>VGLUT2</td>\n",
       "      <td>ADCYAP ADM CART CBLN CCK CHGA CHGB CRH GAL NAM...</td>\n",
       "      <td>NONE</td>\n",
       "      <td>NONE</td>\n",
       "      <td>Thalamus: 93.6%, Midbrain: 6.4%, Amygdala: 0.0%</td>\n",
       "      <td>Human ETH: 22.6%, Human MD: 19.4%, Human ANC: ...</td>\n",
       "      <td>...</td>\n",
       "      <td>0.055089</td>\n",
       "      <td>50532.688818</td>\n",
       "      <td>0.694875</td>\n",
       "      <td>0.020041</td>\n",
       "      <td>1786.0</td>\n",
       "      <td>3097.0</td>\n",
       "      <td>2611.0</td>\n",
       "      <td>0.0</td>\n",
       "      <td>0.413264</td>\n",
       "      <td>3.0</td>\n",
       "    </tr>\n",
       "    <tr>\n",
       "      <th>459</th>\n",
       "      <td>459.0</td>\n",
       "      <td>Thex_459</td>\n",
       "      <td>Thalamic excitatory</td>\n",
       "      <td>NEUR</td>\n",
       "      <td>VGLUT2</td>\n",
       "      <td>ADCYAP CBLN CCK CHGA CHGB NAMPT NMU NTS NUCB N...</td>\n",
       "      <td>NONE</td>\n",
       "      <td>NONE</td>\n",
       "      <td>Thalamus: 89.9%, Amygdala: 9.2%, Midbrain: 0.6%</td>\n",
       "      <td>Human MD: 26.0%, Human CM-Pf: 20.8%, Human ANC...</td>\n",
       "      <td>...</td>\n",
       "      <td>0.068357</td>\n",
       "      <td>48031.598402</td>\n",
       "      <td>0.692641</td>\n",
       "      <td>0.022784</td>\n",
       "      <td>2111.0</td>\n",
       "      <td>1471.0</td>\n",
       "      <td>919.0</td>\n",
       "      <td>6.0</td>\n",
       "      <td>0.468383</td>\n",
       "      <td>4.0</td>\n",
       "    </tr>\n",
       "    <tr>\n",
       "      <th>460</th>\n",
       "      <td>460.0</td>\n",
       "      <td>Thex_460</td>\n",
       "      <td>Thalamic excitatory</td>\n",
       "      <td>NEUR</td>\n",
       "      <td>VGLUT2</td>\n",
       "      <td>ADCYAP ADM CBLN CCK CHGA CHGB GAL NAMPT NMU NU...</td>\n",
       "      <td>NONE</td>\n",
       "      <td>NONE</td>\n",
       "      <td>Thalamus: 98.9%, Midbrain: 0.9%, Cerebral cort...</td>\n",
       "      <td>Human CM-Pf: 41.9%, Human CM: 30.5%, Human ETH...</td>\n",
       "      <td>...</td>\n",
       "      <td>0.076589</td>\n",
       "      <td>65944.753484</td>\n",
       "      <td>0.749541</td>\n",
       "      <td>0.023523</td>\n",
       "      <td>979.0</td>\n",
       "      <td>3055.0</td>\n",
       "      <td>3059.0</td>\n",
       "      <td>10.0</td>\n",
       "      <td>0.430663</td>\n",
       "      <td>4.0</td>\n",
       "    </tr>\n",
       "  </tbody>\n",
       "</table>\n",
       "<p>461 rows × 22 columns</p>\n",
       "</div>"
      ],
      "text/plain": [
       "     Cluster ID Cluster name         Supercluster Class auto-annotation  \\\n",
       "0           0.0      Bcell_0        Miscellaneous                 BCELL   \n",
       "1           1.0      Tcell_1        Miscellaneous                 TCELL   \n",
       "2           2.0     Nkcell_2        Miscellaneous                    NK   \n",
       "3           3.0       Mono_3        Miscellaneous                  MONO   \n",
       "4           4.0        Mgl_4            Microglia                   MGL   \n",
       "..          ...          ...                  ...                   ...   \n",
       "456       456.0     Thex_456  Thalamic excitatory                  NEUR   \n",
       "457       457.0     Thex_457  Thalamic excitatory                  NEUR   \n",
       "458       458.0     Thex_458  Thalamic excitatory                  NEUR   \n",
       "459       459.0     Thex_459  Thalamic excitatory                  NEUR   \n",
       "460       460.0     Thex_460  Thalamic excitatory                  NEUR   \n",
       "\n",
       "    Neurotransmitter auto-annotation  \\\n",
       "0                               NONE   \n",
       "1                               NONE   \n",
       "2                               NONE   \n",
       "3                               NONE   \n",
       "4                               NONE   \n",
       "..                               ...   \n",
       "456                           VGLUT2   \n",
       "457                           VGLUT2   \n",
       "458                           VGLUT2   \n",
       "459                           VGLUT2   \n",
       "460                           VGLUT2   \n",
       "\n",
       "                          Neuropeptide auto-annotation  \\\n",
       "0                                                 NONE   \n",
       "1                                                 NONE   \n",
       "2                                                 NONE   \n",
       "3                                                NAMPT   \n",
       "4                                                NAMPT   \n",
       "..                                                 ...   \n",
       "456  ADCYAP CART CBLN CCK CHGA CHGB CRH NAMPT NUCB ...   \n",
       "457  ADCYAP CART CHGA CHGB CRH NAMPT NMU NTS NUCB N...   \n",
       "458  ADCYAP ADM CART CBLN CCK CHGA CHGB CRH GAL NAM...   \n",
       "459  ADCYAP CBLN CCK CHGA CHGB NAMPT NMU NTS NUCB N...   \n",
       "460  ADCYAP ADM CBLN CCK CHGA CHGB GAL NAMPT NMU NU...   \n",
       "\n",
       "    Subtype auto-annotation Transferred MTG Label  \\\n",
       "0                      NONE                  NONE   \n",
       "1                      NONE                  NONE   \n",
       "2                      NONE                  NONE   \n",
       "3                      NONE                  NONE   \n",
       "4                      NONE             Micro-PVM   \n",
       "..                      ...                   ...   \n",
       "456                    NONE                  NONE   \n",
       "457                    NONE                  NONE   \n",
       "458                    NONE                  NONE   \n",
       "459                    NONE                  NONE   \n",
       "460                    NONE                  NONE   \n",
       "\n",
       "                                     Top three regions  \\\n",
       "0    Midbrain: 21.0%, Basal forebrain: 19.0%, Pons:...   \n",
       "1    Midbrain: 15.0%, Basal forebrain: 14.0%, Pons:...   \n",
       "2    Thalamus: 17.6%, Cerebral cortex: 15.5%, Basal...   \n",
       "3    Thalamus: 21.9%, Pons: 16.1%, Basal forebrain:...   \n",
       "4      Spinal cord: 31.8%, Pons: 26.0%, Medulla: 13.2%   \n",
       "..                                                 ...   \n",
       "456  Thalamus: 99.8%, Hippocampus: 0.2%, Cerebral c...   \n",
       "457  Thalamus: 98.3%, Amygdala: 1.4%, Cerebral cort...   \n",
       "458    Thalamus: 93.6%, Midbrain: 6.4%, Amygdala: 0.0%   \n",
       "459    Thalamus: 89.9%, Amygdala: 9.2%, Midbrain: 0.6%   \n",
       "460  Thalamus: 98.9%, Midbrain: 0.9%, Cerebral cort...   \n",
       "\n",
       "                                 Top three dissections  ...  \\\n",
       "0    Human GPi: 11.4%, Human SN: 11.4%, Human SN-RN...  ...   \n",
       "1    Human SpC: 8.2%, Human CbDN: 7.6%, Human SN: 7.4%  ...   \n",
       "2    Human GPe: 5.7%, Human GPi: 5.5%, Human CbDN: ...  ...   \n",
       "3    Human PnEN: 8.9%, Human MoAN: 6.6%, Human PnRF...  ...   \n",
       "4    Human SpC: 31.8%, Human MN: 11.5%, Human PnEN:...  ...   \n",
       "..                                                 ...  ...   \n",
       "456   Human LG: 92.5%, Human Pul: 3.7%, Human MG: 2.0%  ...   \n",
       "457  Human ANC: 93.9%, Human ETH: 1.7%, Human BNST:...  ...   \n",
       "458  Human ETH: 22.6%, Human MD: 19.4%, Human ANC: ...  ...   \n",
       "459  Human MD: 26.0%, Human CM-Pf: 20.8%, Human ANC...  ...   \n",
       "460  Human CM-Pf: 41.9%, Human CM: 30.5%, Human ETH...  ...   \n",
       "\n",
       "    DoubletFinder score     Total UMI  Fraction unspliced  \\\n",
       "0              0.013358   2258.866667            0.608113   \n",
       "1              0.022371   2184.314470            0.582884   \n",
       "2              0.023788   2263.348733            0.558228   \n",
       "3              0.033228   2407.775348            0.569642   \n",
       "4              0.013653   2439.644295            0.672263   \n",
       "..                  ...           ...                 ...   \n",
       "456            0.048133  18287.550098            0.721453   \n",
       "457            0.047489  55944.577703            0.750655   \n",
       "458            0.055089  50532.688818            0.694875   \n",
       "459            0.068357  48031.598402            0.692641   \n",
       "460            0.076589  65944.753484            0.749541   \n",
       "\n",
       "     Fraction mitochondrial  H19.30.002  H19.30.001  H18.30.002  H18.30.001  \\\n",
       "0                  0.020989        58.0        20.0        27.0         0.0   \n",
       "1                  0.021212       708.0       400.0      1364.0         2.0   \n",
       "2                  0.020093       245.0       126.0       300.0         0.0   \n",
       "3                  0.051117       195.0       112.0       196.0         0.0   \n",
       "4                  0.005221       176.0       135.0       434.0         0.0   \n",
       "..                      ...         ...         ...         ...         ...   \n",
       "456                0.013957       115.0       239.0       155.0         0.0   \n",
       "457                0.017966         5.0        19.0       271.0         1.0   \n",
       "458                0.020041      1786.0      3097.0      2611.0         0.0   \n",
       "459                0.022784      2111.0      1471.0       919.0         6.0   \n",
       "460                0.023523       979.0      3055.0      3059.0        10.0   \n",
       "\n",
       "     Fraction cells from top donor  Number of donors  \n",
       "0                         0.552381               3.0  \n",
       "1                         0.551334               4.0  \n",
       "2                         0.447094               3.0  \n",
       "3                         0.389662               3.0  \n",
       "4                         0.582550               3.0  \n",
       "..                             ...               ...  \n",
       "456                       0.469548               3.0  \n",
       "457                       0.915541               4.0  \n",
       "458                       0.413264               3.0  \n",
       "459                       0.468383               4.0  \n",
       "460                       0.430663               4.0  \n",
       "\n",
       "[461 rows x 22 columns]"
      ]
     },
     "execution_count": 4,
     "metadata": {},
     "output_type": "execute_result"
    }
   ],
   "source": [
    "meta"
   ]
  },
  {
   "cell_type": "code",
   "execution_count": 5,
   "id": "d1017c9d-c8e5-4290-94c5-9ba06cbc254d",
   "metadata": {},
   "outputs": [
    {
     "name": "stdout",
     "output_type": "stream",
     "text": [
      "ASTRO: 14\n",
      "BCELL: 1\n",
      "CHRP: 8\n",
      "CHRP ENDO: 1\n",
      "CHRP EPEN: 4\n",
      "CHRP EPEN NEUR: 1\n",
      "CHRP EPEN OLIGO: 1\n",
      "CHRP NEUR: 1\n",
      "ENDO: 5\n",
      "ENDO VSMC: 1\n",
      "EPEN: 6\n",
      "FIB: 5\n",
      "MAC: 1\n",
      "MGL: 8\n",
      "MONO: 1\n",
      "NEUR: 361\n",
      "NK: 1\n",
      "NONE: 18\n",
      "OLIGO: 14\n",
      "OPC: 5\n",
      "PER: 2\n",
      "TCELL: 1\n",
      "VSMC: 1\n"
     ]
    }
   ],
   "source": [
    "celltypes = meta.loc[:, 'Class auto-annotation'].values\n",
    "uniq_cts, ct_counts = np.unique(celltypes, return_counts=True)\n",
    "for i, uniq_ct in enumerate(uniq_cts):\n",
    "    print(f'{uniq_ct}: {ct_counts[i]}')"
   ]
  },
  {
   "cell_type": "markdown",
   "id": "0328380a-7d86-4b33-a192-4af1109349c5",
   "metadata": {},
   "source": [
    "### Subset 461 clusters to 383 auto-annotation clusters\n",
    "Keep neuronal clusters ('NEUR') separated, collapse all others"
   ]
  },
  {
   "cell_type": "code",
   "execution_count": 6,
   "id": "1e385b82-7b90-4490-ba29-6834b5dcd25f",
   "metadata": {},
   "outputs": [],
   "source": [
    "peptides = meta.loc[:, 'Neuropeptide auto-annotation'].values"
   ]
  },
  {
   "cell_type": "code",
   "execution_count": 7,
   "id": "3e07b38a-c8d4-4295-ae1c-bb8afe0e800b",
   "metadata": {},
   "outputs": [],
   "source": [
    "new_clusters = []\n",
    "cluster_check = {}\n",
    "peptide_check = {}\n",
    "cluster_num = 0\n",
    "for i, ct in enumerate(celltypes):\n",
    "    if ct == 'NEUR':\n",
    "        peptide = peptides[i]\n",
    "        if peptide in peptide_check.keys():\n",
    "            new_clusters.append(peptide_check[peptide])\n",
    "        else:\n",
    "            peptide_check[peptide] = cluster_num\n",
    "            new_clusters.append(cluster_num)\n",
    "            cluster_num += 1\n",
    "        continue\n",
    "    if ct in cluster_check.keys():\n",
    "        new_clusters.append(cluster_check[ct])\n",
    "    else:\n",
    "        cluster_check[ct] = cluster_num\n",
    "        new_clusters.append(cluster_check[ct])\n",
    "        cluster_num += 1"
   ]
  },
  {
   "cell_type": "code",
   "execution_count": 8,
   "id": "78d48a24-86ea-41ff-9b54-5c0a76df5187",
   "metadata": {},
   "outputs": [],
   "source": [
    "meta.loc[:, 'auto_annotation_clusters'] = new_clusters"
   ]
  },
  {
   "cell_type": "code",
   "execution_count": 9,
   "id": "b3df8311-de10-495e-9202-0a8a61cbad00",
   "metadata": {},
   "outputs": [
    {
     "data": {
      "text/html": [
       "<div>\n",
       "<style scoped>\n",
       "    .dataframe tbody tr th:only-of-type {\n",
       "        vertical-align: middle;\n",
       "    }\n",
       "\n",
       "    .dataframe tbody tr th {\n",
       "        vertical-align: top;\n",
       "    }\n",
       "\n",
       "    .dataframe thead th {\n",
       "        text-align: right;\n",
       "    }\n",
       "</style>\n",
       "<table border=\"1\" class=\"dataframe\">\n",
       "  <thead>\n",
       "    <tr style=\"text-align: right;\">\n",
       "      <th></th>\n",
       "      <th>Cluster ID</th>\n",
       "      <th>Cluster name</th>\n",
       "      <th>Supercluster</th>\n",
       "      <th>Class auto-annotation</th>\n",
       "      <th>Neurotransmitter auto-annotation</th>\n",
       "      <th>Neuropeptide auto-annotation</th>\n",
       "      <th>Subtype auto-annotation</th>\n",
       "      <th>Transferred MTG Label</th>\n",
       "      <th>Top three regions</th>\n",
       "      <th>Top three dissections</th>\n",
       "      <th>...</th>\n",
       "      <th>Total UMI</th>\n",
       "      <th>Fraction unspliced</th>\n",
       "      <th>Fraction mitochondrial</th>\n",
       "      <th>H19.30.002</th>\n",
       "      <th>H19.30.001</th>\n",
       "      <th>H18.30.002</th>\n",
       "      <th>H18.30.001</th>\n",
       "      <th>Fraction cells from top donor</th>\n",
       "      <th>Number of donors</th>\n",
       "      <th>auto_annotation_clusters</th>\n",
       "    </tr>\n",
       "  </thead>\n",
       "  <tbody>\n",
       "    <tr>\n",
       "      <th>209</th>\n",
       "      <td>209.0</td>\n",
       "      <td>MSN_209</td>\n",
       "      <td>Medium spiny neuron</td>\n",
       "      <td>NEUR</td>\n",
       "      <td>GABA</td>\n",
       "      <td>CHGB NAMPT NUCB PDYN PENK SCG TAC UBL UCN VGF ...</td>\n",
       "      <td>MSN-D1</td>\n",
       "      <td>NONE</td>\n",
       "      <td>Basal forebrain: 96.3%, Thalamus: 2.9%, Amygda...</td>\n",
       "      <td>Human CaB: 77.9%, Human Pu: 8.2%, Human NAC: 5.1%</td>\n",
       "      <td>...</td>\n",
       "      <td>32444.176337</td>\n",
       "      <td>0.721736</td>\n",
       "      <td>0.005888</td>\n",
       "      <td>3849.0</td>\n",
       "      <td>3816.0</td>\n",
       "      <td>3745.0</td>\n",
       "      <td>0.0</td>\n",
       "      <td>0.337336</td>\n",
       "      <td>3.0</td>\n",
       "      <td>100</td>\n",
       "    </tr>\n",
       "    <tr>\n",
       "      <th>211</th>\n",
       "      <td>211.0</td>\n",
       "      <td>MSN_211</td>\n",
       "      <td>Medium spiny neuron</td>\n",
       "      <td>NEUR</td>\n",
       "      <td>GABA</td>\n",
       "      <td>CHGB NAMPT NUCB PDYN PENK SCG TAC UBL UCN VGF ...</td>\n",
       "      <td>MSN-D1</td>\n",
       "      <td>NONE</td>\n",
       "      <td>Basal forebrain: 85.7%, Amygdala: 6.3%, Cerebr...</td>\n",
       "      <td>Human CaB: 26.7%, Human NAC: 18.8%, Human Pu: ...</td>\n",
       "      <td>...</td>\n",
       "      <td>30213.506214</td>\n",
       "      <td>0.728274</td>\n",
       "      <td>0.004777</td>\n",
       "      <td>2484.0</td>\n",
       "      <td>3640.0</td>\n",
       "      <td>2969.0</td>\n",
       "      <td>0.0</td>\n",
       "      <td>0.400308</td>\n",
       "      <td>3.0</td>\n",
       "      <td>100</td>\n",
       "    </tr>\n",
       "  </tbody>\n",
       "</table>\n",
       "<p>2 rows × 23 columns</p>\n",
       "</div>"
      ],
      "text/plain": [
       "     Cluster ID Cluster name         Supercluster Class auto-annotation  \\\n",
       "209       209.0      MSN_209  Medium spiny neuron                  NEUR   \n",
       "211       211.0      MSN_211  Medium spiny neuron                  NEUR   \n",
       "\n",
       "    Neurotransmitter auto-annotation  \\\n",
       "209                             GABA   \n",
       "211                             GABA   \n",
       "\n",
       "                          Neuropeptide auto-annotation  \\\n",
       "209  CHGB NAMPT NUCB PDYN PENK SCG TAC UBL UCN VGF ...   \n",
       "211  CHGB NAMPT NUCB PDYN PENK SCG TAC UBL UCN VGF ...   \n",
       "\n",
       "    Subtype auto-annotation Transferred MTG Label  \\\n",
       "209                  MSN-D1                  NONE   \n",
       "211                  MSN-D1                  NONE   \n",
       "\n",
       "                                     Top three regions  \\\n",
       "209  Basal forebrain: 96.3%, Thalamus: 2.9%, Amygda...   \n",
       "211  Basal forebrain: 85.7%, Amygdala: 6.3%, Cerebr...   \n",
       "\n",
       "                                 Top three dissections  ...     Total UMI  \\\n",
       "209  Human CaB: 77.9%, Human Pu: 8.2%, Human NAC: 5.1%  ...  32444.176337   \n",
       "211  Human CaB: 26.7%, Human NAC: 18.8%, Human Pu: ...  ...  30213.506214   \n",
       "\n",
       "     Fraction unspliced  Fraction mitochondrial  H19.30.002  H19.30.001  \\\n",
       "209            0.721736                0.005888      3849.0      3816.0   \n",
       "211            0.728274                0.004777      2484.0      3640.0   \n",
       "\n",
       "     H18.30.002  H18.30.001  Fraction cells from top donor  Number of donors  \\\n",
       "209      3745.0         0.0                       0.337336               3.0   \n",
       "211      2969.0         0.0                       0.400308               3.0   \n",
       "\n",
       "     auto_annotation_clusters  \n",
       "209                       100  \n",
       "211                       100  \n",
       "\n",
       "[2 rows x 23 columns]"
      ]
     },
     "execution_count": 9,
     "metadata": {},
     "output_type": "execute_result"
    }
   ],
   "source": [
    "meta.loc[meta.loc[:, 'auto_annotation_clusters'] == 100, :]"
   ]
  },
  {
   "cell_type": "code",
   "execution_count": 10,
   "id": "cbffc157-f1f4-4a1e-b19d-321f21e71a7f",
   "metadata": {},
   "outputs": [
    {
     "data": {
      "text/plain": [
       "305"
      ]
     },
     "execution_count": 10,
     "metadata": {},
     "output_type": "execute_result"
    }
   ],
   "source": [
    "len(np.unique(meta.loc[:, 'auto_annotation_clusters']))"
   ]
  },
  {
   "cell_type": "markdown",
   "id": "4b474338-339d-49bb-840a-7b3a690c1e04",
   "metadata": {},
   "source": [
    "### Neuropeptide heatmaps"
   ]
  },
  {
   "cell_type": "code",
   "execution_count": 45,
   "id": "babaf008-ac8a-4fb9-a21d-15eea2ec5b35",
   "metadata": {},
   "outputs": [],
   "source": [
    "# note: omitted duplicatesn\n",
    "# kx2-1 from arc\n",
    "# sim1 from pvh\n",
    "# lhx1 from scn\n",
    "herb_genes = {'ARC': ['GLP1R', 'TBX3', 'POMC', 'ISL1', 'CRABP1', 'AGRP', 'KISS1', 'LEPR', 'GHRH', 'GSX1', 'HMX2', 'PGR', 'ESR1', 'LEF1'],\n",
    "              'TM': ['HDC'],\n",
    "              'PVH': ['POU3F2', 'OXT', 'CRH', 'AVP', 'NHLH2', 'MC4R', 'PRDM8'],\n",
    "              'VMH': ['NR5A1', 'FEZF1', 'GABRA5', 'NPTX2', 'SOX14', 'NKX2-1'],\n",
    "              'MN': ['PITX2', 'FOXB1', 'LHX1', 'SIM1', 'FEZF2'],\n",
    "              'SMN': ['FOXA1', 'IRX3', 'IRX5', 'BARHL1', 'NR4A2', 'LMX1A', 'FOXP2', 'EBF1', 'TAC1'],\n",
    "              'SCN': ['RGS16', 'SIX3', 'SIX6', 'VAX1', 'VIP', 'CCK'],\n",
    "              'LH': ['LHX2', 'LHX9', 'PDYN', 'CARTPT', 'HCRT', 'PMCH', 'RFX4'],\n",
    "              'PO': ['RELN', 'ARX', 'LHX6', 'NFIX', 'SOX6'],\n",
    "              'DMH': ['LHX8', 'PPP1R17', 'GPR50'],\n",
    "              'ZI': ['MEIS2']}"
   ]
  },
  {
   "cell_type": "code",
   "execution_count": 12,
   "id": "c58d76df-ef3e-4824-a5ac-dd625e78c8ed",
   "metadata": {},
   "outputs": [
    {
     "data": {
      "text/html": [
       "<p>59480 rows, 134471 columns, 1 layer<br/>(showing up to 10x10)<br/>/lustre/orion/syb111/proj-shared/Projects/scrna-seq/data/human/brain/healthy/nemo/raw/linnarson/hypo_looms/all_hypothalamus.loom<br/>name: <em>20240402T234441.166192Z</em><br/>name: <em>3.0.0</em><br/><table><tr><td>&nbsp;</td><td>&nbsp;</td><td>&nbsp;</td><td><strong>Age</strong></td><td>42.0</td><td>42.0</td><td>42.0</td><td>42.0</td><td>42.0</td><td>42.0</td><td>42.0</td><td>42.0</td><td>42.0</td><td>42.0</td><td>...</td></tr><tr><td>&nbsp;</td><td>&nbsp;</td><td>&nbsp;</td><td><strong>CellCycle</strong></td><td>0.0009416195856873823</td><td>0.0</td><td>0.0016556291390728477</td><td>0.0009004952723998199</td><td>0.0</td><td>0.002124645892351275</td><td>0.0009905894006934125</td><td>0.0016926201760324982</td><td>0.0012698412698412698</td><td>0.0018467220683287165</td><td>...</td></tr><tr><td>&nbsp;</td><td>&nbsp;</td><td>&nbsp;</td><td><strong>CellID</strong></td><td>10X360_7:GTTGTAGCAAGTACCT</td><td>10X360_7:GCCAACGCAGTCTCTC</td><td>10X360_7:GTCGTTCTCCCTCTAG</td><td>10X360_7:GCCGATGGTTGCTTGA</td><td>10X360_7:CTCCCAACAACAAGTA</td><td>10X360_7:AAACGCTGTCGTAATC</td><td>10X360_7:AACCACATCAGACTGT</td><td>10X360_7:TGACTCCTCCGGACTG</td><td>10X360_7:GTGAGGATCGACATCA</td><td>10X360_7:CGGTCAGAGTAACGAT</td><td>...</td></tr><tr><td>&nbsp;</td><td>&nbsp;</td><td>&nbsp;</td><td><strong>Chemistry</strong></td><td>v3</td><td>v3</td><td>v3</td><td>v3</td><td>v3</td><td>v3</td><td>v3</td><td>v3</td><td>v3</td><td>v3</td><td>...</td></tr><tr><td>&nbsp;</td><td>&nbsp;</td><td>&nbsp;</td><td><strong>Clusters</strong></td><td>1</td><td>3</td><td>3</td><td>6</td><td>6</td><td>6</td><td>6</td><td>6</td><td>6</td><td>6</td><td>...</td></tr><tr><td>&nbsp;</td><td>&nbsp;</td><td>&nbsp;</td><td><strong>Donor</strong></td><td>H19.30.001</td><td>H19.30.001</td><td>H19.30.001</td><td>H19.30.001</td><td>H19.30.001</td><td>H19.30.001</td><td>H19.30.001</td><td>H19.30.001</td><td>H19.30.001</td><td>H19.30.001</td><td>...</td></tr><tr><td>&nbsp;</td><td>&nbsp;</td><td>&nbsp;</td><td><strong>NGenes</strong></td><td>775.0</td><td>1008.0</td><td>855.0</td><td>1407.0</td><td>961.0</td><td>997.0</td><td>1331.0</td><td>1645.0</td><td>1120.0</td><td>856.0</td><td>...</td></tr><tr><td>&nbsp;</td><td>&nbsp;</td><td>&nbsp;</td><td><strong>ROIGroupCoarse</strong></td><td>Hypothalamus</td><td>Hypothalamus</td><td>Hypothalamus</td><td>Hypothalamus</td><td>Hypothalamus</td><td>Hypothalamus</td><td>Hypothalamus</td><td>Hypothalamus</td><td>Hypothalamus</td><td>Hypothalamus</td><td>...</td></tr><tr><td>&nbsp;</td><td>&nbsp;</td><td>&nbsp;</td><td><strong>ROIGroupFine</strong></td><td>Hypothalamus</td><td>Hypothalamus</td><td>Hypothalamus</td><td>Hypothalamus</td><td>Hypothalamus</td><td>Hypothalamus</td><td>Hypothalamus</td><td>Hypothalamus</td><td>Hypothalamus</td><td>Hypothalamus</td><td>...</td></tr><tr><td>&nbsp;</td><td>&nbsp;</td><td>&nbsp;</td><td><strong>Roi</strong></td><td>HTHma-HTHtub</td><td>HTHma-HTHtub</td><td>HTHma-HTHtub</td><td>HTHma-HTHtub</td><td>HTHma-HTHtub</td><td>HTHma-HTHtub</td><td>HTHma-HTHtub</td><td>HTHma-HTHtub</td><td>HTHma-HTHtub</td><td>HTHma-HTHtub</td><td>...</td></tr><tr><td>&nbsp;</td><td>&nbsp;</td><td>&nbsp;</td><td><strong>SampleID</strong></td><td>10X360_7</td><td>10X360_7</td><td>10X360_7</td><td>10X360_7</td><td>10X360_7</td><td>10X360_7</td><td>10X360_7</td><td>10X360_7</td><td>10X360_7</td><td>10X360_7</td><td>...</td></tr><tr><td>&nbsp;</td><td>&nbsp;</td><td>&nbsp;</td><td><strong>Sex</strong></td><td>M</td><td>M</td><td>M</td><td>M</td><td>M</td><td>M</td><td>M</td><td>M</td><td>M</td><td>M</td><td>...</td></tr><tr><td>&nbsp;</td><td>&nbsp;</td><td>&nbsp;</td><td><strong>Subclusters</strong></td><td>3300</td><td>3297</td><td>3297</td><td>3270</td><td>3274</td><td>3275</td><td>3274</td><td>3270</td><td>3275</td><td>3275</td><td>...</td></tr><tr><td>&nbsp;</td><td>&nbsp;</td><td>&nbsp;</td><td><strong>Tissue</strong></td><td>Hypothalamus (HTH) - mammillary region of HTH (HTHma) - tuberal region of HTH - HTHtub</td><td>Hypothalamus (HTH) - mammillary region of HTH (HTHma) - tuberal region of HTH - HTHtub</td><td>Hypothalamus (HTH) - mammillary region of HTH (HTHma) - tuberal region of HTH - HTHtub</td><td>Hypothalamus (HTH) - mammillary region of HTH (HTHma) - tuberal region of HTH - HTHtub</td><td>Hypothalamus (HTH) - mammillary region of HTH (HTHma) - tuberal region of HTH - HTHtub</td><td>Hypothalamus (HTH) - mammillary region of HTH (HTHma) - tuberal region of HTH - HTHtub</td><td>Hypothalamus (HTH) - mammillary region of HTH (HTHma) - tuberal region of HTH - HTHtub</td><td>Hypothalamus (HTH) - mammillary region of HTH (HTHma) - tuberal region of HTH - HTHtub</td><td>Hypothalamus (HTH) - mammillary region of HTH (HTHma) - tuberal region of HTH - HTHtub</td><td>Hypothalamus (HTH) - mammillary region of HTH (HTHma) - tuberal region of HTH - HTHtub</td><td>...</td></tr><tr><td>&nbsp;</td><td>&nbsp;</td><td>&nbsp;</td><td><strong>TotalUMI</strong></td><td>1062.0</td><td>1413.0</td><td>1208.0</td><td>2221.0</td><td>1438.0</td><td>1412.0</td><td>2019.0</td><td>2954.0</td><td>1575.0</td><td>1083.0</td><td>...</td></tr><tr><td><strong>Accession</strong></td><td><strong>Gene</strong></td><td><strong>Valid</strong></td><td>&nbsp;</td><td>&nbsp;</td><td>&nbsp;</td><td>&nbsp;</td><td>&nbsp;</td><td>&nbsp;</td><td>&nbsp;</td><td>&nbsp;</td><td>&nbsp;</td><td>&nbsp;</td><td>&nbsp;</td><td>...</td></tr><tr><td>ENSG00000129910.8</td><td>CDH15</td><td>1</td><td>&nbsp;</td><td>0.0</td><td>0.0</td><td>0.0</td><td>0.0</td><td>0.0</td><td>0.0</td><td>0.0</td><td>0.0</td><td>0.0</td><td>0.0</td><td>...</td></tr><tr><td>ENSG00000259803.7</td><td>SLC22A31</td><td>1</td><td>&nbsp;</td><td>0.0</td><td>0.0</td><td>0.0</td><td>0.0</td><td>0.0</td><td>0.0</td><td>0.0</td><td>0.0</td><td>0.0</td><td>0.0</td><td>...</td></tr><tr><td>ENSG00000139899.11</td><td>CBLN3</td><td>1</td><td>&nbsp;</td><td>0.0</td><td>0.0</td><td>0.0</td><td>0.0</td><td>0.0</td><td>0.0</td><td>0.0</td><td>0.0</td><td>0.0</td><td>0.0</td><td>...</td></tr><tr><td>ENSG00000286891.1</td><td>AC080132.1</td><td>1</td><td>&nbsp;</td><td>0.0</td><td>0.0</td><td>0.0</td><td>0.0</td><td>0.0</td><td>0.0</td><td>0.0</td><td>0.0</td><td>0.0</td><td>0.0</td><td>...</td></tr><tr><td>ENSG00000132677.13</td><td>RHBG</td><td>1</td><td>&nbsp;</td><td>0.0</td><td>0.0</td><td>0.0</td><td>0.0</td><td>0.0</td><td>0.0</td><td>0.0</td><td>0.0</td><td>0.0</td><td>0.0</td><td>...</td></tr><tr><td>ENSG00000174171.6</td><td>AC020659.1</td><td>1</td><td>&nbsp;</td><td>0.0</td><td>0.0</td><td>0.0</td><td>0.0</td><td>0.0</td><td>0.0</td><td>0.0</td><td>0.0</td><td>0.0</td><td>0.0</td><td>...</td></tr><tr><td>ENSG00000287227.1</td><td>AC021698.1</td><td>1</td><td>&nbsp;</td><td>0.0</td><td>0.0</td><td>0.0</td><td>0.0</td><td>0.0</td><td>0.0</td><td>0.0</td><td>0.0</td><td>0.0</td><td>0.0</td><td>...</td></tr><tr><td>ENSG00000286097.1</td><td>AC108517.2</td><td>1</td><td>&nbsp;</td><td>0.0</td><td>0.0</td><td>0.0</td><td>0.0</td><td>0.0</td><td>0.0</td><td>0.0</td><td>0.0</td><td>0.0</td><td>0.0</td><td>...</td></tr><tr><td>ENSG00000287226.1</td><td>AC084740.1</td><td>1</td><td>&nbsp;</td><td>0.0</td><td>0.0</td><td>0.0</td><td>0.0</td><td>0.0</td><td>0.0</td><td>0.0</td><td>0.0</td><td>0.0</td><td>0.0</td><td>...</td></tr><tr><td>ENSG00000257242.8</td><td>LINC01619</td><td>1</td><td>&nbsp;</td><td>0.0</td><td>0.0</td><td>0.0</td><td>0.0</td><td>0.0</td><td>0.0</td><td>0.0</td><td>0.0</td><td>0.0</td><td>0.0</td><td>...</td></tr><tr><td>...</td><td>...</td><td>...</td><td>...</td><td>...</td><td>...</td><td>...</td><td>...</td><td>...</td><td>...</td><td>...</td><td>...</td><td>...</td><td>...</td><td>...</td></tr></table>"
      ],
      "text/plain": [
       "<loompy.loompy.LoomConnection at 0x7f0951b56c90>"
      ]
     },
     "execution_count": 12,
     "metadata": {},
     "output_type": "execute_result"
    }
   ],
   "source": [
    "ds = loompy.connect(all_hypo_path)\n",
    "ds"
   ]
  },
  {
   "cell_type": "code",
   "execution_count": 13,
   "id": "0e78f33f-b990-41a6-928b-ea36d9dc099f",
   "metadata": {},
   "outputs": [],
   "source": [
    "ds.close()"
   ]
  },
  {
   "cell_type": "code",
   "execution_count": 46,
   "id": "16f086c0-1a96-4c1e-b628-e5db8c413464",
   "metadata": {},
   "outputs": [],
   "source": [
    "# generate mapper from original to new cluster\n",
    "cluster_mapper = {}\n",
    "for i in range(meta.shape[0]):\n",
    "    cluster_mapper[i] = new_clusters[i]"
   ]
  },
  {
   "cell_type": "code",
   "execution_count": 47,
   "id": "7dd849f0-7b05-4152-8636-f9743f28c71a",
   "metadata": {},
   "outputs": [],
   "source": [
    "with loompy.connect(all_hypo_path) as loom:\n",
    "    loom_bcs = loom.ca['CellID']\n",
    "    loom_clusters = loom.ca['Clusters']\n",
    "    loom_genes = loom.ra['Gene']"
   ]
  },
  {
   "cell_type": "code",
   "execution_count": 48,
   "id": "77662c16-6a72-4d1e-8e27-60c5d8432279",
   "metadata": {},
   "outputs": [],
   "source": [
    "barcodes_by_cluster = {}\n",
    "for i, bc in enumerate(loom_bcs):\n",
    "    loom_cluster = loom_clusters[i]\n",
    "    mapped_cluster = cluster_mapper[loom_cluster]\n",
    "    if mapped_cluster in barcodes_by_cluster.keys():\n",
    "        barcodes_by_cluster[mapped_cluster].append(bc)\n",
    "    else:\n",
    "        barcodes_by_cluster[mapped_cluster] = [bc]"
   ]
  },
  {
   "cell_type": "code",
   "execution_count": 49,
   "id": "479e43c4-33fb-45e5-ad9d-9a9f58bb56e0",
   "metadata": {},
   "outputs": [
    {
     "data": {
      "text/plain": [
       "20320"
      ]
     },
     "execution_count": 49,
     "metadata": {},
     "output_type": "execute_result"
    }
   ],
   "source": [
    "max([len(x) for x in barcodes_by_cluster.values()])"
   ]
  },
  {
   "cell_type": "code",
   "execution_count": 50,
   "id": "5013d036-d93b-4ca7-a92b-d875ef67d51a",
   "metadata": {},
   "outputs": [
    {
     "data": {
      "text/plain": [
       "1"
      ]
     },
     "execution_count": 50,
     "metadata": {},
     "output_type": "execute_result"
    }
   ],
   "source": [
    "min([len(x) for x in barcodes_by_cluster.values()])"
   ]
  },
  {
   "cell_type": "code",
   "execution_count": 51,
   "id": "a88a8010-b6f3-4661-bd51-937c76ed1d53",
   "metadata": {},
   "outputs": [],
   "source": [
    "all_genes = [gene for sublist in herb_genes.values() for gene in sublist]"
   ]
  },
  {
   "cell_type": "code",
   "execution_count": 52,
   "id": "6860cc25-fd81-48df-bcc5-ce9d599c0959",
   "metadata": {},
   "outputs": [
    {
     "data": {
      "text/plain": [
       "64"
      ]
     },
     "execution_count": 52,
     "metadata": {},
     "output_type": "execute_result"
    }
   ],
   "source": [
    "len(all_genes)"
   ]
  },
  {
   "cell_type": "code",
   "execution_count": 53,
   "id": "848309f1-4f24-4a2a-b42c-b0eda569b922",
   "metadata": {},
   "outputs": [],
   "source": [
    "# get boolean idx for genes we care about\n",
    "# and get those genes out of the mtx\n",
    "# loompy only allows for one mask at a time\n",
    "all_genes = [gene for sublist in herb_genes.values() for gene in sublist]\n",
    "gene_mask = np.array([True if gene in all_genes else False for gene in loom_genes])\n",
    "with loompy.connect(all_hypo_path) as loom:\n",
    "    herb_gene_exp = loom[gene_mask, :]"
   ]
  },
  {
   "cell_type": "code",
   "execution_count": 66,
   "id": "d0e14f90-5eae-497a-a5ea-9d5f80b8190d",
   "metadata": {},
   "outputs": [],
   "source": [
    "ordered_genes = []\n",
    "for gene in loom_genes:\n",
    "    if gene in all_genes:\n",
    "        ordered_genes.append(gene)"
   ]
  },
  {
   "cell_type": "code",
   "execution_count": 54,
   "id": "fd2748c5-022e-464b-bf41-4a6ff793c15d",
   "metadata": {},
   "outputs": [
    {
     "data": {
      "text/plain": [
       "(64, 134471)"
      ]
     },
     "execution_count": 54,
     "metadata": {},
     "output_type": "execute_result"
    }
   ],
   "source": [
    "herb_gene_exp.shape"
   ]
  },
  {
   "cell_type": "code",
   "execution_count": 55,
   "id": "b8ae2cb7-dfd5-4085-a339-aa2c5bd815fa",
   "metadata": {},
   "outputs": [],
   "source": [
    "tmp1, tmp2 = np.unique(all_genes, return_counts=True)\n",
    "for i, gene in enumerate(tmp1):\n",
    "    break\n",
    "    print(f'{gene}: {tmp2[i]}')"
   ]
  },
  {
   "cell_type": "code",
   "execution_count": 56,
   "id": "d1ec7391-c907-4e7a-bc6b-539518581493",
   "metadata": {},
   "outputs": [],
   "source": [
    "# this will not go in order of keys since its a dict\n",
    "exp_by_cluster = {}\n",
    "for cluster, bcs in barcodes_by_cluster.items():\n",
    "    #print(cluster)\n",
    "    bc_mask = np.array([True if bc in bcs else False for bc in loom_bcs])\n",
    "    exp = herb_gene_exp[:, bc_mask]\n",
    "    exp = np.log(exp + 1)\n",
    "    exp_by_cluster[cluster] = np.mean(exp, axis=1)"
   ]
  },
  {
   "cell_type": "code",
   "execution_count": 57,
   "id": "52abf12c-a806-4b83-9f65-4963b80157f9",
   "metadata": {},
   "outputs": [
    {
     "data": {
      "text/plain": [
       "230"
      ]
     },
     "execution_count": 57,
     "metadata": {},
     "output_type": "execute_result"
    }
   ],
   "source": [
    "len(exp_by_cluster.keys())"
   ]
  },
  {
   "cell_type": "code",
   "execution_count": 58,
   "id": "95faf10d-2e8b-4e92-bf8d-e2b4009ca2de",
   "metadata": {},
   "outputs": [],
   "source": [
    "# combine data column-wise and keep track of which cluster is which\n",
    "data = np.empty((len(all_genes), len(exp_by_cluster.keys())), dtype=float)\n",
    "cluster_names = []\n",
    "col_idx = 0\n",
    "for cluster, col_data in exp_by_cluster.items():\n",
    "    cluster_names.append(cluster)\n",
    "    data[:, col_idx] = col_data\n",
    "    col_idx += 1"
   ]
  },
  {
   "cell_type": "code",
   "execution_count": 91,
   "id": "b2572c54-4130-4e0a-9d38-de66a93b318b",
   "metadata": {},
   "outputs": [
    {
     "name": "stdout",
     "output_type": "stream",
     "text": [
      "258\n",
      "32\n"
     ]
    }
   ],
   "source": [
    "# for clusters 266 and 138, what numba cells?\n",
    "print(len(barcodes_by_cluster[266]))\n",
    "print(len(barcodes_by_cluster[138]))"
   ]
  },
  {
   "cell_type": "markdown",
   "id": "20c03ef6-5f38-400c-a485-085ad43dcbb0",
   "metadata": {},
   "source": [
    "### Heatmap"
   ]
  },
  {
   "cell_type": "code",
   "execution_count": 86,
   "id": "1550a12b-559c-40c6-b828-5fd1da46e00a",
   "metadata": {},
   "outputs": [],
   "source": [
    "# subsetting to where glp1r mean > 0\n",
    "glp1r_row_idx = ordered_genes.index('GLP1R')\n",
    "glp1r_exp = data[48, :]\n",
    "glp1r_gv0_idx = glp1r_exp > 0\n",
    "glp1r_data = data[:, glp1r_gv0_idx]\n",
    "cols = np.array(cluster_names)[glp1r_gv0_idx]\n",
    "df = pd.DataFrame(glp1r_data, rows, cols)"
   ]
  },
  {
   "cell_type": "code",
   "execution_count": 68,
   "id": "57952a88-782f-455a-ada2-af0dc535d142",
   "metadata": {},
   "outputs": [],
   "source": [
    "rows = ordered_genes\n",
    "cols = cluster_names\n",
    "df = pd.DataFrame(data, rows, cols)"
   ]
  },
  {
   "cell_type": "code",
   "execution_count": 85,
   "id": "1f16352c-1219-4317-831d-ef468f61ee11",
   "metadata": {},
   "outputs": [
    {
     "data": {
      "text/plain": [
       "99"
      ]
     },
     "execution_count": 85,
     "metadata": {},
     "output_type": "execute_result"
    }
   ],
   "source": [
    "len(cols)"
   ]
  },
  {
   "cell_type": "code",
   "execution_count": 84,
   "id": "b998ea7b-1f94-4a29-a6f3-1af7b43453d8",
   "metadata": {},
   "outputs": [
    {
     "data": {
      "text/plain": [
       "(64, 99)"
      ]
     },
     "execution_count": 84,
     "metadata": {},
     "output_type": "execute_result"
    }
   ],
   "source": [
    "glp1r_data.shape"
   ]
  },
  {
   "cell_type": "code",
   "execution_count": null,
   "id": "65e107d4-87f9-44a5-a7eb-381105d17c5b",
   "metadata": {},
   "outputs": [],
   "source": []
  },
  {
   "cell_type": "code",
   "execution_count": 87,
   "id": "9abadfff-55ae-48b4-95c2-04bcebd9fe58",
   "metadata": {},
   "outputs": [
    {
     "data": {
      "image/png": "[encoded data removed]",
      "text/plain": [
       "<Figure size 1000x1000 with 4 Axes>"
      ]
     },
     "metadata": {},
     "output_type": "display_data"
    }
   ],
   "source": [
    "out_path = '/lustre/orion/syb111/proj-shared/Personal/jmerlet/projects/nemo/plots/glp1r_gv0.png'\n",
    "plot = sns.clustermap(df, yticklabels=1, xticklabels=1)\n",
    "plot.ax_heatmap.set_xticklabels(plot.ax_heatmap.get_xmajorticklabels(), fontsize=3)\n",
    "plt.savefig(out_path, dpi=300)\n",
    "plt.show()"
   ]
  },
  {
   "cell_type": "code",
   "execution_count": 162,
   "id": "dcade293-453b-4984-94d3-309c6f6a3afb",
   "metadata": {},
   "outputs": [
    {
     "data": {
      "image/png": "[encoded data removed]",
      "text/plain": [
       "<Figure size 1200x800 with 1 Axes>"
      ]
     },
     "metadata": {},
     "output_type": "display_data"
    }
   ],
   "source": [
    "rows = all_genes\n",
    "cols = cluster_names\n",
    "\n",
    "fig, ax = plt.subplots(figsize=(12, 8))\n",
    "im = ax.imshow(data)\n",
    "\n",
    "# Show all ticks and label them with the respective list entries\n",
    "ax.set_xticks(np.arange(len(cols)), labels=cols, fontsize=4)\n",
    "ax.set_yticks(np.arange(len(rows)), labels=rows, fontsize=4)\n",
    "\n",
    "# Rotate the tick labels and set their alignment.\n",
    "plt.setp(ax.get_xticklabels(), rotation=90, ha=\"right\",\n",
    "         rotation_mode=\"anchor\")\n",
    "\n",
    "fig.tight_layout()\n",
    "plt.show()"
   ]
  },
  {
   "cell_type": "code",
   "execution_count": null,
   "id": "ac838d6a-a024-46bf-9738-2561967ebc6e",
   "metadata": {},
   "outputs": [],
   "source": []
  }
 ],
 "metadata": {
  "kernelspec": {
   "display_name": "Python 3 (ipykernel)",
   "language": "python",
   "name": "python3"
  },
  "language_info": {
   "codemirror_mode": {
    "name": "ipython",
    "version": 3
   },
   "file_extension": ".py",
   "mimetype": "text/x-python",
   "name": "python",
   "nbconvert_exporter": "python",
   "pygments_lexer": "ipython3",
   "version": "3.12.2"
  }
 },
 "nbformat": 4,
 "nbformat_minor": 5
}
